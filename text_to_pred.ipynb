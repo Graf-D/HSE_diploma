{
 "cells": [
  {
   "cell_type": "code",
   "execution_count": 10,
   "id": "plastic-trick",
   "metadata": {},
   "outputs": [],
   "source": [
    "import re\n",
    "import string\n",
    "import pickle\n",
    "import joblib\n",
    "\n",
    "import numpy as np\n",
    "from sklearn.feature_extraction.text import TfidfVectorizer\n",
    "from sklearn.svm import LinearSVC"
   ]
  },
  {
   "cell_type": "code",
   "execution_count": 2,
   "id": "minor-privacy",
   "metadata": {},
   "outputs": [],
   "source": [
    "def remove_xml_tags(text):\n",
    "    pattern = r\"<.*?>\"\n",
    "    return re.sub(pattern, \" \", text)\n",
    "\n",
    "def remove_punct(text):\n",
    "    table = str.maketrans({key: \" \" for key in string.punctuation})\n",
    "    return text.translate(table)\n",
    "\n",
    "def clean_text(text):\n",
    "    # removes xml tags and punctuation\n",
    "    # (in that order, bc <> are used to find xml tags)\n",
    "    # and keeps only one space in a row\n",
    "    return re.sub(\n",
    "        \"\\s+\",\n",
    "        \" \",\n",
    "        remove_punct(\n",
    "            remove_xml_tags(\n",
    "                text.lower()\n",
    "            )\n",
    "        )\n",
    "    ).strip()"
   ]
  },
  {
   "cell_type": "code",
   "execution_count": 5,
   "id": "massive-humor",
   "metadata": {},
   "outputs": [
    {
     "data": {
      "application/vnd.jupyter.widget-view+json": {
       "model_id": "0e73cad493994085aa452d89e21d7b95",
       "version_major": 2,
       "version_minor": 0
      },
      "text/plain": [
       "HBox(children=(FloatProgress(value=0.0, max=12.0), HTML(value='')))"
      ]
     },
     "metadata": {},
     "output_type": "display_data"
    },
    {
     "name": "stdout",
     "output_type": "stream",
     "text": [
      "\n"
     ]
    }
   ],
   "source": [
    "from tqdm.notebook import tqdm\n",
    "\n",
    "FIELDS = [\n",
    "    \"Art\",\n",
    "    \"Biology\",\n",
    "    \"Business\",\n",
    "    \"Chemistry\",\n",
    "    \"Geology\",\n",
    "    \"Humanities\",\n",
    "    \"Math\",\n",
    "    \"Medicine\",\n",
    "    \"Physics\",\n",
    "    \"Psychology\",\n",
    "    \"Social\",\n",
    "    \"Tech\"\n",
    "]\n",
    "field_svcs = {\n",
    "    field: pickle.load(open(f\"field_svc_en_full_data/field_{field}.pkl\", \"rb\"))\n",
    "    for field in tqdm(FIELDS)\n",
    "}"
   ]
  },
  {
   "cell_type": "code",
   "execution_count": 6,
   "id": "scheduled-skill",
   "metadata": {},
   "outputs": [],
   "source": [
    "vectorizer = joblib.load(\"vectorizer_full.pkl\")"
   ]
  },
  {
   "cell_type": "code",
   "execution_count": 14,
   "id": "resident-bulgarian",
   "metadata": {},
   "outputs": [],
   "source": [
    "def predict_field(text):\n",
    "    transformed = vectorizer.transform([clean_text(text)])\n",
    "    predictions = {}\n",
    "    for field, svc in field_svcs.items():\n",
    "        predictions[field] = svc.predict_proba(transformed)[0][1]\n",
    "    return predictions"
   ]
  },
  {
   "cell_type": "code",
   "execution_count": 17,
   "id": "answering-fantasy",
   "metadata": {},
   "outputs": [],
   "source": [
    "text = \"The dominant sequence transduction models are based on complex recurrent or convolutional neural networks in an encoder-decoder configuration. The best performing models also connect the encoder and decoder through an attention mechanism. We propose a new simple network architecture, the Transformer, based solely on attention mechanisms, dispensing with recurrence and convolutions entirely. Experiments on two machine translation tasks show these models to be superior in quality while being more parallelizable and requiring significantly less time to train. Our model achieves 28.4 BLEU on the WMT 2014 English-to-German translation task, improving over the existing best results, including ensembles by over 2 BLEU. On the WMT 2014 English-to-French translation task, our model establishes a new single-model state-of-the-art BLEU score of 41.8 after training for 3.5 days on eight GPUs, a small fraction of the training costs of the best models from the literature. We show that the Transformer generalizes well to other tasks by applying it successfully to English constituency parsing both with large and limited training data.\""
   ]
  },
  {
   "cell_type": "code",
   "execution_count": 19,
   "id": "joint-concern",
   "metadata": {},
   "outputs": [
    {
     "data": {
      "text/plain": [
       "{'Art': 0.02619606320670933,\n",
       " 'Biology': 0.0202904159786579,\n",
       " 'Business': 0.004704699267283964,\n",
       " 'Chemistry': 0.08391154872454226,\n",
       " 'Geology': 0.0010244492484677073,\n",
       " 'Humanities': 0.012127997351935631,\n",
       " 'Math': 0.08715545037870429,\n",
       " 'Medicine': 0.12722607902983302,\n",
       " 'Physics': 0.07080327081284618,\n",
       " 'Psychology': 0.0028381707704305844,\n",
       " 'Social': 0.011290741314430816,\n",
       " 'Tech': 0.654763359150955}"
      ]
     },
     "execution_count": 19,
     "metadata": {},
     "output_type": "execute_result"
    }
   ],
   "source": [
    "#%%time\n",
    "predict_field(text)"
   ]
  },
  {
   "cell_type": "code",
   "execution_count": null,
   "id": "incredible-lingerie",
   "metadata": {},
   "outputs": [],
   "source": []
  }
 ],
 "metadata": {
  "kernelspec": {
   "display_name": "Python 3",
   "language": "python",
   "name": "python3"
  },
  "language_info": {
   "codemirror_mode": {
    "name": "ipython",
    "version": 3
   },
   "file_extension": ".py",
   "mimetype": "text/x-python",
   "name": "python",
   "nbconvert_exporter": "python",
   "pygments_lexer": "ipython3",
   "version": "3.8.6"
  }
 },
 "nbformat": 4,
 "nbformat_minor": 5
}

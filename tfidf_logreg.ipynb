{
 "cells": [
  {
   "cell_type": "markdown",
   "metadata": {},
   "source": [
    "Tf-idf с биграммами и логистическую регрессию поверх этого, свою для каждого класса. И дальше просто для каждого класса в отдельности померить качество (accuracy, f-меру), и глянуть их средние по всем классам."
   ]
  },
  {
   "cell_type": "code",
   "execution_count": 3,
   "metadata": {},
   "outputs": [],
   "source": [
    "import pandas as pd\n",
    "import numpy as np\n",
    "import matplotlib.pyplot as plt\n",
    "\n",
    "import pickle\n",
    "from tqdm import tqdm\n",
    "\n",
    "from sklearn.model_selection import train_test_split\n",
    "\n",
    "from sklearn.feature_extraction.text import TfidfVectorizer\n",
    "from sklearn.linear_model import LogisticRegression\n",
    "\n",
    "from sklearn.metrics import classification_report as clf_report\n",
    "from sklearn.metrics import (\n",
    "    accuracy_score,\n",
    "    recall_score,\n",
    "    precision_score,\n",
    "    f1_score\n",
    ")"
   ]
  },
  {
   "cell_type": "markdown",
   "metadata": {
    "tags": []
   },
   "source": [
    "# Только field"
   ]
  },
  {
   "cell_type": "code",
   "execution_count": null,
   "metadata": {},
   "outputs": [],
   "source": [
    "df = pd.read_json(\"filtered_and_field_1.json\")\n",
    "df.head()"
   ]
  },
  {
   "cell_type": "code",
   "execution_count": 3,
   "metadata": {},
   "outputs": [
    {
     "data": {
      "text/plain": [
       "(2118438, 19)"
      ]
     },
     "execution_count": 3,
     "metadata": {},
     "output_type": "execute_result"
    }
   ],
   "source": [
    "df.shape"
   ]
  },
  {
   "cell_type": "code",
   "execution_count": 4,
   "metadata": {},
   "outputs": [
    {
     "data": {
      "text/plain": [
       "['field_Art',\n",
       " 'field_Biology',\n",
       " 'field_Business',\n",
       " 'field_Chemistry',\n",
       " 'field_Geology',\n",
       " 'field_Humanities',\n",
       " 'field_Math',\n",
       " 'field_Medicine',\n",
       " 'field_Physics',\n",
       " 'field_Psychology',\n",
       " 'field_Social',\n",
       " 'field_Tech']"
      ]
     },
     "execution_count": 4,
     "metadata": {},
     "output_type": "execute_result"
    }
   ],
   "source": [
    "target = [column for column in df.columns if \"field_\" in column]\n",
    "target"
   ]
  },
  {
   "cell_type": "code",
   "execution_count": 12,
   "metadata": {},
   "outputs": [],
   "source": [
    "X_train, X_test, y_train, y_test = train_test_split(df[\"cleaned_abstract\"], df[target],\n",
    "                                                   train_size=0.8, test_size=0.2,\n",
    "                                                   random_state=42)"
   ]
  },
  {
   "cell_type": "code",
   "execution_count": 13,
   "metadata": {},
   "outputs": [
    {
     "data": {
      "text/plain": [
       "((1694750,), (423688,))"
      ]
     },
     "execution_count": 13,
     "metadata": {},
     "output_type": "execute_result"
    }
   ],
   "source": [
    "X_train.shape, X_test.shape"
   ]
  },
  {
   "cell_type": "code",
   "execution_count": 14,
   "metadata": {},
   "outputs": [],
   "source": [
    "y_train_classes = {\n",
    "    field: y_train[field] for field in target\n",
    "}"
   ]
  },
  {
   "cell_type": "code",
   "execution_count": 15,
   "metadata": {},
   "outputs": [],
   "source": [
    "vectorizer = TfidfVectorizer(ngram_range=(1, 2))\n",
    "X_train_transformed = vectorizer.fit_transform(X_train)"
   ]
  },
  {
   "cell_type": "code",
   "execution_count": 16,
   "metadata": {},
   "outputs": [
    {
     "name": "stdout",
     "output_type": "stream",
     "text": [
      "Fitting field_Art logistic regression\n",
      "Fitting field_Biology logistic regression\n",
      "Fitting field_Business logistic regression\n",
      "Fitting field_Chemistry logistic regression\n",
      "Fitting field_Geology logistic regression\n",
      "Fitting field_Humanities logistic regression\n",
      "Fitting field_Math logistic regression\n",
      "Fitting field_Medicine logistic regression\n",
      "Fitting field_Physics logistic regression\n",
      "Fitting field_Psychology logistic regression\n",
      "Fitting field_Social logistic regression\n",
      "Fitting field_Tech logistic regression\n"
     ]
    }
   ],
   "source": [
    "logits = {\n",
    "    field: LogisticRegression(n_jobs=-1, max_iter=1_000_000, random_state=123) for field in target\n",
    "}\n",
    "\n",
    "for field, logit in logits.items():\n",
    "    print(f\"Fitting {field} logistic regression\")\n",
    "    logit.fit(X_train_transformed, y_train_classes[field])"
   ]
  },
  {
   "cell_type": "code",
   "execution_count": 17,
   "metadata": {},
   "outputs": [],
   "source": [
    "X_test_transformed = vectorizer.transform(X_test)"
   ]
  },
  {
   "cell_type": "code",
   "execution_count": null,
   "metadata": {},
   "outputs": [
    {
     "name": "stdout",
     "output_type": "stream",
     "text": [
      "FIELD_ART\n",
      "              precision    recall  f1-score   support\n",
      "\n",
      "           0       0.99      1.00      1.00    419220\n",
      "           1       0.82      0.32      0.46      4468\n",
      "\n",
      "    accuracy                           0.99    423688\n",
      "   macro avg       0.91      0.66      0.73    423688\n",
      "weighted avg       0.99      0.99      0.99    423688\n",
      "\n",
      "\n",
      "FIELD_BIOLOGY\n",
      "              precision    recall  f1-score   support\n",
      "\n",
      "           0       0.91      0.95      0.93    290398\n",
      "           1       0.88      0.80      0.84    133290\n",
      "\n",
      "    accuracy                           0.90    423688\n",
      "   macro avg       0.89      0.88      0.88    423688\n",
      "weighted avg       0.90      0.90      0.90    423688\n",
      "\n",
      "\n",
      "FIELD_BUSINESS\n",
      "              precision    recall  f1-score   support\n",
      "\n",
      "           0       0.98      1.00      0.99    411821\n",
      "           1       0.75      0.44      0.56     11867\n",
      "\n",
      "    accuracy                           0.98    423688\n",
      "   macro avg       0.87      0.72      0.77    423688\n",
      "weighted avg       0.98      0.98      0.98    423688\n",
      "\n",
      "\n",
      "FIELD_CHEMISTRY\n",
      "              precision    recall  f1-score   support\n",
      "\n",
      "           0       0.93      0.98      0.96    361954\n",
      "           1       0.83      0.58      0.68     61734\n",
      "\n",
      "    accuracy                           0.92    423688\n",
      "   macro avg       0.88      0.78      0.82    423688\n",
      "weighted avg       0.92      0.92      0.92    423688\n",
      "\n",
      "\n",
      "FIELD_GEOLOGY\n",
      "              precision    recall  f1-score   support\n",
      "\n",
      "           0       0.97      0.99      0.98    405845\n",
      "           1       0.71      0.35      0.47     17843\n",
      "\n",
      "    accuracy                           0.97    423688\n",
      "   macro avg       0.84      0.67      0.73    423688\n",
      "weighted avg       0.96      0.97      0.96    423688\n",
      "\n",
      "\n",
      "FIELD_HUMANITIES\n",
      "              precision    recall  f1-score   support\n",
      "\n",
      "           0       0.98      0.99      0.98    385567\n",
      "           1       0.85      0.79      0.82     38121\n",
      "\n",
      "    accuracy                           0.97    423688\n",
      "   macro avg       0.91      0.89      0.90    423688\n",
      "weighted avg       0.97      0.97      0.97    423688\n",
      "\n",
      "\n",
      "FIELD_MATH\n",
      "              precision    recall  f1-score   support\n",
      "\n",
      "           0       0.98      0.99      0.99    403701\n",
      "           1       0.84      0.58      0.69     19987\n",
      "\n",
      "    accuracy                           0.98    423688\n",
      "   macro avg       0.91      0.79      0.84    423688\n",
      "weighted avg       0.97      0.98      0.97    423688\n",
      "\n",
      "\n",
      "FIELD_MEDICINE\n",
      "              precision    recall  f1-score   support\n",
      "\n",
      "           0       0.92      0.94      0.93    277320\n",
      "           1       0.88      0.85      0.86    146368\n",
      "\n",
      "    accuracy                           0.91    423688\n",
      "   macro avg       0.90      0.89      0.90    423688\n",
      "weighted avg       0.91      0.91      0.91    423688\n",
      "\n",
      "\n",
      "FIELD_PHYSICS\n",
      "              precision    recall  f1-score   support\n",
      "\n",
      "           0       0.95      0.97      0.96    328101\n",
      "           1       0.87      0.82      0.84     95587\n",
      "\n",
      "    accuracy                           0.93    423688\n",
      "   macro avg       0.91      0.89      0.90    423688\n",
      "weighted avg       0.93      0.93      0.93    423688\n",
      "\n",
      "\n",
      "FIELD_PSYCHOLOGY\n",
      "              precision    recall  f1-score   support\n",
      "\n",
      "           0       0.98      1.00      0.99    408986\n",
      "           1       0.83      0.56      0.67     14702\n",
      "\n",
      "    accuracy                           0.98    423688\n",
      "   macro avg       0.91      0.78      0.83    423688\n",
      "weighted avg       0.98      0.98      0.98    423688\n",
      "\n",
      "\n",
      "FIELD_SOCIAL\n",
      "              precision    recall  f1-score   support\n",
      "\n",
      "           0       0.96      0.99      0.97    394552\n",
      "           1       0.72      0.51      0.60     29136\n",
      "\n",
      "    accuracy                           0.95    423688\n",
      "   macro avg       0.84      0.75      0.79    423688\n",
      "weighted avg       0.95      0.95      0.95    423688\n",
      "\n",
      "\n",
      "FIELD_TECH\n",
      "              precision    recall  f1-score   support\n",
      "\n",
      "           0       0.97      0.99      0.98    407231\n",
      "           1       0.70      0.32      0.44     16457\n",
      "\n",
      "    accuracy                           0.97    423688\n",
      "   macro avg       0.84      0.66      0.71    423688\n",
      "weighted avg       0.96      0.97      0.96    423688\n",
      "\n",
      "\n"
     ]
    }
   ],
   "source": [
    "from sklearn.metrics import classification_report as clf_report\n",
    "\n",
    "for field in target:\n",
    "    print(field.upper())\n",
    "    y_pred = logits[field].predict(X_test_transformed)\n",
    "    print(clf_report(y_test[field], y_pred))\n",
    "    print()"
   ]
  },
  {
   "cell_type": "markdown",
   "metadata": {},
   "source": [
    "# По сабжектам"
   ]
  },
  {
   "cell_type": "code",
   "execution_count": 4,
   "metadata": {},
   "outputs": [
    {
     "data": {
      "text/html": [
       "<div>\n",
       "<style scoped>\n",
       "    .dataframe tbody tr th:only-of-type {\n",
       "        vertical-align: middle;\n",
       "    }\n",
       "\n",
       "    .dataframe tbody tr th {\n",
       "        vertical-align: top;\n",
       "    }\n",
       "\n",
       "    .dataframe thead th {\n",
       "        text-align: right;\n",
       "    }\n",
       "</style>\n",
       "<table border=\"1\" class=\"dataframe\">\n",
       "  <thead>\n",
       "    <tr style=\"text-align: right;\">\n",
       "      <th></th>\n",
       "      <th>DOI</th>\n",
       "      <th>title</th>\n",
       "      <th>abstract</th>\n",
       "      <th>subject</th>\n",
       "      <th>cleaned_abstract</th>\n",
       "      <th>filtered_subject</th>\n",
       "      <th>all_fields</th>\n",
       "      <th>field_Art</th>\n",
       "      <th>field_Biology</th>\n",
       "      <th>field_Business</th>\n",
       "      <th>...</th>\n",
       "      <th>subj_Environmental Science (miscellaneous)</th>\n",
       "      <th>subj_Biological Psychiatry</th>\n",
       "      <th>subj_Gender Studies</th>\n",
       "      <th>subj_Safety, Risk, Reliability and Quality</th>\n",
       "      <th>subj_Urban Studies</th>\n",
       "      <th>subj_Genetics(clinical)</th>\n",
       "      <th>subj_Agricultural and Biological Sciences (miscellaneous)</th>\n",
       "      <th>subj_Museology</th>\n",
       "      <th>subj_Nephrology</th>\n",
       "      <th>subj_Logic</th>\n",
       "    </tr>\n",
       "  </thead>\n",
       "  <tbody>\n",
       "    <tr>\n",
       "      <th>0</th>\n",
       "      <td>10.1163/1568525043083505</td>\n",
       "      <td>aristotle fr. 44 rose: midas and silenus</td>\n",
       "      <td>&lt;jats:sec&gt;&lt;jats:title&gt;Abstract&lt;/jats:title&gt;&lt;ja...</td>\n",
       "      <td>[Classics, Linguistics and Language, Archaeolo...</td>\n",
       "      <td>abstract scholars have identified two supposed...</td>\n",
       "      <td>[Archaeology, Classics, History, Language and ...</td>\n",
       "      <td>[Humanities, Humanities, Humanities, Humanitie...</td>\n",
       "      <td>0</td>\n",
       "      <td>0</td>\n",
       "      <td>0</td>\n",
       "      <td>...</td>\n",
       "      <td>0</td>\n",
       "      <td>0</td>\n",
       "      <td>0</td>\n",
       "      <td>0</td>\n",
       "      <td>0</td>\n",
       "      <td>0</td>\n",
       "      <td>0</td>\n",
       "      <td>0</td>\n",
       "      <td>0</td>\n",
       "      <td>0</td>\n",
       "    </tr>\n",
       "    <tr>\n",
       "      <th>1</th>\n",
       "      <td>10.1163/1568525043083532</td>\n",
       "      <td>loca loquuntur. lucretius' explanation of the ...</td>\n",
       "      <td>&lt;jats:sec&gt;&lt;jats:title&gt;Abstract&lt;/jats:title&gt;&lt;ja...</td>\n",
       "      <td>[Classics, Linguistics and Language, Archaeolo...</td>\n",
       "      <td>abstract a discussion of the second part of lu...</td>\n",
       "      <td>[Archaeology, Classics, History, Language and ...</td>\n",
       "      <td>[Humanities, Humanities, Humanities, Humanitie...</td>\n",
       "      <td>0</td>\n",
       "      <td>0</td>\n",
       "      <td>0</td>\n",
       "      <td>...</td>\n",
       "      <td>0</td>\n",
       "      <td>0</td>\n",
       "      <td>0</td>\n",
       "      <td>0</td>\n",
       "      <td>0</td>\n",
       "      <td>0</td>\n",
       "      <td>0</td>\n",
       "      <td>0</td>\n",
       "      <td>0</td>\n",
       "      <td>0</td>\n",
       "    </tr>\n",
       "    <tr>\n",
       "      <th>2</th>\n",
       "      <td>10.1163/1568525043083541</td>\n",
       "      <td>poverty and demography: the case of the gracch...</td>\n",
       "      <td>&lt;jats:sec&gt;&lt;jats:title&gt;Abstract&lt;/jats:title&gt;&lt;ja...</td>\n",
       "      <td>[Classics, Linguistics and Language, Archaeolo...</td>\n",
       "      <td>abstract according to many ancient historians ...</td>\n",
       "      <td>[Archaeology, Classics, History, Language and ...</td>\n",
       "      <td>[Humanities, Humanities, Humanities, Humanitie...</td>\n",
       "      <td>0</td>\n",
       "      <td>0</td>\n",
       "      <td>0</td>\n",
       "      <td>...</td>\n",
       "      <td>0</td>\n",
       "      <td>0</td>\n",
       "      <td>0</td>\n",
       "      <td>0</td>\n",
       "      <td>0</td>\n",
       "      <td>0</td>\n",
       "      <td>0</td>\n",
       "      <td>0</td>\n",
       "      <td>0</td>\n",
       "      <td>0</td>\n",
       "    </tr>\n",
       "    <tr>\n",
       "      <th>3</th>\n",
       "      <td>10.1163/1568525043083514</td>\n",
       "      <td>old persian in athens revisited (ar. ach. 100)</td>\n",
       "      <td>&lt;jats:sec&gt;&lt;jats:title&gt;Abstract&lt;/jats:title&gt;&lt;ja...</td>\n",
       "      <td>[Classics, Linguistics and Language, Archaeolo...</td>\n",
       "      <td>abstract the old persian line in aristophanes ...</td>\n",
       "      <td>[Archaeology, Classics, History, Language and ...</td>\n",
       "      <td>[Humanities, Humanities, Humanities, Humanitie...</td>\n",
       "      <td>0</td>\n",
       "      <td>0</td>\n",
       "      <td>0</td>\n",
       "      <td>...</td>\n",
       "      <td>0</td>\n",
       "      <td>0</td>\n",
       "      <td>0</td>\n",
       "      <td>0</td>\n",
       "      <td>0</td>\n",
       "      <td>0</td>\n",
       "      <td>0</td>\n",
       "      <td>0</td>\n",
       "      <td>0</td>\n",
       "      <td>0</td>\n",
       "    </tr>\n",
       "    <tr>\n",
       "      <th>4</th>\n",
       "      <td>10.1163/1568527053083412</td>\n",
       "      <td>religion and violence: what can sociology offer?</td>\n",
       "      <td>&lt;jats:sec&gt;&lt;jats:title&gt;Abstract&lt;/jats:title&gt;&lt;ja...</td>\n",
       "      <td>[Religious studies, History]</td>\n",
       "      <td>abstract this essay presents a sketch of a soc...</td>\n",
       "      <td>[History, Religious studies]</td>\n",
       "      <td>[Humanities, Humanities]</td>\n",
       "      <td>0</td>\n",
       "      <td>0</td>\n",
       "      <td>0</td>\n",
       "      <td>...</td>\n",
       "      <td>0</td>\n",
       "      <td>0</td>\n",
       "      <td>0</td>\n",
       "      <td>0</td>\n",
       "      <td>0</td>\n",
       "      <td>0</td>\n",
       "      <td>0</td>\n",
       "      <td>0</td>\n",
       "      <td>0</td>\n",
       "      <td>0</td>\n",
       "    </tr>\n",
       "  </tbody>\n",
       "</table>\n",
       "<p>5 rows × 219 columns</p>\n",
       "</div>"
      ],
      "text/plain": [
       "                        DOI  \\\n",
       "0  10.1163/1568525043083505   \n",
       "1  10.1163/1568525043083532   \n",
       "2  10.1163/1568525043083541   \n",
       "3  10.1163/1568525043083514   \n",
       "4  10.1163/1568527053083412   \n",
       "\n",
       "                                               title  \\\n",
       "0           aristotle fr. 44 rose: midas and silenus   \n",
       "1  loca loquuntur. lucretius' explanation of the ...   \n",
       "2  poverty and demography: the case of the gracch...   \n",
       "3     old persian in athens revisited (ar. ach. 100)   \n",
       "4   religion and violence: what can sociology offer?   \n",
       "\n",
       "                                            abstract  \\\n",
       "0  <jats:sec><jats:title>Abstract</jats:title><ja...   \n",
       "1  <jats:sec><jats:title>Abstract</jats:title><ja...   \n",
       "2  <jats:sec><jats:title>Abstract</jats:title><ja...   \n",
       "3  <jats:sec><jats:title>Abstract</jats:title><ja...   \n",
       "4  <jats:sec><jats:title>Abstract</jats:title><ja...   \n",
       "\n",
       "                                             subject  \\\n",
       "0  [Classics, Linguistics and Language, Archaeolo...   \n",
       "1  [Classics, Linguistics and Language, Archaeolo...   \n",
       "2  [Classics, Linguistics and Language, Archaeolo...   \n",
       "3  [Classics, Linguistics and Language, Archaeolo...   \n",
       "4                       [Religious studies, History]   \n",
       "\n",
       "                                    cleaned_abstract  \\\n",
       "0  abstract scholars have identified two supposed...   \n",
       "1  abstract a discussion of the second part of lu...   \n",
       "2  abstract according to many ancient historians ...   \n",
       "3  abstract the old persian line in aristophanes ...   \n",
       "4  abstract this essay presents a sketch of a soc...   \n",
       "\n",
       "                                    filtered_subject  \\\n",
       "0  [Archaeology, Classics, History, Language and ...   \n",
       "1  [Archaeology, Classics, History, Language and ...   \n",
       "2  [Archaeology, Classics, History, Language and ...   \n",
       "3  [Archaeology, Classics, History, Language and ...   \n",
       "4                       [History, Religious studies]   \n",
       "\n",
       "                                          all_fields  field_Art  \\\n",
       "0  [Humanities, Humanities, Humanities, Humanitie...          0   \n",
       "1  [Humanities, Humanities, Humanities, Humanitie...          0   \n",
       "2  [Humanities, Humanities, Humanities, Humanitie...          0   \n",
       "3  [Humanities, Humanities, Humanities, Humanitie...          0   \n",
       "4                           [Humanities, Humanities]          0   \n",
       "\n",
       "   field_Biology  field_Business  ...  \\\n",
       "0              0               0  ...   \n",
       "1              0               0  ...   \n",
       "2              0               0  ...   \n",
       "3              0               0  ...   \n",
       "4              0               0  ...   \n",
       "\n",
       "   subj_Environmental Science (miscellaneous)  subj_Biological Psychiatry  \\\n",
       "0                                           0                           0   \n",
       "1                                           0                           0   \n",
       "2                                           0                           0   \n",
       "3                                           0                           0   \n",
       "4                                           0                           0   \n",
       "\n",
       "   subj_Gender Studies  subj_Safety, Risk, Reliability and Quality  \\\n",
       "0                    0                                           0   \n",
       "1                    0                                           0   \n",
       "2                    0                                           0   \n",
       "3                    0                                           0   \n",
       "4                    0                                           0   \n",
       "\n",
       "   subj_Urban Studies  subj_Genetics(clinical)  \\\n",
       "0                   0                        0   \n",
       "1                   0                        0   \n",
       "2                   0                        0   \n",
       "3                   0                        0   \n",
       "4                   0                        0   \n",
       "\n",
       "   subj_Agricultural and Biological Sciences (miscellaneous)  subj_Museology  \\\n",
       "0                                                  0                       0   \n",
       "1                                                  0                       0   \n",
       "2                                                  0                       0   \n",
       "3                                                  0                       0   \n",
       "4                                                  0                       0   \n",
       "\n",
       "   subj_Nephrology  subj_Logic  \n",
       "0                0           0  \n",
       "1                0           0  \n",
       "2                0           0  \n",
       "3                0           0  \n",
       "4                0           0  \n",
       "\n",
       "[5 rows x 219 columns]"
      ]
     },
     "execution_count": 4,
     "metadata": {},
     "output_type": "execute_result"
    }
   ],
   "source": [
    "df = pd.read_pickle(\"looong_df_subjects.pkl\")\n",
    "df.head()"
   ]
  },
  {
   "cell_type": "code",
   "execution_count": 5,
   "metadata": {},
   "outputs": [],
   "source": [
    "target = [column for column in df.columns if \"subj_\" in column]\n",
    "X_train, X_test, y_train, y_test = train_test_split(df[\"cleaned_abstract\"], df[target],\n",
    "                                                   train_size=0.8, test_size=0.2,\n",
    "                                                   random_state=42)"
   ]
  },
  {
   "cell_type": "code",
   "execution_count": 6,
   "metadata": {},
   "outputs": [
    {
     "data": {
      "text/plain": [
       "(1694750,)"
      ]
     },
     "execution_count": 6,
     "metadata": {},
     "output_type": "execute_result"
    }
   ],
   "source": [
    "X_train.shape"
   ]
  },
  {
   "cell_type": "code",
   "execution_count": 7,
   "metadata": {},
   "outputs": [],
   "source": [
    "y_train_classes = {\n",
    "    subj: y_train[subj] for subj in target\n",
    "}"
   ]
  },
  {
   "cell_type": "code",
   "execution_count": null,
   "metadata": {},
   "outputs": [],
   "source": [
    "vectorizer = TfidfVectorizer(ngram_range=(1, 2))\n",
    "X_train_transformed = vectorizer.fit_transform(X_train)"
   ]
  },
  {
   "cell_type": "code",
   "execution_count": null,
   "metadata": {},
   "outputs": [],
   "source": [
    "from tqdm import tqdm\n",
    "\n",
    "logits = {\n",
    "    subj: LogisticRegression(n_jobs=-1, max_iter=1_000_000, random_state=123) for subj in target\n",
    "}\n",
    "\n",
    "for subj, logit in tqdm(logits.items()):\n",
    "    #print(f\"Fitting {subj} logistic regression\")\n",
    "    logit.fit(X_train_transformed, y_train_classes[subj])"
   ]
  },
  {
   "cell_type": "code",
   "execution_count": null,
   "metadata": {},
   "outputs": [],
   "source": [
    "X_test_transformed = vectorizer.transform(X_test)"
   ]
  },
  {
   "cell_type": "code",
   "execution_count": null,
   "metadata": {},
   "outputs": [],
   "source": [
    "accuracy = {}\n",
    "recall = {}\n",
    "precision = {}\n",
    "f1 = {}\n",
    "\n",
    "accs = []\n",
    "recs = []\n",
    "precs = []\n",
    "f1s = []\n",
    "\n",
    "min_positives = np.arange(start=0.05, stop=0.5, step=0.01)\n",
    "for min_positive in tqdm(min_positives):\n",
    "    for subj in target:\n",
    "        #print(subj.upper())\n",
    "        y_pred = logits[subj].predict_proba(X_test_transformed)\n",
    "        y_pred = [1 if x[1] > min_positive else 0 for x in y_pred]\n",
    "        accuracy[subj] = accuracy_score(y_test[subj], y_pred)\n",
    "        recall[subj] = recall_score(y_test[subj], y_pred, zero_division=0)\n",
    "        precision[subj] = precision_score(y_test[subj], y_pred, zero_division=0)\n",
    "        f1[subj] = f1_score(y_test[subj], y_pred, zero_division=0)\n",
    "    \n",
    "    accs.append(np.mean(list(accuracy.values())))\n",
    "    recs.append(np.mean(list(recall.values())))\n",
    "    precs.append(np.mean(list(precision.values())))\n",
    "    f1s.append(np.mean(list(f1.values())))\n",
    "    \n",
    "    #print(f\"min_positive={min_positive}\")\n",
    "    '''\n",
    "    print(f\"Average accuracy: {np.mean(list(accuracy.values()))}\")\n",
    "    print(f\"Average recall: {np.mean(list(recall.values()))}\")\n",
    "    print(f\"Average precision: {np.mean(list(precision.values()))}\")\n",
    "    print(f\"Average F1-score: {np.mean(list(f1.values()))}\")\n",
    "    print()'''"
   ]
  },
  {
   "cell_type": "code",
   "execution_count": null,
   "metadata": {},
   "outputs": [],
   "source": [
    "fig, axs = plt.subplots(2, 2, figsize=(10, 10))\n",
    "\n",
    "axs[0, 0].plot(min_positives, accs)\n",
    "axs[0, 0].set_title(\"Accuracy\")\n",
    "\n",
    "axs[0, 1].plot(min_positives, recs)\n",
    "axs[0, 1].set_title(\"Recall\")\n",
    "\n",
    "axs[1, 0].plot(min_positives, precs)\n",
    "axs[1, 0].set_title(\"Precision\")\n",
    "\n",
    "axs[1, 1].plot(min_positives, f1s)\n",
    "axs[1, 1].set_title(\"F1-score\")\n",
    "\n",
    "plt.show()"
   ]
  },
  {
   "cell_type": "code",
   "execution_count": null,
   "metadata": {},
   "outputs": [],
   "source": [
    "plt.plot(min_positives[4:], recs[4:], label=\"Recall\")\n",
    "plt.plot(min_positives[4:], precs[4:], label=\"Precision\")\n",
    "plt.plot(min_positives[4:], f1s[4:], label=\"F1-score\")\n",
    "plt.legend()\n",
    "plt.show()"
   ]
  },
  {
   "cell_type": "code",
   "execution_count": null,
   "metadata": {},
   "outputs": [],
   "source": [
    "print(f\"Average accuracy: {np.mean(list(accuracy.values()))}\")\n",
    "print(f\"Average recall: {np.mean(list(recall.values()))}\")\n",
    "print(f\"Average precision: {np.mean(list(precision.values()))}\")\n",
    "print(f\"Average F1-score: {np.mean(list(f1.values()))}\")"
   ]
  },
  {
   "cell_type": "code",
   "execution_count": null,
   "metadata": {},
   "outputs": [],
   "source": [
    "{k: v for k, v in sorted(accuracy.items(), key=lambda x: x[1], reverse=True)}"
   ]
  },
  {
   "cell_type": "code",
   "execution_count": null,
   "metadata": {},
   "outputs": [],
   "source": [
    "{k: v for k, v in sorted(f1.items(), key=lambda x: x[1], reverse=True)}"
   ]
  },
  {
   "cell_type": "code",
   "execution_count": null,
   "metadata": {},
   "outputs": [],
   "source": [
    "subj = 'subj_Law'\n",
    "\n",
    "print(clf_report(y_test[subj], logits[subj].predict(X_test_transformed)))"
   ]
  },
  {
   "cell_type": "markdown",
   "metadata": {},
   "source": [
    "# Сначала field, потом subject"
   ]
  },
  {
   "cell_type": "markdown",
   "metadata": {},
   "source": [
    "Возьмем df с удаленными не-английскими текстами:"
   ]
  },
  {
   "cell_type": "code",
   "execution_count": 4,
   "metadata": {},
   "outputs": [
    {
     "data": {
      "text/html": [
       "<div>\n",
       "<style scoped>\n",
       "    .dataframe tbody tr th:only-of-type {\n",
       "        vertical-align: middle;\n",
       "    }\n",
       "\n",
       "    .dataframe tbody tr th {\n",
       "        vertical-align: top;\n",
       "    }\n",
       "\n",
       "    .dataframe thead th {\n",
       "        text-align: right;\n",
       "    }\n",
       "</style>\n",
       "<table border=\"1\" class=\"dataframe\">\n",
       "  <thead>\n",
       "    <tr style=\"text-align: right;\">\n",
       "      <th></th>\n",
       "      <th>DOI</th>\n",
       "      <th>title</th>\n",
       "      <th>abstract</th>\n",
       "      <th>subject</th>\n",
       "      <th>cleaned_abstract</th>\n",
       "      <th>filtered_subject</th>\n",
       "      <th>all_fields</th>\n",
       "      <th>field_Art</th>\n",
       "      <th>field_Biology</th>\n",
       "      <th>field_Business</th>\n",
       "      <th>...</th>\n",
       "      <th>subj_Biological Psychiatry</th>\n",
       "      <th>subj_Gender Studies</th>\n",
       "      <th>subj_Safety, Risk, Reliability and Quality</th>\n",
       "      <th>subj_Urban Studies</th>\n",
       "      <th>subj_Genetics(clinical)</th>\n",
       "      <th>subj_Agricultural and Biological Sciences (miscellaneous)</th>\n",
       "      <th>subj_Museology</th>\n",
       "      <th>subj_Nephrology</th>\n",
       "      <th>subj_Logic</th>\n",
       "      <th>lang</th>\n",
       "    </tr>\n",
       "  </thead>\n",
       "  <tbody>\n",
       "    <tr>\n",
       "      <th>0</th>\n",
       "      <td>10.1163/1568525043083505</td>\n",
       "      <td>aristotle fr. 44 rose: midas and silenus</td>\n",
       "      <td>&lt;jats:sec&gt;&lt;jats:title&gt;Abstract&lt;/jats:title&gt;&lt;ja...</td>\n",
       "      <td>[Classics, Linguistics and Language, Archaeolo...</td>\n",
       "      <td>abstract scholars have identified two supposed...</td>\n",
       "      <td>[Archaeology, Classics, History, Language and ...</td>\n",
       "      <td>[Humanities, Humanities, Humanities, Humanitie...</td>\n",
       "      <td>0</td>\n",
       "      <td>0</td>\n",
       "      <td>0</td>\n",
       "      <td>...</td>\n",
       "      <td>0</td>\n",
       "      <td>0</td>\n",
       "      <td>0</td>\n",
       "      <td>0</td>\n",
       "      <td>0</td>\n",
       "      <td>0</td>\n",
       "      <td>0</td>\n",
       "      <td>0</td>\n",
       "      <td>0</td>\n",
       "      <td>en</td>\n",
       "    </tr>\n",
       "    <tr>\n",
       "      <th>1</th>\n",
       "      <td>10.1163/1568525043083532</td>\n",
       "      <td>loca loquuntur. lucretius' explanation of the ...</td>\n",
       "      <td>&lt;jats:sec&gt;&lt;jats:title&gt;Abstract&lt;/jats:title&gt;&lt;ja...</td>\n",
       "      <td>[Classics, Linguistics and Language, Archaeolo...</td>\n",
       "      <td>abstract a discussion of the second part of lu...</td>\n",
       "      <td>[Archaeology, Classics, History, Language and ...</td>\n",
       "      <td>[Humanities, Humanities, Humanities, Humanitie...</td>\n",
       "      <td>0</td>\n",
       "      <td>0</td>\n",
       "      <td>0</td>\n",
       "      <td>...</td>\n",
       "      <td>0</td>\n",
       "      <td>0</td>\n",
       "      <td>0</td>\n",
       "      <td>0</td>\n",
       "      <td>0</td>\n",
       "      <td>0</td>\n",
       "      <td>0</td>\n",
       "      <td>0</td>\n",
       "      <td>0</td>\n",
       "      <td>en</td>\n",
       "    </tr>\n",
       "    <tr>\n",
       "      <th>2</th>\n",
       "      <td>10.1163/1568525043083541</td>\n",
       "      <td>poverty and demography: the case of the gracch...</td>\n",
       "      <td>&lt;jats:sec&gt;&lt;jats:title&gt;Abstract&lt;/jats:title&gt;&lt;ja...</td>\n",
       "      <td>[Classics, Linguistics and Language, Archaeolo...</td>\n",
       "      <td>abstract according to many ancient historians ...</td>\n",
       "      <td>[Archaeology, Classics, History, Language and ...</td>\n",
       "      <td>[Humanities, Humanities, Humanities, Humanitie...</td>\n",
       "      <td>0</td>\n",
       "      <td>0</td>\n",
       "      <td>0</td>\n",
       "      <td>...</td>\n",
       "      <td>0</td>\n",
       "      <td>0</td>\n",
       "      <td>0</td>\n",
       "      <td>0</td>\n",
       "      <td>0</td>\n",
       "      <td>0</td>\n",
       "      <td>0</td>\n",
       "      <td>0</td>\n",
       "      <td>0</td>\n",
       "      <td>en</td>\n",
       "    </tr>\n",
       "    <tr>\n",
       "      <th>3</th>\n",
       "      <td>10.1163/1568525043083514</td>\n",
       "      <td>old persian in athens revisited (ar. ach. 100)</td>\n",
       "      <td>&lt;jats:sec&gt;&lt;jats:title&gt;Abstract&lt;/jats:title&gt;&lt;ja...</td>\n",
       "      <td>[Classics, Linguistics and Language, Archaeolo...</td>\n",
       "      <td>abstract the old persian line in aristophanes ...</td>\n",
       "      <td>[Archaeology, Classics, History, Language and ...</td>\n",
       "      <td>[Humanities, Humanities, Humanities, Humanitie...</td>\n",
       "      <td>0</td>\n",
       "      <td>0</td>\n",
       "      <td>0</td>\n",
       "      <td>...</td>\n",
       "      <td>0</td>\n",
       "      <td>0</td>\n",
       "      <td>0</td>\n",
       "      <td>0</td>\n",
       "      <td>0</td>\n",
       "      <td>0</td>\n",
       "      <td>0</td>\n",
       "      <td>0</td>\n",
       "      <td>0</td>\n",
       "      <td>en</td>\n",
       "    </tr>\n",
       "    <tr>\n",
       "      <th>4</th>\n",
       "      <td>10.1163/1568527053083412</td>\n",
       "      <td>religion and violence: what can sociology offer?</td>\n",
       "      <td>&lt;jats:sec&gt;&lt;jats:title&gt;Abstract&lt;/jats:title&gt;&lt;ja...</td>\n",
       "      <td>[Religious studies, History]</td>\n",
       "      <td>abstract this essay presents a sketch of a soc...</td>\n",
       "      <td>[History, Religious studies]</td>\n",
       "      <td>[Humanities, Humanities]</td>\n",
       "      <td>0</td>\n",
       "      <td>0</td>\n",
       "      <td>0</td>\n",
       "      <td>...</td>\n",
       "      <td>0</td>\n",
       "      <td>0</td>\n",
       "      <td>0</td>\n",
       "      <td>0</td>\n",
       "      <td>0</td>\n",
       "      <td>0</td>\n",
       "      <td>0</td>\n",
       "      <td>0</td>\n",
       "      <td>0</td>\n",
       "      <td>en</td>\n",
       "    </tr>\n",
       "  </tbody>\n",
       "</table>\n",
       "<p>5 rows × 220 columns</p>\n",
       "</div>"
      ],
      "text/plain": [
       "                        DOI  \\\n",
       "0  10.1163/1568525043083505   \n",
       "1  10.1163/1568525043083532   \n",
       "2  10.1163/1568525043083541   \n",
       "3  10.1163/1568525043083514   \n",
       "4  10.1163/1568527053083412   \n",
       "\n",
       "                                               title  \\\n",
       "0           aristotle fr. 44 rose: midas and silenus   \n",
       "1  loca loquuntur. lucretius' explanation of the ...   \n",
       "2  poverty and demography: the case of the gracch...   \n",
       "3     old persian in athens revisited (ar. ach. 100)   \n",
       "4   religion and violence: what can sociology offer?   \n",
       "\n",
       "                                            abstract  \\\n",
       "0  <jats:sec><jats:title>Abstract</jats:title><ja...   \n",
       "1  <jats:sec><jats:title>Abstract</jats:title><ja...   \n",
       "2  <jats:sec><jats:title>Abstract</jats:title><ja...   \n",
       "3  <jats:sec><jats:title>Abstract</jats:title><ja...   \n",
       "4  <jats:sec><jats:title>Abstract</jats:title><ja...   \n",
       "\n",
       "                                             subject  \\\n",
       "0  [Classics, Linguistics and Language, Archaeolo...   \n",
       "1  [Classics, Linguistics and Language, Archaeolo...   \n",
       "2  [Classics, Linguistics and Language, Archaeolo...   \n",
       "3  [Classics, Linguistics and Language, Archaeolo...   \n",
       "4                       [Religious studies, History]   \n",
       "\n",
       "                                    cleaned_abstract  \\\n",
       "0  abstract scholars have identified two supposed...   \n",
       "1  abstract a discussion of the second part of lu...   \n",
       "2  abstract according to many ancient historians ...   \n",
       "3  abstract the old persian line in aristophanes ...   \n",
       "4  abstract this essay presents a sketch of a soc...   \n",
       "\n",
       "                                    filtered_subject  \\\n",
       "0  [Archaeology, Classics, History, Language and ...   \n",
       "1  [Archaeology, Classics, History, Language and ...   \n",
       "2  [Archaeology, Classics, History, Language and ...   \n",
       "3  [Archaeology, Classics, History, Language and ...   \n",
       "4                       [History, Religious studies]   \n",
       "\n",
       "                                          all_fields  field_Art  \\\n",
       "0  [Humanities, Humanities, Humanities, Humanitie...          0   \n",
       "1  [Humanities, Humanities, Humanities, Humanitie...          0   \n",
       "2  [Humanities, Humanities, Humanities, Humanitie...          0   \n",
       "3  [Humanities, Humanities, Humanities, Humanitie...          0   \n",
       "4                           [Humanities, Humanities]          0   \n",
       "\n",
       "   field_Biology  field_Business  ...  subj_Biological Psychiatry  \\\n",
       "0              0               0  ...                           0   \n",
       "1              0               0  ...                           0   \n",
       "2              0               0  ...                           0   \n",
       "3              0               0  ...                           0   \n",
       "4              0               0  ...                           0   \n",
       "\n",
       "   subj_Gender Studies  subj_Safety, Risk, Reliability and Quality  \\\n",
       "0                    0                                           0   \n",
       "1                    0                                           0   \n",
       "2                    0                                           0   \n",
       "3                    0                                           0   \n",
       "4                    0                                           0   \n",
       "\n",
       "   subj_Urban Studies  subj_Genetics(clinical)  \\\n",
       "0                   0                        0   \n",
       "1                   0                        0   \n",
       "2                   0                        0   \n",
       "3                   0                        0   \n",
       "4                   0                        0   \n",
       "\n",
       "   subj_Agricultural and Biological Sciences (miscellaneous)  subj_Museology  \\\n",
       "0                                                  0                       0   \n",
       "1                                                  0                       0   \n",
       "2                                                  0                       0   \n",
       "3                                                  0                       0   \n",
       "4                                                  0                       0   \n",
       "\n",
       "   subj_Nephrology  subj_Logic  lang  \n",
       "0                0           0    en  \n",
       "1                0           0    en  \n",
       "2                0           0    en  \n",
       "3                0           0    en  \n",
       "4                0           0    en  \n",
       "\n",
       "[5 rows x 220 columns]"
      ]
     },
     "execution_count": 4,
     "metadata": {},
     "output_type": "execute_result"
    }
   ],
   "source": [
    "df = pd.read_pickle(\"looong_df_subjects_en.pkl\")\n",
    "df.head()"
   ]
  },
  {
   "cell_type": "code",
   "execution_count": 5,
   "metadata": {},
   "outputs": [],
   "source": [
    "target_1 = [column for column in df.columns if \"field_\" in column]\n",
    "X_train, X_test, y_train, y_test = train_test_split(df[\"cleaned_abstract\"], df[target_1],\n",
    "                                                    train_size=0.08, test_size=0.02,\n",
    "                                                    random_state=42)"
   ]
  },
  {
   "cell_type": "code",
   "execution_count": 6,
   "metadata": {},
   "outputs": [],
   "source": [
    "y_train_fields = {\n",
    "    field: y_train[field] for field in target_1\n",
    "}"
   ]
  },
  {
   "cell_type": "code",
   "execution_count": 7,
   "metadata": {},
   "outputs": [],
   "source": [
    "vectorizer = TfidfVectorizer(ngram_range=(1, 2))\n",
    "X_train_transformed = vectorizer.fit_transform(X_train)"
   ]
  },
  {
   "cell_type": "code",
   "execution_count": 10,
   "metadata": {},
   "outputs": [
    {
     "name": "stdout",
     "output_type": "stream",
     "text": [
      "Fitting field_Art logistic regression\n",
      "Fitting field_Biology logistic regression\n",
      "Fitting field_Business logistic regression\n",
      "Fitting field_Chemistry logistic regression\n",
      "Fitting field_Geology logistic regression\n",
      "Fitting field_Humanities logistic regression\n",
      "Fitting field_Math logistic regression\n",
      "Fitting field_Medicine logistic regression\n",
      "Fitting field_Physics logistic regression\n",
      "Fitting field_Psychology logistic regression\n",
      "Fitting field_Social logistic regression\n",
      "Fitting field_Tech logistic regression\n"
     ]
    }
   ],
   "source": [
    "logits = {\n",
    "    field: LogisticRegression(n_jobs=-1, max_iter=1_000_000, random_state=123) for field in target_1\n",
    "}\n",
    "\n",
    "for field, logit in logits.items():\n",
    "    print(f\"Fitting {field} logistic regression\")\n",
    "    logit.fit(X_train_transformed, y_train_fields[field])\n",
    "    with open(f\"field_logits_en/{field}.pkl\", \"wb\") as f:\n",
    "        pickle.dump(logit, f)"
   ]
  },
  {
   "cell_type": "code",
   "execution_count": 11,
   "metadata": {},
   "outputs": [],
   "source": [
    "X_test_transformed = vectorizer.transform(X_test)"
   ]
  },
  {
   "cell_type": "code",
   "execution_count": 12,
   "metadata": {},
   "outputs": [
    {
     "name": "stderr",
     "output_type": "stream",
     "text": [
      "100%|██████████| 45/45 [01:00<00:00,  1.34s/it]\n"
     ]
    }
   ],
   "source": [
    "accuracy = {}\n",
    "recall = {}\n",
    "precision = {}\n",
    "f1 = {}\n",
    "\n",
    "accs = []\n",
    "recs = []\n",
    "precs = []\n",
    "f1s = []\n",
    "\n",
    "min_positives = np.arange(start=0.05, stop=0.5, step=0.01)\n",
    "for min_positive in tqdm(min_positives):\n",
    "    for subj in target_1:\n",
    "        #print(subj.upper())\n",
    "        y_pred = logits[subj].predict_proba(X_test_transformed)\n",
    "        y_pred = [1 if x[1] > min_positive else 0 for x in y_pred]\n",
    "        accuracy[subj] = accuracy_score(y_test[subj], y_pred)\n",
    "        recall[subj] = recall_score(y_test[subj], y_pred, zero_division=0)\n",
    "        precision[subj] = precision_score(y_test[subj], y_pred, zero_division=0)\n",
    "        f1[subj] = f1_score(y_test[subj], y_pred, zero_division=0)\n",
    "    \n",
    "    accs.append(np.mean(list(accuracy.values())))\n",
    "    recs.append(np.mean(list(recall.values())))\n",
    "    precs.append(np.mean(list(precision.values())))\n",
    "    f1s.append(np.mean(list(f1.values())))\n",
    "    \n",
    "    #print(f\"min_positive={min_positive}\")\n",
    "    '''\n",
    "    print(f\"Average accuracy: {np.mean(list(accuracy.values()))}\")\n",
    "    print(f\"Average recall: {np.mean(list(recall.values()))}\")\n",
    "    print(f\"Average precision: {np.mean(list(precision.values()))}\")\n",
    "    print(f\"Average F1-score: {np.mean(list(f1.values()))}\")\n",
    "    print()'''"
   ]
  },
  {
   "cell_type": "code",
   "execution_count": 13,
   "metadata": {},
   "outputs": [
    {
     "data": {
      "image/png": "[encoded data removed]",
      "text/plain": [
       "<Figure size 720x720 with 4 Axes>"
      ]
     },
     "metadata": {
      "needs_background": "light"
     },
     "output_type": "display_data"
    }
   ],
   "source": [
    "fig, axs = plt.subplots(2, 2, figsize=(10, 10))\n",
    "\n",
    "axs[0, 0].plot(min_positives, accs)\n",
    "axs[0, 0].set_title(\"Accuracy\")\n",
    "\n",
    "axs[0, 1].plot(min_positives, recs)\n",
    "axs[0, 1].set_title(\"Recall\")\n",
    "\n",
    "axs[1, 0].plot(min_positives, precs)\n",
    "axs[1, 0].set_title(\"Precision\")\n",
    "\n",
    "axs[1, 1].plot(min_positives, f1s)\n",
    "axs[1, 1].set_title(\"F1-score\")\n",
    "\n",
    "plt.show()"
   ]
  },
  {
   "cell_type": "code",
   "execution_count": 14,
   "metadata": {},
   "outputs": [
    {
     "data": {
      "image/png": "[encoded data removed]",
      "text/plain": [
       "<Figure size 432x288 with 1 Axes>"
      ]
     },
     "metadata": {
      "needs_background": "light"
     },
     "output_type": "display_data"
    }
   ],
   "source": [
    "plt.plot(min_positives[4:], recs[4:], label=\"Recall\")\n",
    "plt.plot(min_positives[4:], precs[4:], label=\"Precision\")\n",
    "plt.plot(min_positives[4:], f1s[4:], label=\"F1-score\")\n",
    "plt.legend()\n",
    "plt.show()"
   ]
  },
  {
   "cell_type": "code",
   "execution_count": 15,
   "metadata": {},
   "outputs": [
    {
     "name": "stdout",
     "output_type": "stream",
     "text": [
      "Average accuracy: 0.9451835055009657\n",
      "Average recall: 0.4614284915275313\n",
      "Average precision: 0.7808020629451464\n",
      "Average F1-score: 0.5475475040077162\n"
     ]
    }
   ],
   "source": [
    "print(f\"Average accuracy: {np.mean(list(accuracy.values()))}\")\n",
    "print(f\"Average recall: {np.mean(list(recall.values()))}\")\n",
    "print(f\"Average precision: {np.mean(list(precision.values()))}\")\n",
    "print(f\"Average F1-score: {np.mean(list(f1.values()))}\")"
   ]
  },
  {
   "cell_type": "markdown",
   "metadata": {},
   "source": [
    "Добавляем предсказания филдов в качестве фичей для сабжектов:"
   ]
  },
  {
   "cell_type": "code",
   "execution_count": 16,
   "metadata": {},
   "outputs": [],
   "source": [
    "X_test_copy = pd.DataFrame(X_test.copy())\n",
    "\n",
    "for field in target_1:\n",
    "    y_pred = logits[field].predict_proba(X_test_transformed)\n",
    "    y_pred = [1 if x[1] > 0.2 else 0 for x in y_pred]\n",
    "    X_test_copy[f\"{field}_pred\"] = y_pred"
   ]
  },
  {
   "cell_type": "code",
   "execution_count": 17,
   "metadata": {},
   "outputs": [
    {
     "data": {
      "text/html": [
       "<div>\n",
       "<style scoped>\n",
       "    .dataframe tbody tr th:only-of-type {\n",
       "        vertical-align: middle;\n",
       "    }\n",
       "\n",
       "    .dataframe tbody tr th {\n",
       "        vertical-align: top;\n",
       "    }\n",
       "\n",
       "    .dataframe thead th {\n",
       "        text-align: right;\n",
       "    }\n",
       "</style>\n",
       "<table border=\"1\" class=\"dataframe\">\n",
       "  <thead>\n",
       "    <tr style=\"text-align: right;\">\n",
       "      <th></th>\n",
       "      <th>cleaned_abstract</th>\n",
       "      <th>field_Art_pred</th>\n",
       "      <th>field_Biology_pred</th>\n",
       "      <th>field_Business_pred</th>\n",
       "      <th>field_Chemistry_pred</th>\n",
       "      <th>field_Geology_pred</th>\n",
       "      <th>field_Humanities_pred</th>\n",
       "      <th>field_Math_pred</th>\n",
       "      <th>field_Medicine_pred</th>\n",
       "      <th>field_Physics_pred</th>\n",
       "      <th>field_Psychology_pred</th>\n",
       "      <th>field_Social_pred</th>\n",
       "      <th>field_Tech_pred</th>\n",
       "    </tr>\n",
       "  </thead>\n",
       "  <tbody>\n",
       "    <tr>\n",
       "      <th>1435836</th>\n",
       "      <td>abstract a new star catalog has been derived r...</td>\n",
       "      <td>0</td>\n",
       "      <td>0</td>\n",
       "      <td>0</td>\n",
       "      <td>0</td>\n",
       "      <td>0</td>\n",
       "      <td>0</td>\n",
       "      <td>0</td>\n",
       "      <td>0</td>\n",
       "      <td>1</td>\n",
       "      <td>0</td>\n",
       "      <td>0</td>\n",
       "      <td>0</td>\n",
       "    </tr>\n",
       "    <tr>\n",
       "      <th>2275103</th>\n",
       "      <td>the ability to decrypt volatile plant signals ...</td>\n",
       "      <td>0</td>\n",
       "      <td>1</td>\n",
       "      <td>0</td>\n",
       "      <td>0</td>\n",
       "      <td>0</td>\n",
       "      <td>0</td>\n",
       "      <td>0</td>\n",
       "      <td>1</td>\n",
       "      <td>0</td>\n",
       "      <td>0</td>\n",
       "      <td>0</td>\n",
       "      <td>0</td>\n",
       "    </tr>\n",
       "    <tr>\n",
       "      <th>245895</th>\n",
       "      <td>the naturally occurring virus papillomas of we...</td>\n",
       "      <td>0</td>\n",
       "      <td>1</td>\n",
       "      <td>0</td>\n",
       "      <td>0</td>\n",
       "      <td>0</td>\n",
       "      <td>0</td>\n",
       "      <td>0</td>\n",
       "      <td>1</td>\n",
       "      <td>0</td>\n",
       "      <td>0</td>\n",
       "      <td>0</td>\n",
       "      <td>0</td>\n",
       "    </tr>\n",
       "    <tr>\n",
       "      <th>375136</th>\n",
       "      <td>abstract background detecting patients at risk...</td>\n",
       "      <td>0</td>\n",
       "      <td>0</td>\n",
       "      <td>0</td>\n",
       "      <td>0</td>\n",
       "      <td>0</td>\n",
       "      <td>0</td>\n",
       "      <td>0</td>\n",
       "      <td>1</td>\n",
       "      <td>0</td>\n",
       "      <td>0</td>\n",
       "      <td>0</td>\n",
       "      <td>0</td>\n",
       "    </tr>\n",
       "    <tr>\n",
       "      <th>2006795</th>\n",
       "      <td>abstract microplitis mediator haliday a bracon...</td>\n",
       "      <td>0</td>\n",
       "      <td>1</td>\n",
       "      <td>0</td>\n",
       "      <td>0</td>\n",
       "      <td>0</td>\n",
       "      <td>0</td>\n",
       "      <td>0</td>\n",
       "      <td>1</td>\n",
       "      <td>0</td>\n",
       "      <td>0</td>\n",
       "      <td>0</td>\n",
       "      <td>0</td>\n",
       "    </tr>\n",
       "  </tbody>\n",
       "</table>\n",
       "</div>"
      ],
      "text/plain": [
       "                                          cleaned_abstract  field_Art_pred  \\\n",
       "1435836  abstract a new star catalog has been derived r...               0   \n",
       "2275103  the ability to decrypt volatile plant signals ...               0   \n",
       "245895   the naturally occurring virus papillomas of we...               0   \n",
       "375136   abstract background detecting patients at risk...               0   \n",
       "2006795  abstract microplitis mediator haliday a bracon...               0   \n",
       "\n",
       "         field_Biology_pred  field_Business_pred  field_Chemistry_pred  \\\n",
       "1435836                   0                    0                     0   \n",
       "2275103                   1                    0                     0   \n",
       "245895                    1                    0                     0   \n",
       "375136                    0                    0                     0   \n",
       "2006795                   1                    0                     0   \n",
       "\n",
       "         field_Geology_pred  field_Humanities_pred  field_Math_pred  \\\n",
       "1435836                   0                      0                0   \n",
       "2275103                   0                      0                0   \n",
       "245895                    0                      0                0   \n",
       "375136                    0                      0                0   \n",
       "2006795                   0                      0                0   \n",
       "\n",
       "         field_Medicine_pred  field_Physics_pred  field_Psychology_pred  \\\n",
       "1435836                    0                   1                      0   \n",
       "2275103                    1                   0                      0   \n",
       "245895                     1                   0                      0   \n",
       "375136                     1                   0                      0   \n",
       "2006795                    1                   0                      0   \n",
       "\n",
       "         field_Social_pred  field_Tech_pred  \n",
       "1435836                  0                0  \n",
       "2275103                  0                0  \n",
       "245895                   0                0  \n",
       "375136                   0                0  \n",
       "2006795                  0                0  "
      ]
     },
     "execution_count": 17,
     "metadata": {},
     "output_type": "execute_result"
    }
   ],
   "source": [
    "X_test_copy.sample(5)"
   ]
  },
  {
   "cell_type": "markdown",
   "metadata": {},
   "source": [
    "И начинаем предсказывать сабжекты:"
   ]
  },
  {
   "cell_type": "code",
   "execution_count": 18,
   "metadata": {},
   "outputs": [],
   "source": [
    "target_2 = [column for column in df.columns if \"subj_\" in column]\n",
    "X_train, X_test, y_train, y_test = train_test_split(df[[\"cleaned_abstract\"] + target_1], df[target_2],\n",
    "                                                   train_size=0.08, test_size=0.02,\n",
    "                                                   random_state=42)"
   ]
  },
  {
   "cell_type": "code",
   "execution_count": 19,
   "metadata": {},
   "outputs": [],
   "source": [
    "y_train_subjs = {\n",
    "    subj: y_train[subj] for subj in target_2\n",
    "}"
   ]
  },
  {
   "cell_type": "code",
   "execution_count": 20,
   "metadata": {},
   "outputs": [],
   "source": [
    "vectorizer = TfidfVectorizer(ngram_range=(1, 2))\n",
    "X_train_transformed = vectorizer.fit_transform(X_train[\"cleaned_abstract\"])"
   ]
  },
  {
   "cell_type": "code",
   "execution_count": 21,
   "metadata": {},
   "outputs": [],
   "source": [
    "from scipy import sparse\n",
    "\n",
    "X_train_stacked = sparse.hstack((\n",
    "    X_train_transformed,\n",
    "    sparse.csr_matrix(X_train[target_1])\n",
    "))"
   ]
  },
  {
   "cell_type": "code",
   "execution_count": 22,
   "metadata": {},
   "outputs": [
    {
     "name": "stderr",
     "output_type": "stream",
     "text": [
      "100%|██████████| 200/200 [4:22:18<00:00, 78.69s/it]  \n"
     ]
    }
   ],
   "source": [
    "from tqdm import tqdm\n",
    "\n",
    "logits = {\n",
    "    subj: LogisticRegression(n_jobs=-1, max_iter=1_000_000, random_state=123) for subj in target_2\n",
    "}\n",
    "\n",
    "for subj, logit in tqdm(logits.items()):\n",
    "    #print(f\"Fitting {subj} logistic regression\")\n",
    "    logit.fit(\n",
    "        X_train_stacked,\n",
    "        y_train_subjs[subj]\n",
    "    )\n",
    "    with open(f\"subj_logits_en/{subj}.pkl\", \"wb\") as f:\n",
    "        pickle.dump(logit, f)"
   ]
  },
  {
   "cell_type": "code",
   "execution_count": 23,
   "metadata": {},
   "outputs": [],
   "source": [
    "X_test_sparse = sparse.hstack((\n",
    "    X_test_transformed,\n",
    "    sparse.csr_matrix(X_test[target_1])\n",
    "))"
   ]
  },
  {
   "cell_type": "code",
   "execution_count": 24,
   "metadata": {},
   "outputs": [
    {
     "name": "stderr",
     "output_type": "stream",
     "text": [
      "100%|██████████| 9/9 [14:05<00:00, 93.97s/it]\n"
     ]
    }
   ],
   "source": [
    "accuracy = {}\n",
    "recall = {}\n",
    "precision = {}\n",
    "f1 = {}\n",
    "\n",
    "accs = []\n",
    "recs = []\n",
    "precs = []\n",
    "f1s = []\n",
    "\n",
    "min_positives = np.arange(start=0.05, stop=0.5, step=0.05)\n",
    "for min_positive in tqdm(min_positives):\n",
    "    for subj in target_2:\n",
    "        y_pred = logits[subj].predict_proba(X_test_sparse)\n",
    "\n",
    "        y_pred = [1 if x[1] > min_positive else 0 for x in y_pred]\n",
    "        accuracy[subj] = accuracy_score(y_test[subj], y_pred)\n",
    "        recall[subj] = recall_score(y_test[subj], y_pred, zero_division=0)\n",
    "        precision[subj] = precision_score(y_test[subj], y_pred, zero_division=0)\n",
    "        f1[subj] = f1_score(y_test[subj], y_pred, zero_division=0)\n",
    "    \n",
    "    accs.append(np.mean(list(accuracy.values())))\n",
    "    recs.append(np.mean(list(recall.values())))\n",
    "    precs.append(np.mean(list(precision.values())))\n",
    "    f1s.append(np.mean(list(f1.values())))"
   ]
  },
  {
   "cell_type": "code",
   "execution_count": 25,
   "metadata": {},
   "outputs": [
    {
     "data": {
      "image/png": "[encoded data removed]",
      "text/plain": [
       "<Figure size 720x720 with 4 Axes>"
      ]
     },
     "metadata": {
      "needs_background": "light"
     },
     "output_type": "display_data"
    }
   ],
   "source": [
    "fig, axs = plt.subplots(2, 2, figsize=(10, 10))\n",
    "\n",
    "axs[0, 0].plot(min_positives, accs)\n",
    "axs[0, 0].set_title(\"Accuracy\")\n",
    "\n",
    "axs[0, 1].plot(min_positives, recs)\n",
    "axs[0, 1].set_title(\"Recall\")\n",
    "\n",
    "axs[1, 0].plot(min_positives, precs)\n",
    "axs[1, 0].set_title(\"Precision\")\n",
    "\n",
    "axs[1, 1].plot(min_positives, f1s)\n",
    "axs[1, 1].set_title(\"F1-score\")\n",
    "\n",
    "plt.show()"
   ]
  },
  {
   "cell_type": "code",
   "execution_count": 26,
   "metadata": {},
   "outputs": [
    {
     "data": {
      "image/png": "[encoded data removed]",
      "text/plain": [
       "<Figure size 432x288 with 1 Axes>"
      ]
     },
     "metadata": {
      "needs_background": "light"
     },
     "output_type": "display_data"
    }
   ],
   "source": [
    "plt.plot(min_positives, recs, label=\"Recall\")\n",
    "plt.plot(min_positives, precs, label=\"Precision\")\n",
    "plt.plot(min_positives, f1s, label=\"F1-score\")\n",
    "plt.legend()\n",
    "plt.show()"
   ]
  },
  {
   "cell_type": "code",
   "execution_count": 27,
   "metadata": {},
   "outputs": [
    {
     "data": {
      "text/plain": [
       "0.45"
      ]
     },
     "execution_count": 27,
     "metadata": {},
     "output_type": "execute_result"
    }
   ],
   "source": [
    "min_positive"
   ]
  },
  {
   "cell_type": "code",
   "execution_count": 28,
   "metadata": {},
   "outputs": [
    {
     "name": "stdout",
     "output_type": "stream",
     "text": [
      "Average accuracy: 0.9933539934492315\n",
      "Average recall: 0.37031796876388595\n",
      "Average precision: 0.7827820027714768\n",
      "Average F1-score: 0.450254273306345\n"
     ]
    }
   ],
   "source": [
    "print(f\"Average accuracy: {np.mean(list(accuracy.values()))}\")\n",
    "print(f\"Average recall: {np.mean(list(recall.values()))}\")\n",
    "print(f\"Average precision: {np.mean(list(precision.values()))}\")\n",
    "print(f\"Average F1-score: {np.mean(list(f1.values()))}\")"
   ]
  },
  {
   "cell_type": "code",
   "execution_count": 29,
   "metadata": {},
   "outputs": [
    {
     "name": "stderr",
     "output_type": "stream",
     "text": [
      "100%|██████████| 200/200 [01:34<00:00,  2.12it/s]\n"
     ]
    }
   ],
   "source": [
    "for subj in tqdm(target_2):\n",
    "    y_pred = logits[subj].predict_proba(X_test_sparse)\n",
    "\n",
    "    y_pred = [1 if x[1] > 0.2 else 0 for x in y_pred]\n",
    "    accuracy[subj] = accuracy_score(y_test[subj], y_pred)\n",
    "    recall[subj] = recall_score(y_test[subj], y_pred, zero_division=0)\n",
    "    precision[subj] = precision_score(y_test[subj], y_pred, zero_division=0)\n",
    "    f1[subj] = f1_score(y_test[subj], y_pred, zero_division=0)\n",
    "    \n",
    "    accs.append(np.mean(list(accuracy.values())))\n",
    "    recs.append(np.mean(list(recall.values())))\n",
    "    precs.append(np.mean(list(precision.values())))\n",
    "    f1s.append(np.mean(list(f1.values())))"
   ]
  },
  {
   "cell_type": "code",
   "execution_count": 30,
   "metadata": {},
   "outputs": [
    {
     "name": "stdout",
     "output_type": "stream",
     "text": [
      "Average accuracy: 0.9918444192491811\n",
      "Average recall: 0.6081793529329141\n",
      "Average precision: 0.627271824387433\n",
      "Average F1-score: 0.5713155815663864\n"
     ]
    }
   ],
   "source": [
    "print(f\"Average accuracy: {np.mean(list(accuracy.values()))}\")\n",
    "print(f\"Average recall: {np.mean(list(recall.values()))}\")\n",
    "print(f\"Average precision: {np.mean(list(precision.values()))}\")\n",
    "print(f\"Average F1-score: {np.mean(list(f1.values()))}\")"
   ]
  },
  {
   "cell_type": "markdown",
   "metadata": {},
   "source": [
    "# Удалим не английские тексты"
   ]
  },
  {
   "cell_type": "code",
   "execution_count": 99,
   "metadata": {},
   "outputs": [],
   "source": [
    "from langdetect import detect"
   ]
  },
  {
   "cell_type": "code",
   "execution_count": 102,
   "metadata": {},
   "outputs": [
    {
     "data": {
      "text/html": [
       "<div>\n",
       "<style scoped>\n",
       "    .dataframe tbody tr th:only-of-type {\n",
       "        vertical-align: middle;\n",
       "    }\n",
       "\n",
       "    .dataframe tbody tr th {\n",
       "        vertical-align: top;\n",
       "    }\n",
       "\n",
       "    .dataframe thead th {\n",
       "        text-align: right;\n",
       "    }\n",
       "</style>\n",
       "<table border=\"1\" class=\"dataframe\">\n",
       "  <thead>\n",
       "    <tr style=\"text-align: right;\">\n",
       "      <th></th>\n",
       "      <th>DOI</th>\n",
       "      <th>title</th>\n",
       "      <th>abstract</th>\n",
       "      <th>subject</th>\n",
       "      <th>cleaned_abstract</th>\n",
       "      <th>filtered_subject</th>\n",
       "      <th>all_fields</th>\n",
       "      <th>field_Art</th>\n",
       "      <th>field_Biology</th>\n",
       "      <th>field_Business</th>\n",
       "      <th>...</th>\n",
       "      <th>subj_Environmental Science (miscellaneous)</th>\n",
       "      <th>subj_Biological Psychiatry</th>\n",
       "      <th>subj_Gender Studies</th>\n",
       "      <th>subj_Safety, Risk, Reliability and Quality</th>\n",
       "      <th>subj_Urban Studies</th>\n",
       "      <th>subj_Genetics(clinical)</th>\n",
       "      <th>subj_Agricultural and Biological Sciences (miscellaneous)</th>\n",
       "      <th>subj_Museology</th>\n",
       "      <th>subj_Nephrology</th>\n",
       "      <th>subj_Logic</th>\n",
       "    </tr>\n",
       "  </thead>\n",
       "  <tbody>\n",
       "    <tr>\n",
       "      <th>0</th>\n",
       "      <td>10.1163/1568525043083505</td>\n",
       "      <td>aristotle fr. 44 rose: midas and silenus</td>\n",
       "      <td>&lt;jats:sec&gt;&lt;jats:title&gt;Abstract&lt;/jats:title&gt;&lt;ja...</td>\n",
       "      <td>[Classics, Linguistics and Language, Archaeolo...</td>\n",
       "      <td>abstract scholars have identified two supposed...</td>\n",
       "      <td>[Archaeology, Classics, History, Language and ...</td>\n",
       "      <td>[Humanities, Humanities, Humanities, Humanitie...</td>\n",
       "      <td>0</td>\n",
       "      <td>0</td>\n",
       "      <td>0</td>\n",
       "      <td>...</td>\n",
       "      <td>0</td>\n",
       "      <td>0</td>\n",
       "      <td>0</td>\n",
       "      <td>0</td>\n",
       "      <td>0</td>\n",
       "      <td>0</td>\n",
       "      <td>0</td>\n",
       "      <td>0</td>\n",
       "      <td>0</td>\n",
       "      <td>0</td>\n",
       "    </tr>\n",
       "    <tr>\n",
       "      <th>1</th>\n",
       "      <td>10.1163/1568525043083532</td>\n",
       "      <td>loca loquuntur. lucretius' explanation of the ...</td>\n",
       "      <td>&lt;jats:sec&gt;&lt;jats:title&gt;Abstract&lt;/jats:title&gt;&lt;ja...</td>\n",
       "      <td>[Classics, Linguistics and Language, Archaeolo...</td>\n",
       "      <td>abstract a discussion of the second part of lu...</td>\n",
       "      <td>[Archaeology, Classics, History, Language and ...</td>\n",
       "      <td>[Humanities, Humanities, Humanities, Humanitie...</td>\n",
       "      <td>0</td>\n",
       "      <td>0</td>\n",
       "      <td>0</td>\n",
       "      <td>...</td>\n",
       "      <td>0</td>\n",
       "      <td>0</td>\n",
       "      <td>0</td>\n",
       "      <td>0</td>\n",
       "      <td>0</td>\n",
       "      <td>0</td>\n",
       "      <td>0</td>\n",
       "      <td>0</td>\n",
       "      <td>0</td>\n",
       "      <td>0</td>\n",
       "    </tr>\n",
       "    <tr>\n",
       "      <th>2</th>\n",
       "      <td>10.1163/1568525043083541</td>\n",
       "      <td>poverty and demography: the case of the gracch...</td>\n",
       "      <td>&lt;jats:sec&gt;&lt;jats:title&gt;Abstract&lt;/jats:title&gt;&lt;ja...</td>\n",
       "      <td>[Classics, Linguistics and Language, Archaeolo...</td>\n",
       "      <td>abstract according to many ancient historians ...</td>\n",
       "      <td>[Archaeology, Classics, History, Language and ...</td>\n",
       "      <td>[Humanities, Humanities, Humanities, Humanitie...</td>\n",
       "      <td>0</td>\n",
       "      <td>0</td>\n",
       "      <td>0</td>\n",
       "      <td>...</td>\n",
       "      <td>0</td>\n",
       "      <td>0</td>\n",
       "      <td>0</td>\n",
       "      <td>0</td>\n",
       "      <td>0</td>\n",
       "      <td>0</td>\n",
       "      <td>0</td>\n",
       "      <td>0</td>\n",
       "      <td>0</td>\n",
       "      <td>0</td>\n",
       "    </tr>\n",
       "    <tr>\n",
       "      <th>3</th>\n",
       "      <td>10.1163/1568525043083514</td>\n",
       "      <td>old persian in athens revisited (ar. ach. 100)</td>\n",
       "      <td>&lt;jats:sec&gt;&lt;jats:title&gt;Abstract&lt;/jats:title&gt;&lt;ja...</td>\n",
       "      <td>[Classics, Linguistics and Language, Archaeolo...</td>\n",
       "      <td>abstract the old persian line in aristophanes ...</td>\n",
       "      <td>[Archaeology, Classics, History, Language and ...</td>\n",
       "      <td>[Humanities, Humanities, Humanities, Humanitie...</td>\n",
       "      <td>0</td>\n",
       "      <td>0</td>\n",
       "      <td>0</td>\n",
       "      <td>...</td>\n",
       "      <td>0</td>\n",
       "      <td>0</td>\n",
       "      <td>0</td>\n",
       "      <td>0</td>\n",
       "      <td>0</td>\n",
       "      <td>0</td>\n",
       "      <td>0</td>\n",
       "      <td>0</td>\n",
       "      <td>0</td>\n",
       "      <td>0</td>\n",
       "    </tr>\n",
       "    <tr>\n",
       "      <th>4</th>\n",
       "      <td>10.1163/1568527053083412</td>\n",
       "      <td>religion and violence: what can sociology offer?</td>\n",
       "      <td>&lt;jats:sec&gt;&lt;jats:title&gt;Abstract&lt;/jats:title&gt;&lt;ja...</td>\n",
       "      <td>[Religious studies, History]</td>\n",
       "      <td>abstract this essay presents a sketch of a soc...</td>\n",
       "      <td>[History, Religious studies]</td>\n",
       "      <td>[Humanities, Humanities]</td>\n",
       "      <td>0</td>\n",
       "      <td>0</td>\n",
       "      <td>0</td>\n",
       "      <td>...</td>\n",
       "      <td>0</td>\n",
       "      <td>0</td>\n",
       "      <td>0</td>\n",
       "      <td>0</td>\n",
       "      <td>0</td>\n",
       "      <td>0</td>\n",
       "      <td>0</td>\n",
       "      <td>0</td>\n",
       "      <td>0</td>\n",
       "      <td>0</td>\n",
       "    </tr>\n",
       "  </tbody>\n",
       "</table>\n",
       "<p>5 rows × 219 columns</p>\n",
       "</div>"
      ],
      "text/plain": [
       "                        DOI  \\\n",
       "0  10.1163/1568525043083505   \n",
       "1  10.1163/1568525043083532   \n",
       "2  10.1163/1568525043083541   \n",
       "3  10.1163/1568525043083514   \n",
       "4  10.1163/1568527053083412   \n",
       "\n",
       "                                               title  \\\n",
       "0           aristotle fr. 44 rose: midas and silenus   \n",
       "1  loca loquuntur. lucretius' explanation of the ...   \n",
       "2  poverty and demography: the case of the gracch...   \n",
       "3     old persian in athens revisited (ar. ach. 100)   \n",
       "4   religion and violence: what can sociology offer?   \n",
       "\n",
       "                                            abstract  \\\n",
       "0  <jats:sec><jats:title>Abstract</jats:title><ja...   \n",
       "1  <jats:sec><jats:title>Abstract</jats:title><ja...   \n",
       "2  <jats:sec><jats:title>Abstract</jats:title><ja...   \n",
       "3  <jats:sec><jats:title>Abstract</jats:title><ja...   \n",
       "4  <jats:sec><jats:title>Abstract</jats:title><ja...   \n",
       "\n",
       "                                             subject  \\\n",
       "0  [Classics, Linguistics and Language, Archaeolo...   \n",
       "1  [Classics, Linguistics and Language, Archaeolo...   \n",
       "2  [Classics, Linguistics and Language, Archaeolo...   \n",
       "3  [Classics, Linguistics and Language, Archaeolo...   \n",
       "4                       [Religious studies, History]   \n",
       "\n",
       "                                    cleaned_abstract  \\\n",
       "0  abstract scholars have identified two supposed...   \n",
       "1  abstract a discussion of the second part of lu...   \n",
       "2  abstract according to many ancient historians ...   \n",
       "3  abstract the old persian line in aristophanes ...   \n",
       "4  abstract this essay presents a sketch of a soc...   \n",
       "\n",
       "                                    filtered_subject  \\\n",
       "0  [Archaeology, Classics, History, Language and ...   \n",
       "1  [Archaeology, Classics, History, Language and ...   \n",
       "2  [Archaeology, Classics, History, Language and ...   \n",
       "3  [Archaeology, Classics, History, Language and ...   \n",
       "4                       [History, Religious studies]   \n",
       "\n",
       "                                          all_fields  field_Art  \\\n",
       "0  [Humanities, Humanities, Humanities, Humanitie...          0   \n",
       "1  [Humanities, Humanities, Humanities, Humanitie...          0   \n",
       "2  [Humanities, Humanities, Humanities, Humanitie...          0   \n",
       "3  [Humanities, Humanities, Humanities, Humanitie...          0   \n",
       "4                           [Humanities, Humanities]          0   \n",
       "\n",
       "   field_Biology  field_Business  ...  \\\n",
       "0              0               0  ...   \n",
       "1              0               0  ...   \n",
       "2              0               0  ...   \n",
       "3              0               0  ...   \n",
       "4              0               0  ...   \n",
       "\n",
       "   subj_Environmental Science (miscellaneous)  subj_Biological Psychiatry  \\\n",
       "0                                           0                           0   \n",
       "1                                           0                           0   \n",
       "2                                           0                           0   \n",
       "3                                           0                           0   \n",
       "4                                           0                           0   \n",
       "\n",
       "   subj_Gender Studies  subj_Safety, Risk, Reliability and Quality  \\\n",
       "0                    0                                           0   \n",
       "1                    0                                           0   \n",
       "2                    0                                           0   \n",
       "3                    0                                           0   \n",
       "4                    0                                           0   \n",
       "\n",
       "   subj_Urban Studies  subj_Genetics(clinical)  \\\n",
       "0                   0                        0   \n",
       "1                   0                        0   \n",
       "2                   0                        0   \n",
       "3                   0                        0   \n",
       "4                   0                        0   \n",
       "\n",
       "   subj_Agricultural and Biological Sciences (miscellaneous)  subj_Museology  \\\n",
       "0                                                  0                       0   \n",
       "1                                                  0                       0   \n",
       "2                                                  0                       0   \n",
       "3                                                  0                       0   \n",
       "4                                                  0                       0   \n",
       "\n",
       "   subj_Nephrology  subj_Logic  \n",
       "0                0           0  \n",
       "1                0           0  \n",
       "2                0           0  \n",
       "3                0           0  \n",
       "4                0           0  \n",
       "\n",
       "[5 rows x 219 columns]"
      ]
     },
     "execution_count": 102,
     "metadata": {},
     "output_type": "execute_result"
    }
   ],
   "source": [
    "df.head()"
   ]
  },
  {
   "cell_type": "code",
   "execution_count": 103,
   "metadata": {},
   "outputs": [],
   "source": [
    "df[\"lang\"] = df[\"cleaned_abstract\"].apply(detect)"
   ]
  },
  {
   "cell_type": "code",
   "execution_count": 104,
   "metadata": {},
   "outputs": [
    {
     "data": {
      "text/html": [
       "<div>\n",
       "<style scoped>\n",
       "    .dataframe tbody tr th:only-of-type {\n",
       "        vertical-align: middle;\n",
       "    }\n",
       "\n",
       "    .dataframe tbody tr th {\n",
       "        vertical-align: top;\n",
       "    }\n",
       "\n",
       "    .dataframe thead th {\n",
       "        text-align: right;\n",
       "    }\n",
       "</style>\n",
       "<table border=\"1\" class=\"dataframe\">\n",
       "  <thead>\n",
       "    <tr style=\"text-align: right;\">\n",
       "      <th></th>\n",
       "      <th>DOI</th>\n",
       "      <th>title</th>\n",
       "      <th>abstract</th>\n",
       "      <th>subject</th>\n",
       "      <th>cleaned_abstract</th>\n",
       "      <th>filtered_subject</th>\n",
       "      <th>all_fields</th>\n",
       "      <th>field_Art</th>\n",
       "      <th>field_Biology</th>\n",
       "      <th>field_Business</th>\n",
       "      <th>...</th>\n",
       "      <th>subj_Biological Psychiatry</th>\n",
       "      <th>subj_Gender Studies</th>\n",
       "      <th>subj_Safety, Risk, Reliability and Quality</th>\n",
       "      <th>subj_Urban Studies</th>\n",
       "      <th>subj_Genetics(clinical)</th>\n",
       "      <th>subj_Agricultural and Biological Sciences (miscellaneous)</th>\n",
       "      <th>subj_Museology</th>\n",
       "      <th>subj_Nephrology</th>\n",
       "      <th>subj_Logic</th>\n",
       "      <th>lang</th>\n",
       "    </tr>\n",
       "  </thead>\n",
       "  <tbody>\n",
       "    <tr>\n",
       "      <th>0</th>\n",
       "      <td>10.1163/1568525043083505</td>\n",
       "      <td>aristotle fr. 44 rose: midas and silenus</td>\n",
       "      <td>&lt;jats:sec&gt;&lt;jats:title&gt;Abstract&lt;/jats:title&gt;&lt;ja...</td>\n",
       "      <td>[Classics, Linguistics and Language, Archaeolo...</td>\n",
       "      <td>abstract scholars have identified two supposed...</td>\n",
       "      <td>[Archaeology, Classics, History, Language and ...</td>\n",
       "      <td>[Humanities, Humanities, Humanities, Humanitie...</td>\n",
       "      <td>0</td>\n",
       "      <td>0</td>\n",
       "      <td>0</td>\n",
       "      <td>...</td>\n",
       "      <td>0</td>\n",
       "      <td>0</td>\n",
       "      <td>0</td>\n",
       "      <td>0</td>\n",
       "      <td>0</td>\n",
       "      <td>0</td>\n",
       "      <td>0</td>\n",
       "      <td>0</td>\n",
       "      <td>0</td>\n",
       "      <td>en</td>\n",
       "    </tr>\n",
       "    <tr>\n",
       "      <th>1</th>\n",
       "      <td>10.1163/1568525043083532</td>\n",
       "      <td>loca loquuntur. lucretius' explanation of the ...</td>\n",
       "      <td>&lt;jats:sec&gt;&lt;jats:title&gt;Abstract&lt;/jats:title&gt;&lt;ja...</td>\n",
       "      <td>[Classics, Linguistics and Language, Archaeolo...</td>\n",
       "      <td>abstract a discussion of the second part of lu...</td>\n",
       "      <td>[Archaeology, Classics, History, Language and ...</td>\n",
       "      <td>[Humanities, Humanities, Humanities, Humanitie...</td>\n",
       "      <td>0</td>\n",
       "      <td>0</td>\n",
       "      <td>0</td>\n",
       "      <td>...</td>\n",
       "      <td>0</td>\n",
       "      <td>0</td>\n",
       "      <td>0</td>\n",
       "      <td>0</td>\n",
       "      <td>0</td>\n",
       "      <td>0</td>\n",
       "      <td>0</td>\n",
       "      <td>0</td>\n",
       "      <td>0</td>\n",
       "      <td>en</td>\n",
       "    </tr>\n",
       "    <tr>\n",
       "      <th>2</th>\n",
       "      <td>10.1163/1568525043083541</td>\n",
       "      <td>poverty and demography: the case of the gracch...</td>\n",
       "      <td>&lt;jats:sec&gt;&lt;jats:title&gt;Abstract&lt;/jats:title&gt;&lt;ja...</td>\n",
       "      <td>[Classics, Linguistics and Language, Archaeolo...</td>\n",
       "      <td>abstract according to many ancient historians ...</td>\n",
       "      <td>[Archaeology, Classics, History, Language and ...</td>\n",
       "      <td>[Humanities, Humanities, Humanities, Humanitie...</td>\n",
       "      <td>0</td>\n",
       "      <td>0</td>\n",
       "      <td>0</td>\n",
       "      <td>...</td>\n",
       "      <td>0</td>\n",
       "      <td>0</td>\n",
       "      <td>0</td>\n",
       "      <td>0</td>\n",
       "      <td>0</td>\n",
       "      <td>0</td>\n",
       "      <td>0</td>\n",
       "      <td>0</td>\n",
       "      <td>0</td>\n",
       "      <td>en</td>\n",
       "    </tr>\n",
       "    <tr>\n",
       "      <th>3</th>\n",
       "      <td>10.1163/1568525043083514</td>\n",
       "      <td>old persian in athens revisited (ar. ach. 100)</td>\n",
       "      <td>&lt;jats:sec&gt;&lt;jats:title&gt;Abstract&lt;/jats:title&gt;&lt;ja...</td>\n",
       "      <td>[Classics, Linguistics and Language, Archaeolo...</td>\n",
       "      <td>abstract the old persian line in aristophanes ...</td>\n",
       "      <td>[Archaeology, Classics, History, Language and ...</td>\n",
       "      <td>[Humanities, Humanities, Humanities, Humanitie...</td>\n",
       "      <td>0</td>\n",
       "      <td>0</td>\n",
       "      <td>0</td>\n",
       "      <td>...</td>\n",
       "      <td>0</td>\n",
       "      <td>0</td>\n",
       "      <td>0</td>\n",
       "      <td>0</td>\n",
       "      <td>0</td>\n",
       "      <td>0</td>\n",
       "      <td>0</td>\n",
       "      <td>0</td>\n",
       "      <td>0</td>\n",
       "      <td>en</td>\n",
       "    </tr>\n",
       "    <tr>\n",
       "      <th>4</th>\n",
       "      <td>10.1163/1568527053083412</td>\n",
       "      <td>religion and violence: what can sociology offer?</td>\n",
       "      <td>&lt;jats:sec&gt;&lt;jats:title&gt;Abstract&lt;/jats:title&gt;&lt;ja...</td>\n",
       "      <td>[Religious studies, History]</td>\n",
       "      <td>abstract this essay presents a sketch of a soc...</td>\n",
       "      <td>[History, Religious studies]</td>\n",
       "      <td>[Humanities, Humanities]</td>\n",
       "      <td>0</td>\n",
       "      <td>0</td>\n",
       "      <td>0</td>\n",
       "      <td>...</td>\n",
       "      <td>0</td>\n",
       "      <td>0</td>\n",
       "      <td>0</td>\n",
       "      <td>0</td>\n",
       "      <td>0</td>\n",
       "      <td>0</td>\n",
       "      <td>0</td>\n",
       "      <td>0</td>\n",
       "      <td>0</td>\n",
       "      <td>en</td>\n",
       "    </tr>\n",
       "  </tbody>\n",
       "</table>\n",
       "<p>5 rows × 220 columns</p>\n",
       "</div>"
      ],
      "text/plain": [
       "                        DOI  \\\n",
       "0  10.1163/1568525043083505   \n",
       "1  10.1163/1568525043083532   \n",
       "2  10.1163/1568525043083541   \n",
       "3  10.1163/1568525043083514   \n",
       "4  10.1163/1568527053083412   \n",
       "\n",
       "                                               title  \\\n",
       "0           aristotle fr. 44 rose: midas and silenus   \n",
       "1  loca loquuntur. lucretius' explanation of the ...   \n",
       "2  poverty and demography: the case of the gracch...   \n",
       "3     old persian in athens revisited (ar. ach. 100)   \n",
       "4   religion and violence: what can sociology offer?   \n",
       "\n",
       "                                            abstract  \\\n",
       "0  <jats:sec><jats:title>Abstract</jats:title><ja...   \n",
       "1  <jats:sec><jats:title>Abstract</jats:title><ja...   \n",
       "2  <jats:sec><jats:title>Abstract</jats:title><ja...   \n",
       "3  <jats:sec><jats:title>Abstract</jats:title><ja...   \n",
       "4  <jats:sec><jats:title>Abstract</jats:title><ja...   \n",
       "\n",
       "                                             subject  \\\n",
       "0  [Classics, Linguistics and Language, Archaeolo...   \n",
       "1  [Classics, Linguistics and Language, Archaeolo...   \n",
       "2  [Classics, Linguistics and Language, Archaeolo...   \n",
       "3  [Classics, Linguistics and Language, Archaeolo...   \n",
       "4                       [Religious studies, History]   \n",
       "\n",
       "                                    cleaned_abstract  \\\n",
       "0  abstract scholars have identified two supposed...   \n",
       "1  abstract a discussion of the second part of lu...   \n",
       "2  abstract according to many ancient historians ...   \n",
       "3  abstract the old persian line in aristophanes ...   \n",
       "4  abstract this essay presents a sketch of a soc...   \n",
       "\n",
       "                                    filtered_subject  \\\n",
       "0  [Archaeology, Classics, History, Language and ...   \n",
       "1  [Archaeology, Classics, History, Language and ...   \n",
       "2  [Archaeology, Classics, History, Language and ...   \n",
       "3  [Archaeology, Classics, History, Language and ...   \n",
       "4                       [History, Religious studies]   \n",
       "\n",
       "                                          all_fields  field_Art  \\\n",
       "0  [Humanities, Humanities, Humanities, Humanitie...          0   \n",
       "1  [Humanities, Humanities, Humanities, Humanitie...          0   \n",
       "2  [Humanities, Humanities, Humanities, Humanitie...          0   \n",
       "3  [Humanities, Humanities, Humanities, Humanitie...          0   \n",
       "4                           [Humanities, Humanities]          0   \n",
       "\n",
       "   field_Biology  field_Business  ...  subj_Biological Psychiatry  \\\n",
       "0              0               0  ...                           0   \n",
       "1              0               0  ...                           0   \n",
       "2              0               0  ...                           0   \n",
       "3              0               0  ...                           0   \n",
       "4              0               0  ...                           0   \n",
       "\n",
       "   subj_Gender Studies  subj_Safety, Risk, Reliability and Quality  \\\n",
       "0                    0                                           0   \n",
       "1                    0                                           0   \n",
       "2                    0                                           0   \n",
       "3                    0                                           0   \n",
       "4                    0                                           0   \n",
       "\n",
       "   subj_Urban Studies  subj_Genetics(clinical)  \\\n",
       "0                   0                        0   \n",
       "1                   0                        0   \n",
       "2                   0                        0   \n",
       "3                   0                        0   \n",
       "4                   0                        0   \n",
       "\n",
       "   subj_Agricultural and Biological Sciences (miscellaneous)  subj_Museology  \\\n",
       "0                                                  0                       0   \n",
       "1                                                  0                       0   \n",
       "2                                                  0                       0   \n",
       "3                                                  0                       0   \n",
       "4                                                  0                       0   \n",
       "\n",
       "   subj_Nephrology  subj_Logic  lang  \n",
       "0                0           0    en  \n",
       "1                0           0    en  \n",
       "2                0           0    en  \n",
       "3                0           0    en  \n",
       "4                0           0    en  \n",
       "\n",
       "[5 rows x 220 columns]"
      ]
     },
     "execution_count": 104,
     "metadata": {},
     "output_type": "execute_result"
    }
   ],
   "source": [
    "df.head()"
   ]
  },
  {
   "cell_type": "code",
   "execution_count": 105,
   "metadata": {},
   "outputs": [
    {
     "data": {
      "text/plain": [
       "array(['af', 'ar', 'bg', 'ca', 'cs', 'cy', 'da', 'de', 'el', 'en', 'es',\n",
       "       'et', 'fi', 'fr', 'he', 'hr', 'hu', 'id', 'it', 'ko', 'lt', 'lv',\n",
       "       'nl', 'no', 'pl', 'pt', 'ro', 'ru', 'sk', 'sl', 'so', 'sq', 'sv',\n",
       "       'sw', 'th', 'tl', 'tr', 'uk', 'zh-cn'], dtype=object)"
      ]
     },
     "execution_count": 105,
     "metadata": {},
     "output_type": "execute_result"
    }
   ],
   "source": [
    "np.unique(df[\"lang\"])"
   ]
  },
  {
   "cell_type": "code",
   "execution_count": 106,
   "metadata": {},
   "outputs": [],
   "source": [
    "df_en = df[df[\"lang\"] == \"en\"].copy()"
   ]
  },
  {
   "cell_type": "code",
   "execution_count": 107,
   "metadata": {},
   "outputs": [
    {
     "data": {
      "text/plain": [
       "(1984464, 220)"
      ]
     },
     "execution_count": 107,
     "metadata": {},
     "output_type": "execute_result"
    }
   ],
   "source": [
    "df_en.shape"
   ]
  },
  {
   "cell_type": "code",
   "execution_count": 108,
   "metadata": {},
   "outputs": [
    {
     "data": {
      "text/plain": [
       "(2118438, 220)"
      ]
     },
     "execution_count": 108,
     "metadata": {},
     "output_type": "execute_result"
    }
   ],
   "source": [
    "df.shape"
   ]
  },
  {
   "cell_type": "code",
   "execution_count": 110,
   "metadata": {},
   "outputs": [
    {
     "data": {
      "text/plain": [
       "133974"
      ]
     },
     "execution_count": 110,
     "metadata": {},
     "output_type": "execute_result"
    }
   ],
   "source": [
    "df.shape[0] - df_en.shape[0]"
   ]
  },
  {
   "cell_type": "code",
   "execution_count": 111,
   "metadata": {},
   "outputs": [],
   "source": [
    "df_en.to_pickle(\"looong_df_subjects_en.pkl\")"
   ]
  }
 ],
 "metadata": {
  "kernelspec": {
   "display_name": "Python 3",
   "language": "python",
   "name": "python3"
  },
  "language_info": {
   "codemirror_mode": {
    "name": "ipython",
    "version": 3
   },
   "file_extension": ".py",
   "mimetype": "text/x-python",
   "name": "python",
   "nbconvert_exporter": "python",
   "pygments_lexer": "ipython3",
   "version": "3.6.1"
  }
 },
 "nbformat": 4,
 "nbformat_minor": 5
}

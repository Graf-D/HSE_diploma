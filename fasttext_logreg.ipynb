{
 "cells": [
  {
   "cell_type": "code",
   "execution_count": 1,
   "id": "mental-machinery",
   "metadata": {},
   "outputs": [],
   "source": [
    "# https://fasttext.cc/docs/en/english-vectors.html"
   ]
  },
  {
   "cell_type": "code",
   "execution_count": 2,
   "id": "atmospheric-dynamics",
   "metadata": {},
   "outputs": [],
   "source": [
    "#!unzip wiki-news-300d-1M.vec.zip"
   ]
  },
  {
   "cell_type": "code",
   "execution_count": 3,
   "id": "signed-oxygen",
   "metadata": {},
   "outputs": [],
   "source": [
    "import pandas as pd\n",
    "import numpy as np"
   ]
  },
  {
   "cell_type": "code",
   "execution_count": 4,
   "id": "satellite-netherlands",
   "metadata": {},
   "outputs": [
    {
     "data": {
      "text/html": [
       "<div>\n",
       "<style scoped>\n",
       "    .dataframe tbody tr th:only-of-type {\n",
       "        vertical-align: middle;\n",
       "    }\n",
       "\n",
       "    .dataframe tbody tr th {\n",
       "        vertical-align: top;\n",
       "    }\n",
       "\n",
       "    .dataframe thead th {\n",
       "        text-align: right;\n",
       "    }\n",
       "</style>\n",
       "<table border=\"1\" class=\"dataframe\">\n",
       "  <thead>\n",
       "    <tr style=\"text-align: right;\">\n",
       "      <th></th>\n",
       "      <th>DOI</th>\n",
       "      <th>title</th>\n",
       "      <th>abstract</th>\n",
       "      <th>subject</th>\n",
       "      <th>cleaned_abstract</th>\n",
       "      <th>filtered_subject</th>\n",
       "      <th>all_fields</th>\n",
       "      <th>field_Art</th>\n",
       "      <th>field_Biology</th>\n",
       "      <th>field_Business</th>\n",
       "      <th>field_Chemistry</th>\n",
       "      <th>field_Geology</th>\n",
       "      <th>field_Humanities</th>\n",
       "      <th>field_Math</th>\n",
       "      <th>field_Medicine</th>\n",
       "      <th>field_Physics</th>\n",
       "      <th>field_Psychology</th>\n",
       "      <th>field_Social</th>\n",
       "      <th>field_Tech</th>\n",
       "    </tr>\n",
       "  </thead>\n",
       "  <tbody>\n",
       "    <tr>\n",
       "      <th>0</th>\n",
       "      <td>10.1163/1568525043083505</td>\n",
       "      <td>aristotle fr. 44 rose: midas and silenus</td>\n",
       "      <td>&lt;jats:sec&gt;&lt;jats:title&gt;Abstract&lt;/jats:title&gt;&lt;ja...</td>\n",
       "      <td>[Classics, Linguistics and Language, Archaeolo...</td>\n",
       "      <td>abstract scholars have identified two supposed...</td>\n",
       "      <td>[Archaeology, Classics, History, Language and ...</td>\n",
       "      <td>[Humanities, Humanities, Humanities, Humanitie...</td>\n",
       "      <td>0</td>\n",
       "      <td>0</td>\n",
       "      <td>0</td>\n",
       "      <td>0</td>\n",
       "      <td>0</td>\n",
       "      <td>1</td>\n",
       "      <td>0</td>\n",
       "      <td>0</td>\n",
       "      <td>0</td>\n",
       "      <td>0</td>\n",
       "      <td>0</td>\n",
       "      <td>0</td>\n",
       "    </tr>\n",
       "    <tr>\n",
       "      <th>1</th>\n",
       "      <td>10.1163/1568525043083532</td>\n",
       "      <td>loca loquuntur. lucretius' explanation of the ...</td>\n",
       "      <td>&lt;jats:sec&gt;&lt;jats:title&gt;Abstract&lt;/jats:title&gt;&lt;ja...</td>\n",
       "      <td>[Classics, Linguistics and Language, Archaeolo...</td>\n",
       "      <td>abstract a discussion of the second part of lu...</td>\n",
       "      <td>[Archaeology, Classics, History, Language and ...</td>\n",
       "      <td>[Humanities, Humanities, Humanities, Humanitie...</td>\n",
       "      <td>0</td>\n",
       "      <td>0</td>\n",
       "      <td>0</td>\n",
       "      <td>0</td>\n",
       "      <td>0</td>\n",
       "      <td>1</td>\n",
       "      <td>0</td>\n",
       "      <td>0</td>\n",
       "      <td>0</td>\n",
       "      <td>0</td>\n",
       "      <td>0</td>\n",
       "      <td>0</td>\n",
       "    </tr>\n",
       "    <tr>\n",
       "      <th>2</th>\n",
       "      <td>10.1163/1568525043083541</td>\n",
       "      <td>poverty and demography: the case of the gracch...</td>\n",
       "      <td>&lt;jats:sec&gt;&lt;jats:title&gt;Abstract&lt;/jats:title&gt;&lt;ja...</td>\n",
       "      <td>[Classics, Linguistics and Language, Archaeolo...</td>\n",
       "      <td>abstract according to many ancient historians ...</td>\n",
       "      <td>[Archaeology, Classics, History, Language and ...</td>\n",
       "      <td>[Humanities, Humanities, Humanities, Humanitie...</td>\n",
       "      <td>0</td>\n",
       "      <td>0</td>\n",
       "      <td>0</td>\n",
       "      <td>0</td>\n",
       "      <td>0</td>\n",
       "      <td>1</td>\n",
       "      <td>0</td>\n",
       "      <td>0</td>\n",
       "      <td>0</td>\n",
       "      <td>0</td>\n",
       "      <td>0</td>\n",
       "      <td>0</td>\n",
       "    </tr>\n",
       "    <tr>\n",
       "      <th>3</th>\n",
       "      <td>10.1163/1568525043083514</td>\n",
       "      <td>old persian in athens revisited (ar. ach. 100)</td>\n",
       "      <td>&lt;jats:sec&gt;&lt;jats:title&gt;Abstract&lt;/jats:title&gt;&lt;ja...</td>\n",
       "      <td>[Classics, Linguistics and Language, Archaeolo...</td>\n",
       "      <td>abstract the old persian line in aristophanes ...</td>\n",
       "      <td>[Archaeology, Classics, History, Language and ...</td>\n",
       "      <td>[Humanities, Humanities, Humanities, Humanitie...</td>\n",
       "      <td>0</td>\n",
       "      <td>0</td>\n",
       "      <td>0</td>\n",
       "      <td>0</td>\n",
       "      <td>0</td>\n",
       "      <td>1</td>\n",
       "      <td>0</td>\n",
       "      <td>0</td>\n",
       "      <td>0</td>\n",
       "      <td>0</td>\n",
       "      <td>0</td>\n",
       "      <td>0</td>\n",
       "    </tr>\n",
       "    <tr>\n",
       "      <th>4</th>\n",
       "      <td>10.1163/1568527053083412</td>\n",
       "      <td>religion and violence: what can sociology offer?</td>\n",
       "      <td>&lt;jats:sec&gt;&lt;jats:title&gt;Abstract&lt;/jats:title&gt;&lt;ja...</td>\n",
       "      <td>[Religious studies, History]</td>\n",
       "      <td>abstract this essay presents a sketch of a soc...</td>\n",
       "      <td>[History, Religious studies]</td>\n",
       "      <td>[Humanities, Humanities]</td>\n",
       "      <td>0</td>\n",
       "      <td>0</td>\n",
       "      <td>0</td>\n",
       "      <td>0</td>\n",
       "      <td>0</td>\n",
       "      <td>1</td>\n",
       "      <td>0</td>\n",
       "      <td>0</td>\n",
       "      <td>0</td>\n",
       "      <td>0</td>\n",
       "      <td>0</td>\n",
       "      <td>0</td>\n",
       "    </tr>\n",
       "  </tbody>\n",
       "</table>\n",
       "</div>"
      ],
      "text/plain": [
       "                        DOI  \\\n",
       "0  10.1163/1568525043083505   \n",
       "1  10.1163/1568525043083532   \n",
       "2  10.1163/1568525043083541   \n",
       "3  10.1163/1568525043083514   \n",
       "4  10.1163/1568527053083412   \n",
       "\n",
       "                                               title  \\\n",
       "0           aristotle fr. 44 rose: midas and silenus   \n",
       "1  loca loquuntur. lucretius' explanation of the ...   \n",
       "2  poverty and demography: the case of the gracch...   \n",
       "3     old persian in athens revisited (ar. ach. 100)   \n",
       "4   religion and violence: what can sociology offer?   \n",
       "\n",
       "                                            abstract  \\\n",
       "0  <jats:sec><jats:title>Abstract</jats:title><ja...   \n",
       "1  <jats:sec><jats:title>Abstract</jats:title><ja...   \n",
       "2  <jats:sec><jats:title>Abstract</jats:title><ja...   \n",
       "3  <jats:sec><jats:title>Abstract</jats:title><ja...   \n",
       "4  <jats:sec><jats:title>Abstract</jats:title><ja...   \n",
       "\n",
       "                                             subject  \\\n",
       "0  [Classics, Linguistics and Language, Archaeolo...   \n",
       "1  [Classics, Linguistics and Language, Archaeolo...   \n",
       "2  [Classics, Linguistics and Language, Archaeolo...   \n",
       "3  [Classics, Linguistics and Language, Archaeolo...   \n",
       "4                       [Religious studies, History]   \n",
       "\n",
       "                                    cleaned_abstract  \\\n",
       "0  abstract scholars have identified two supposed...   \n",
       "1  abstract a discussion of the second part of lu...   \n",
       "2  abstract according to many ancient historians ...   \n",
       "3  abstract the old persian line in aristophanes ...   \n",
       "4  abstract this essay presents a sketch of a soc...   \n",
       "\n",
       "                                    filtered_subject  \\\n",
       "0  [Archaeology, Classics, History, Language and ...   \n",
       "1  [Archaeology, Classics, History, Language and ...   \n",
       "2  [Archaeology, Classics, History, Language and ...   \n",
       "3  [Archaeology, Classics, History, Language and ...   \n",
       "4                       [History, Religious studies]   \n",
       "\n",
       "                                          all_fields  field_Art  \\\n",
       "0  [Humanities, Humanities, Humanities, Humanitie...          0   \n",
       "1  [Humanities, Humanities, Humanities, Humanitie...          0   \n",
       "2  [Humanities, Humanities, Humanities, Humanitie...          0   \n",
       "3  [Humanities, Humanities, Humanities, Humanitie...          0   \n",
       "4                           [Humanities, Humanities]          0   \n",
       "\n",
       "   field_Biology  field_Business  field_Chemistry  field_Geology  \\\n",
       "0              0               0                0              0   \n",
       "1              0               0                0              0   \n",
       "2              0               0                0              0   \n",
       "3              0               0                0              0   \n",
       "4              0               0                0              0   \n",
       "\n",
       "   field_Humanities  field_Math  field_Medicine  field_Physics  \\\n",
       "0                 1           0               0              0   \n",
       "1                 1           0               0              0   \n",
       "2                 1           0               0              0   \n",
       "3                 1           0               0              0   \n",
       "4                 1           0               0              0   \n",
       "\n",
       "   field_Psychology  field_Social  field_Tech  \n",
       "0                 0             0           0  \n",
       "1                 0             0           0  \n",
       "2                 0             0           0  \n",
       "3                 0             0           0  \n",
       "4                 0             0           0  "
      ]
     },
     "execution_count": 4,
     "metadata": {},
     "output_type": "execute_result"
    }
   ],
   "source": [
    "df = pd.read_json(\"filtered_and_field_1.json\")\n",
    "df.head()"
   ]
  },
  {
   "cell_type": "code",
   "execution_count": 76,
   "id": "regulated-magic",
   "metadata": {},
   "outputs": [],
   "source": [
    "from sklearn.model_selection import train_test_split\n",
    "\n",
    "target = [column for column in df.columns if \"field_\" in column]\n",
    "X_train, X_test, y_train, y_test = train_test_split(df[\"cleaned_abstract\"], df[target],\n",
    "                                                   train_size=0.8, test_size=0.2,\n",
    "                                                   random_state=42)"
   ]
  },
  {
   "cell_type": "code",
   "execution_count": 77,
   "id": "relative-cause",
   "metadata": {},
   "outputs": [
    {
     "data": {
      "text/plain": [
       "(1694750,)"
      ]
     },
     "execution_count": 77,
     "metadata": {},
     "output_type": "execute_result"
    }
   ],
   "source": [
    "X_train.shape"
   ]
  },
  {
   "cell_type": "markdown",
   "id": "israeli-queue",
   "metadata": {},
   "source": [
    "# Pretrained fasttext as w2v"
   ]
  },
  {
   "cell_type": "code",
   "execution_count": null,
   "id": "honest-ordinary",
   "metadata": {},
   "outputs": [],
   "source": [
    "from gensim.models import KeyedVectors\n",
    "\n",
    "fasttext = KeyedVectors.load_word2vec_format('wiki-news-300d-1M.vec', binary=False)"
   ]
  },
  {
   "cell_type": "code",
   "execution_count": null,
   "id": "portuguese-antigua",
   "metadata": {},
   "outputs": [],
   "source": [
    "from nltk.tokenize import RegexpTokenizer\n",
    "\n",
    "tokenizer = RegexpTokenizer(r'\\w+')\n",
    "def transform(sentence, embeddings):\n",
    "    tokens = tokenizer.tokenize(sentence)\n",
    "    curr_embs = []\n",
    "    for token in tokens:\n",
    "        if token.lower() in embeddings:\n",
    "            curr_embs.append(embeddings[token.lower()])\n",
    "    res = np.mean(curr_embs, axis=0)\n",
    "    return res\n",
    "\n",
    "def array_transform(array, embeddings):\n",
    "    new_array = np.empty(shape=(300,))\n",
    "    for elem in array:\n",
    "        new_elem = transform(elem, embeddings=embeddings)\n",
    "        new_array = np.vstack([new_array, new_elem])\n",
    "    return new_array"
   ]
  },
  {
   "cell_type": "code",
   "execution_count": null,
   "id": "greater-dragon",
   "metadata": {},
   "outputs": [],
   "source": [
    "X_train_transformed = array_transform(X_train, embeddings=fasttext)\n",
    "X_test_transformed = array_transform(X_test, embeddings=fasttext)"
   ]
  },
  {
   "cell_type": "code",
   "execution_count": null,
   "id": "athletic-niger",
   "metadata": {},
   "outputs": [],
   "source": [
    "y_train_classes = {\n",
    "    field: y_train[field] for field in target\n",
    "}"
   ]
  },
  {
   "cell_type": "code",
   "execution_count": null,
   "id": "retired-atlantic",
   "metadata": {},
   "outputs": [],
   "source": [
    "from sklearn.linear_model import LogisticRegression\n",
    "\n",
    "logits = {\n",
    "    field: LogisticRegression(n_jobs=-1, max_iter=1_000_000, random_state=123) for field in target\n",
    "}\n",
    "\n",
    "for field, logit in logits.items():\n",
    "    print(f\"Fitting {field} logistic regression\")\n",
    "    logit.fit(X_train_transformed, y_train_classes[field])"
   ]
  },
  {
   "cell_type": "code",
   "execution_count": null,
   "id": "golden-judgment",
   "metadata": {},
   "outputs": [],
   "source": [
    "from sklearn.metrics import classification_report as clf_report\n",
    "\n",
    "for field in target:\n",
    "    print(field.upper())\n",
    "    y_pred = logits[field].predict(X_test_transformed)\n",
    "    print(clf_report(y_test[field], y_pred))\n",
    "    print()"
   ]
  },
  {
   "cell_type": "markdown",
   "id": "hearing-ethiopia",
   "metadata": {},
   "source": [
    "# Fasttext с нуля"
   ]
  },
  {
   "cell_type": "code",
   "execution_count": 97,
   "id": "polyphonic-pursuit",
   "metadata": {},
   "outputs": [
    {
     "data": {
      "text/plain": [
       "'3.8.3'"
      ]
     },
     "execution_count": 97,
     "metadata": {},
     "output_type": "execute_result"
    }
   ],
   "source": [
    "import gensim\n",
    "\n",
    "gensim.__version__"
   ]
  },
  {
   "cell_type": "code",
   "execution_count": 98,
   "id": "removable-squad",
   "metadata": {},
   "outputs": [],
   "source": [
    "from gensim.models import FastText\n",
    "\n",
    "model = FastText(sentences=X_train, size=300, min_count=50, iter=10)"
   ]
  },
  {
   "cell_type": "code",
   "execution_count": 99,
   "id": "willing-morrison",
   "metadata": {},
   "outputs": [],
   "source": [
    "from nltk.tokenize import RegexpTokenizer\n",
    "\n",
    "tokenizer = RegexpTokenizer(r'\\w+')\n",
    "def transform(sentence, model):\n",
    "    tokens = tokenizer.tokenize(sentence)\n",
    "    curr_embs = []\n",
    "    for token in tokens:\n",
    "        curr_embs.append(model.wv[token.lower()])\n",
    "    res = np.mean(curr_embs, axis=0)\n",
    "    return res\n",
    "\n",
    "def array_transform(array, model):\n",
    "    new_array = np.empty(shape=(300,))\n",
    "    for elem in array:\n",
    "        new_elem = transform(elem, model=model)\n",
    "        new_array = np.vstack([new_array, new_elem])\n",
    "    return new_array[1:]"
   ]
  },
  {
   "cell_type": "code",
   "execution_count": 100,
   "id": "miniature-syndrome",
   "metadata": {},
   "outputs": [
    {
     "name": "stdout",
     "output_type": "stream",
     "text": [
      "CPU times: user 36min 23s, sys: 1.29 s, total: 36min 25s\n",
      "Wall time: 36min 41s\n"
     ]
    }
   ],
   "source": [
    "%%time\n",
    "\n",
    "X_test_transformed = X_test.apply(transform, model=model)"
   ]
  },
  {
   "cell_type": "code",
   "execution_count": 101,
   "id": "conventional-public",
   "metadata": {},
   "outputs": [
    {
     "name": "stdout",
     "output_type": "stream",
     "text": [
      "CPU times: user 2h 25min 19s, sys: 2.31 s, total: 2h 25min 21s\n",
      "Wall time: 2h 25min 34s\n"
     ]
    }
   ],
   "source": [
    "%%time\n",
    "\n",
    "X_train_transformed = X_train.apply(transform, model=model)"
   ]
  },
  {
   "cell_type": "code",
   "execution_count": 102,
   "id": "numerous-hindu",
   "metadata": {},
   "outputs": [],
   "source": [
    "#X_train_transformed = array_transform(X_train, model=model)\n",
    "#X_test_transformed = array_transform(X_test, model=model)"
   ]
  },
  {
   "cell_type": "code",
   "execution_count": 103,
   "id": "rational-attack",
   "metadata": {},
   "outputs": [],
   "source": [
    "X_train_transformed = np.stack(X_train_transformed)\n",
    "X_test_transformed = np.stack(X_test_transformed)"
   ]
  },
  {
   "cell_type": "code",
   "execution_count": 104,
   "id": "accepted-jacksonville",
   "metadata": {},
   "outputs": [],
   "source": [
    "y_train_classes = {\n",
    "    field: y_train[field] for field in target\n",
    "}"
   ]
  },
  {
   "cell_type": "code",
   "execution_count": 105,
   "id": "thick-reasoning",
   "metadata": {},
   "outputs": [
    {
     "name": "stdout",
     "output_type": "stream",
     "text": [
      "Fitting field_Art logistic regression\n",
      "Fitting field_Biology logistic regression\n",
      "Fitting field_Business logistic regression\n",
      "Fitting field_Chemistry logistic regression\n",
      "Fitting field_Geology logistic regression\n",
      "Fitting field_Humanities logistic regression\n",
      "Fitting field_Math logistic regression\n",
      "Fitting field_Medicine logistic regression\n",
      "Fitting field_Physics logistic regression\n",
      "Fitting field_Psychology logistic regression\n",
      "Fitting field_Social logistic regression\n",
      "Fitting field_Tech logistic regression\n"
     ]
    }
   ],
   "source": [
    "from sklearn.linear_model import LogisticRegression\n",
    "\n",
    "logits = {\n",
    "    field: LogisticRegression(n_jobs=-1, max_iter=1_000_000, random_state=123) for field in target\n",
    "}\n",
    "\n",
    "for field, logit in logits.items():\n",
    "    print(f\"Fitting {field} logistic regression\")\n",
    "    logit.fit(X_train_transformed, y_train_classes[field])"
   ]
  },
  {
   "cell_type": "code",
   "execution_count": 106,
   "id": "normal-hungarian",
   "metadata": {},
   "outputs": [
    {
     "name": "stdout",
     "output_type": "stream",
     "text": [
      "FIELD_ART\n",
      "              precision    recall  f1-score   support\n",
      "\n",
      "           0       0.99      1.00      0.99    419220\n",
      "           1       0.04      0.00      0.00      4468\n",
      "\n",
      "    accuracy                           0.99    423688\n",
      "   macro avg       0.52      0.50      0.50    423688\n",
      "weighted avg       0.98      0.99      0.98    423688\n",
      "\n",
      "\n",
      "FIELD_BIOLOGY\n",
      "              precision    recall  f1-score   support\n",
      "\n",
      "           0       0.69      0.98      0.81    290398\n",
      "           1       0.54      0.05      0.08    133290\n",
      "\n",
      "    accuracy                           0.69    423688\n",
      "   macro avg       0.61      0.51      0.45    423688\n",
      "weighted avg       0.64      0.69      0.58    423688\n",
      "\n",
      "\n",
      "FIELD_BUSINESS\n",
      "              precision    recall  f1-score   support\n",
      "\n",
      "           0       0.97      1.00      0.99    411821\n",
      "           1       0.00      0.00      0.00     11867\n",
      "\n",
      "    accuracy                           0.97    423688\n",
      "   macro avg       0.49      0.50      0.49    423688\n",
      "weighted avg       0.94      0.97      0.96    423688\n",
      "\n",
      "\n",
      "FIELD_CHEMISTRY\n",
      "              precision    recall  f1-score   support\n",
      "\n",
      "           0       0.86      1.00      0.92    361954\n",
      "           1       0.69      0.05      0.10     61734\n",
      "\n",
      "    accuracy                           0.86    423688\n",
      "   macro avg       0.78      0.53      0.51    423688\n",
      "weighted avg       0.84      0.86      0.80    423688\n",
      "\n",
      "\n",
      "FIELD_GEOLOGY\n",
      "              precision    recall  f1-score   support\n",
      "\n",
      "           0       0.96      1.00      0.98    405845\n",
      "           1       0.00      0.00      0.00     17843\n",
      "\n",
      "    accuracy                           0.96    423688\n",
      "   macro avg       0.48      0.50      0.49    423688\n",
      "weighted avg       0.92      0.96      0.94    423688\n",
      "\n",
      "\n",
      "FIELD_HUMANITIES\n",
      "              precision    recall  f1-score   support\n",
      "\n",
      "           0       0.91      0.99      0.95    385567\n",
      "           1       0.49      0.05      0.09     38121\n",
      "\n",
      "    accuracy                           0.91    423688\n",
      "   macro avg       0.70      0.52      0.52    423688\n",
      "weighted avg       0.88      0.91      0.87    423688\n",
      "\n",
      "\n",
      "FIELD_MATH\n",
      "              precision    recall  f1-score   support\n",
      "\n",
      "           0       0.96      1.00      0.98    403701\n",
      "           1       0.80      0.12      0.21     19987\n",
      "\n",
      "    accuracy                           0.96    423688\n",
      "   macro avg       0.88      0.56      0.59    423688\n",
      "weighted avg       0.95      0.96      0.94    423688\n",
      "\n",
      "\n",
      "FIELD_MEDICINE\n",
      "              precision    recall  f1-score   support\n",
      "\n",
      "           0       0.69      0.94      0.80    277320\n",
      "           1       0.66      0.21      0.32    146368\n",
      "\n",
      "    accuracy                           0.69    423688\n",
      "   macro avg       0.68      0.58      0.56    423688\n",
      "weighted avg       0.68      0.69      0.63    423688\n",
      "\n",
      "\n",
      "FIELD_PHYSICS\n",
      "              precision    recall  f1-score   support\n",
      "\n",
      "           0       0.78      1.00      0.87    328101\n",
      "           1       0.49      0.01      0.03     95587\n",
      "\n",
      "    accuracy                           0.77    423688\n",
      "   macro avg       0.63      0.50      0.45    423688\n",
      "weighted avg       0.71      0.77      0.68    423688\n",
      "\n",
      "\n",
      "FIELD_PSYCHOLOGY\n",
      "              precision    recall  f1-score   support\n",
      "\n",
      "           0       0.97      1.00      0.98    408986\n",
      "           1       0.00      0.00      0.00     14702\n",
      "\n",
      "    accuracy                           0.97    423688\n",
      "   macro avg       0.48      0.50      0.49    423688\n",
      "weighted avg       0.93      0.97      0.95    423688\n",
      "\n",
      "\n",
      "FIELD_SOCIAL\n",
      "              precision    recall  f1-score   support\n",
      "\n",
      "           0       0.93      1.00      0.96    394552\n",
      "           1       0.39      0.02      0.03     29136\n",
      "\n",
      "    accuracy                           0.93    423688\n",
      "   macro avg       0.66      0.51      0.50    423688\n",
      "weighted avg       0.89      0.93      0.90    423688\n",
      "\n",
      "\n",
      "FIELD_TECH\n",
      "              precision    recall  f1-score   support\n",
      "\n",
      "           0       0.96      1.00      0.98    407231\n",
      "           1       0.24      0.00      0.00     16457\n",
      "\n",
      "    accuracy                           0.96    423688\n",
      "   macro avg       0.60      0.50      0.49    423688\n",
      "weighted avg       0.93      0.96      0.94    423688\n",
      "\n",
      "\n"
     ]
    }
   ],
   "source": [
    "from sklearn.metrics import classification_report as clf_report\n",
    "\n",
    "for field in target:\n",
    "    print(field.upper())\n",
    "    y_pred = logits[field].predict(X_test_transformed)\n",
    "    print(clf_report(y_test[field], y_pred))\n",
    "    print()"
   ]
  },
  {
   "cell_type": "code",
   "execution_count": null,
   "id": "impaired-establishment",
   "metadata": {},
   "outputs": [],
   "source": []
  },
  {
   "cell_type": "code",
   "execution_count": null,
   "id": "unknown-plane",
   "metadata": {},
   "outputs": [],
   "source": []
  }
 ],
 "metadata": {
  "kernelspec": {
   "display_name": "Python 3",
   "language": "python",
   "name": "python3"
  },
  "language_info": {
   "codemirror_mode": {
    "name": "ipython",
    "version": 3
   },
   "file_extension": ".py",
   "mimetype": "text/x-python",
   "name": "python",
   "nbconvert_exporter": "python",
   "pygments_lexer": "ipython3",
   "version": "3.8.6"
  }
 },
 "nbformat": 4,
 "nbformat_minor": 5
}

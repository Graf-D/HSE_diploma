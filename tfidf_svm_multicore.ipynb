{
 "cells": [
  {
   "cell_type": "markdown",
   "id": "inner-brand",
   "metadata": {},
   "source": [
    "Tf-idf с биграммами и логистическую регрессию поверх этого, свою для каждого класса. И дальше просто для каждого класса в отдельности померить качество (accuracy, f-меру), и глянуть их средние по всем классам."
   ]
  },
  {
   "cell_type": "code",
   "execution_count": 20,
   "id": "bored-craft",
   "metadata": {},
   "outputs": [],
   "source": [
    "import pandas as pd\n",
    "import numpy as np\n",
    "import matplotlib.pyplot as plt\n",
    "\n",
    "import os\n",
    "import pickle\n",
    "import threading\n",
    "from tqdm.notebook import tqdm\n",
    "\n",
    "from sklearn.model_selection import train_test_split\n",
    "\n",
    "from sklearn.feature_extraction.text import TfidfVectorizer\n",
    "from sklearn.svm import LinearSVC\n",
    "from sklearn.calibration import CalibratedClassifierCV\n",
    "\n",
    "from sklearn.metrics import classification_report as clf_report\n",
    "from sklearn.metrics import (\n",
    "    accuracy_score,\n",
    "    recall_score,\n",
    "    precision_score,\n",
    "    f1_score\n",
    ")"
   ]
  },
  {
   "cell_type": "markdown",
   "id": "portuguese-genetics",
   "metadata": {},
   "source": [
    "# Сначала field"
   ]
  },
  {
   "cell_type": "markdown",
   "id": "powerful-advance",
   "metadata": {},
   "source": [
    "Возьмем df с удаленными не-английскими текстами:"
   ]
  },
  {
   "cell_type": "code",
   "execution_count": 2,
   "id": "hungarian-history",
   "metadata": {},
   "outputs": [
    {
     "data": {
      "text/html": [
       "<div>\n",
       "<style scoped>\n",
       "    .dataframe tbody tr th:only-of-type {\n",
       "        vertical-align: middle;\n",
       "    }\n",
       "\n",
       "    .dataframe tbody tr th {\n",
       "        vertical-align: top;\n",
       "    }\n",
       "\n",
       "    .dataframe thead th {\n",
       "        text-align: right;\n",
       "    }\n",
       "</style>\n",
       "<table border=\"1\" class=\"dataframe\">\n",
       "  <thead>\n",
       "    <tr style=\"text-align: right;\">\n",
       "      <th></th>\n",
       "      <th>DOI</th>\n",
       "      <th>title</th>\n",
       "      <th>abstract</th>\n",
       "      <th>subject</th>\n",
       "      <th>cleaned_abstract</th>\n",
       "      <th>filtered_subject</th>\n",
       "      <th>all_fields</th>\n",
       "      <th>field_Art</th>\n",
       "      <th>field_Biology</th>\n",
       "      <th>field_Business</th>\n",
       "      <th>...</th>\n",
       "      <th>subj_Biological Psychiatry</th>\n",
       "      <th>subj_Gender Studies</th>\n",
       "      <th>subj_Safety, Risk, Reliability and Quality</th>\n",
       "      <th>subj_Urban Studies</th>\n",
       "      <th>subj_Genetics(clinical)</th>\n",
       "      <th>subj_Agricultural and Biological Sciences (miscellaneous)</th>\n",
       "      <th>subj_Museology</th>\n",
       "      <th>subj_Nephrology</th>\n",
       "      <th>subj_Logic</th>\n",
       "      <th>lang</th>\n",
       "    </tr>\n",
       "  </thead>\n",
       "  <tbody>\n",
       "    <tr>\n",
       "      <th>0</th>\n",
       "      <td>10.1163/1568525043083505</td>\n",
       "      <td>aristotle fr. 44 rose: midas and silenus</td>\n",
       "      <td>&lt;jats:sec&gt;&lt;jats:title&gt;Abstract&lt;/jats:title&gt;&lt;ja...</td>\n",
       "      <td>[Classics, Linguistics and Language, Archaeolo...</td>\n",
       "      <td>abstract scholars have identified two supposed...</td>\n",
       "      <td>[Archaeology, Classics, History, Language and ...</td>\n",
       "      <td>[Humanities, Humanities, Humanities, Humanitie...</td>\n",
       "      <td>0</td>\n",
       "      <td>0</td>\n",
       "      <td>0</td>\n",
       "      <td>...</td>\n",
       "      <td>0</td>\n",
       "      <td>0</td>\n",
       "      <td>0</td>\n",
       "      <td>0</td>\n",
       "      <td>0</td>\n",
       "      <td>0</td>\n",
       "      <td>0</td>\n",
       "      <td>0</td>\n",
       "      <td>0</td>\n",
       "      <td>en</td>\n",
       "    </tr>\n",
       "    <tr>\n",
       "      <th>1</th>\n",
       "      <td>10.1163/1568525043083532</td>\n",
       "      <td>loca loquuntur. lucretius' explanation of the ...</td>\n",
       "      <td>&lt;jats:sec&gt;&lt;jats:title&gt;Abstract&lt;/jats:title&gt;&lt;ja...</td>\n",
       "      <td>[Classics, Linguistics and Language, Archaeolo...</td>\n",
       "      <td>abstract a discussion of the second part of lu...</td>\n",
       "      <td>[Archaeology, Classics, History, Language and ...</td>\n",
       "      <td>[Humanities, Humanities, Humanities, Humanitie...</td>\n",
       "      <td>0</td>\n",
       "      <td>0</td>\n",
       "      <td>0</td>\n",
       "      <td>...</td>\n",
       "      <td>0</td>\n",
       "      <td>0</td>\n",
       "      <td>0</td>\n",
       "      <td>0</td>\n",
       "      <td>0</td>\n",
       "      <td>0</td>\n",
       "      <td>0</td>\n",
       "      <td>0</td>\n",
       "      <td>0</td>\n",
       "      <td>en</td>\n",
       "    </tr>\n",
       "    <tr>\n",
       "      <th>2</th>\n",
       "      <td>10.1163/1568525043083541</td>\n",
       "      <td>poverty and demography: the case of the gracch...</td>\n",
       "      <td>&lt;jats:sec&gt;&lt;jats:title&gt;Abstract&lt;/jats:title&gt;&lt;ja...</td>\n",
       "      <td>[Classics, Linguistics and Language, Archaeolo...</td>\n",
       "      <td>abstract according to many ancient historians ...</td>\n",
       "      <td>[Archaeology, Classics, History, Language and ...</td>\n",
       "      <td>[Humanities, Humanities, Humanities, Humanitie...</td>\n",
       "      <td>0</td>\n",
       "      <td>0</td>\n",
       "      <td>0</td>\n",
       "      <td>...</td>\n",
       "      <td>0</td>\n",
       "      <td>0</td>\n",
       "      <td>0</td>\n",
       "      <td>0</td>\n",
       "      <td>0</td>\n",
       "      <td>0</td>\n",
       "      <td>0</td>\n",
       "      <td>0</td>\n",
       "      <td>0</td>\n",
       "      <td>en</td>\n",
       "    </tr>\n",
       "    <tr>\n",
       "      <th>3</th>\n",
       "      <td>10.1163/1568525043083514</td>\n",
       "      <td>old persian in athens revisited (ar. ach. 100)</td>\n",
       "      <td>&lt;jats:sec&gt;&lt;jats:title&gt;Abstract&lt;/jats:title&gt;&lt;ja...</td>\n",
       "      <td>[Classics, Linguistics and Language, Archaeolo...</td>\n",
       "      <td>abstract the old persian line in aristophanes ...</td>\n",
       "      <td>[Archaeology, Classics, History, Language and ...</td>\n",
       "      <td>[Humanities, Humanities, Humanities, Humanitie...</td>\n",
       "      <td>0</td>\n",
       "      <td>0</td>\n",
       "      <td>0</td>\n",
       "      <td>...</td>\n",
       "      <td>0</td>\n",
       "      <td>0</td>\n",
       "      <td>0</td>\n",
       "      <td>0</td>\n",
       "      <td>0</td>\n",
       "      <td>0</td>\n",
       "      <td>0</td>\n",
       "      <td>0</td>\n",
       "      <td>0</td>\n",
       "      <td>en</td>\n",
       "    </tr>\n",
       "    <tr>\n",
       "      <th>4</th>\n",
       "      <td>10.1163/1568527053083412</td>\n",
       "      <td>religion and violence: what can sociology offer?</td>\n",
       "      <td>&lt;jats:sec&gt;&lt;jats:title&gt;Abstract&lt;/jats:title&gt;&lt;ja...</td>\n",
       "      <td>[Religious studies, History]</td>\n",
       "      <td>abstract this essay presents a sketch of a soc...</td>\n",
       "      <td>[History, Religious studies]</td>\n",
       "      <td>[Humanities, Humanities]</td>\n",
       "      <td>0</td>\n",
       "      <td>0</td>\n",
       "      <td>0</td>\n",
       "      <td>...</td>\n",
       "      <td>0</td>\n",
       "      <td>0</td>\n",
       "      <td>0</td>\n",
       "      <td>0</td>\n",
       "      <td>0</td>\n",
       "      <td>0</td>\n",
       "      <td>0</td>\n",
       "      <td>0</td>\n",
       "      <td>0</td>\n",
       "      <td>en</td>\n",
       "    </tr>\n",
       "  </tbody>\n",
       "</table>\n",
       "<p>5 rows × 220 columns</p>\n",
       "</div>"
      ],
      "text/plain": [
       "                        DOI  \\\n",
       "0  10.1163/1568525043083505   \n",
       "1  10.1163/1568525043083532   \n",
       "2  10.1163/1568525043083541   \n",
       "3  10.1163/1568525043083514   \n",
       "4  10.1163/1568527053083412   \n",
       "\n",
       "                                               title  \\\n",
       "0           aristotle fr. 44 rose: midas and silenus   \n",
       "1  loca loquuntur. lucretius' explanation of the ...   \n",
       "2  poverty and demography: the case of the gracch...   \n",
       "3     old persian in athens revisited (ar. ach. 100)   \n",
       "4   religion and violence: what can sociology offer?   \n",
       "\n",
       "                                            abstract  \\\n",
       "0  <jats:sec><jats:title>Abstract</jats:title><ja...   \n",
       "1  <jats:sec><jats:title>Abstract</jats:title><ja...   \n",
       "2  <jats:sec><jats:title>Abstract</jats:title><ja...   \n",
       "3  <jats:sec><jats:title>Abstract</jats:title><ja...   \n",
       "4  <jats:sec><jats:title>Abstract</jats:title><ja...   \n",
       "\n",
       "                                             subject  \\\n",
       "0  [Classics, Linguistics and Language, Archaeolo...   \n",
       "1  [Classics, Linguistics and Language, Archaeolo...   \n",
       "2  [Classics, Linguistics and Language, Archaeolo...   \n",
       "3  [Classics, Linguistics and Language, Archaeolo...   \n",
       "4                       [Religious studies, History]   \n",
       "\n",
       "                                    cleaned_abstract  \\\n",
       "0  abstract scholars have identified two supposed...   \n",
       "1  abstract a discussion of the second part of lu...   \n",
       "2  abstract according to many ancient historians ...   \n",
       "3  abstract the old persian line in aristophanes ...   \n",
       "4  abstract this essay presents a sketch of a soc...   \n",
       "\n",
       "                                    filtered_subject  \\\n",
       "0  [Archaeology, Classics, History, Language and ...   \n",
       "1  [Archaeology, Classics, History, Language and ...   \n",
       "2  [Archaeology, Classics, History, Language and ...   \n",
       "3  [Archaeology, Classics, History, Language and ...   \n",
       "4                       [History, Religious studies]   \n",
       "\n",
       "                                          all_fields  field_Art  \\\n",
       "0  [Humanities, Humanities, Humanities, Humanitie...          0   \n",
       "1  [Humanities, Humanities, Humanities, Humanitie...          0   \n",
       "2  [Humanities, Humanities, Humanities, Humanitie...          0   \n",
       "3  [Humanities, Humanities, Humanities, Humanitie...          0   \n",
       "4                           [Humanities, Humanities]          0   \n",
       "\n",
       "   field_Biology  field_Business  ...  subj_Biological Psychiatry  \\\n",
       "0              0               0  ...                           0   \n",
       "1              0               0  ...                           0   \n",
       "2              0               0  ...                           0   \n",
       "3              0               0  ...                           0   \n",
       "4              0               0  ...                           0   \n",
       "\n",
       "   subj_Gender Studies  subj_Safety, Risk, Reliability and Quality  \\\n",
       "0                    0                                           0   \n",
       "1                    0                                           0   \n",
       "2                    0                                           0   \n",
       "3                    0                                           0   \n",
       "4                    0                                           0   \n",
       "\n",
       "   subj_Urban Studies  subj_Genetics(clinical)  \\\n",
       "0                   0                        0   \n",
       "1                   0                        0   \n",
       "2                   0                        0   \n",
       "3                   0                        0   \n",
       "4                   0                        0   \n",
       "\n",
       "   subj_Agricultural and Biological Sciences (miscellaneous)  subj_Museology  \\\n",
       "0                                                  0                       0   \n",
       "1                                                  0                       0   \n",
       "2                                                  0                       0   \n",
       "3                                                  0                       0   \n",
       "4                                                  0                       0   \n",
       "\n",
       "   subj_Nephrology  subj_Logic  lang  \n",
       "0                0           0    en  \n",
       "1                0           0    en  \n",
       "2                0           0    en  \n",
       "3                0           0    en  \n",
       "4                0           0    en  \n",
       "\n",
       "[5 rows x 220 columns]"
      ]
     },
     "execution_count": 2,
     "metadata": {},
     "output_type": "execute_result"
    }
   ],
   "source": [
    "df = pd.read_pickle(\"looong_df_subjects_en.pkl\")\n",
    "df.head()"
   ]
  },
  {
   "cell_type": "code",
   "execution_count": 3,
   "id": "appreciated-breeding",
   "metadata": {},
   "outputs": [],
   "source": [
    "target_1 = [column for column in df.columns if \"field_\" in column]\n",
    "X_train, X_test, y_train, y_test = train_test_split(df[\"cleaned_abstract\"], df[target_1],\n",
    "                                                    train_size=0.08, test_size=0.02,\n",
    "                                                    random_state=42)"
   ]
  },
  {
   "cell_type": "code",
   "execution_count": 4,
   "id": "occasional-findings",
   "metadata": {},
   "outputs": [],
   "source": [
    "y_train_fields = {\n",
    "    field: y_train[field] for field in target_1\n",
    "}"
   ]
  },
  {
   "cell_type": "code",
   "execution_count": 5,
   "id": "varied-fishing",
   "metadata": {},
   "outputs": [
    {
     "name": "stdout",
     "output_type": "stream",
     "text": [
      "CPU times: user 1min 5s, sys: 1.16 s, total: 1min 6s\n",
      "Wall time: 1min 6s\n"
     ]
    }
   ],
   "source": [
    "%%time\n",
    "vectorizer = TfidfVectorizer(ngram_range=(1, 2))\n",
    "X_train_transformed = vectorizer.fit_transform(X_train)"
   ]
  },
  {
   "cell_type": "code",
   "execution_count": 10,
   "id": "legendary-crown",
   "metadata": {},
   "outputs": [
    {
     "name": "stdout",
     "output_type": "stream",
     "text": [
      "CPU times: user 37.1 ms, sys: 1.21 s, total: 1.25 s\n",
      "Wall time: 2.07 s\n"
     ]
    }
   ],
   "source": [
    "%%time\n",
    "\n",
    "if os.path.isdir(\"field_svc_en\"):\n",
    "    svcs = {\n",
    "        field: pickle.load(open(f\"field_svc_en/{field}-mt.pkl\", \"rb\"))\n",
    "        for field in target_1\n",
    "}\n",
    "\n",
    "    \n",
    "else:\n",
    "    svcs = {\n",
    "        field: CalibratedClassifierCV(\n",
    "            LinearSVC(random_state=123)\n",
    "        ) for field in target_1\n",
    "    }\n",
    "\n",
    "    def fit_svc(field, svc):\n",
    "        print(f'Fitting {field} SVM')\n",
    "        svc.fit(X_train_transformed, y_train_fields[field])\n",
    "        print(f'Done fitting {field} SVM')\n",
    "        # -mt suffix so it doesn't conflict with the first notebook\n",
    "        filename = f'field_svc_en/{field}-mt.pkl'\n",
    "        #with open(filename, 'wb') as f:\n",
    "        #    pickle.dump(svc, f)\n",
    "        #print(f'Saved {filename}')\n",
    "\n",
    "    tasks = []\n",
    "\n",
    "    for field, svc in svcs.items():\n",
    "        task = threading.Thread(\n",
    "            target=fit_svc,\n",
    "            args=(field, svc),\n",
    "            daemon=True,\n",
    "        )\n",
    "        task.start()\n",
    "        tasks.append(task)\n",
    "\n",
    "    for task in tasks:\n",
    "        task.join()"
   ]
  },
  {
   "cell_type": "code",
   "execution_count": 12,
   "id": "earlier-transition",
   "metadata": {},
   "outputs": [],
   "source": [
    "X_test_transformed = vectorizer.transform(X_test)"
   ]
  },
  {
   "cell_type": "code",
   "execution_count": null,
   "id": "micro-finnish",
   "metadata": {},
   "outputs": [],
   "source": [
    "accuracy = {}\n",
    "recall = {}\n",
    "precision = {}\n",
    "f1 = {}\n",
    "\n",
    "accs = []\n",
    "recs = []\n",
    "precs = []\n",
    "f1s = []\n",
    "\n",
    "min_positives = np.arange(start=0.05, stop=0.5, step=0.05)\n",
    "for min_positive in tqdm(min_positives):\n",
    "    for subj in target_1:\n",
    "        #print(subj.upper())\n",
    "        y_pred = svcs[subj].predict_proba(X_test_transformed)\n",
    "        y_pred = [1 if x[1] > min_positive else 0 for x in y_pred]\n",
    "        accuracy[subj] = accuracy_score(y_test[subj], y_pred)\n",
    "        recall[subj] = recall_score(y_test[subj], y_pred, zero_division=0)\n",
    "        precision[subj] = precision_score(y_test[subj], y_pred, zero_division=0)\n",
    "        f1[subj] = f1_score(y_test[subj], y_pred, zero_division=0)\n",
    "    \n",
    "    accs.append(np.mean(list(accuracy.values())))\n",
    "    recs.append(np.mean(list(recall.values())))\n",
    "    precs.append(np.mean(list(precision.values())))\n",
    "    f1s.append(np.mean(list(f1.values())))"
   ]
  },
  {
   "cell_type": "code",
   "execution_count": null,
   "id": "cognitive-semester",
   "metadata": {},
   "outputs": [],
   "source": [
    "for field in target_1:\n",
    "    #print(subj.upper())\n",
    "    y_pred = svcs[field].predict_proba(X_test_transformed)\n",
    "    y_pred = [1 if x[1] > 0.2 else 0 for x in y_pred]\n",
    "    #print(field)\n",
    "    #print(clf_report(y_test[field], y_pred))\n",
    "    #print()"
   ]
  },
  {
   "cell_type": "code",
   "execution_count": 10,
   "id": "alive-forge",
   "metadata": {},
   "outputs": [
    {
     "data": {
      "image/png": "[encoded data removed]",
      "text/plain": [
       "<Figure size 720x720 with 4 Axes>"
      ]
     },
     "metadata": {
      "needs_background": "light"
     },
     "output_type": "display_data"
    }
   ],
   "source": [
    "fig, axs = plt.subplots(2, 2, figsize=(10, 10))\n",
    "\n",
    "axs[0, 0].plot(min_positives, accs)\n",
    "axs[0, 0].set_title(\"Accuracy\")\n",
    "\n",
    "axs[0, 1].plot(min_positives, recs)\n",
    "axs[0, 1].set_title(\"Recall\")\n",
    "\n",
    "axs[1, 0].plot(min_positives, precs)\n",
    "axs[1, 0].set_title(\"Precision\")\n",
    "\n",
    "axs[1, 1].plot(min_positives, f1s)\n",
    "axs[1, 1].set_title(\"F1-score\")\n",
    "\n",
    "plt.show()"
   ]
  },
  {
   "cell_type": "code",
   "execution_count": 11,
   "id": "integral-thesaurus",
   "metadata": {},
   "outputs": [
    {
     "data": {
      "image/png": "[encoded data removed]",
      "text/plain": [
       "<Figure size 432x288 with 1 Axes>"
      ]
     },
     "metadata": {
      "needs_background": "light"
     },
     "output_type": "display_data"
    }
   ],
   "source": [
    "plt.plot(min_positives, recs, label=\"Recall\")\n",
    "plt.plot(min_positives, precs, label=\"Precision\")\n",
    "plt.plot(min_positives, f1s, label=\"F1-score\")\n",
    "plt.legend()\n",
    "plt.show()"
   ]
  },
  {
   "cell_type": "code",
   "execution_count": 9,
   "id": "worldwide-design",
   "metadata": {},
   "outputs": [],
   "source": [
    "accuracy = {}\n",
    "recall = {}\n",
    "precision = {}\n",
    "f1 = {}\n",
    "\n",
    "for subj in target_1:\n",
    "        #print(subj.upper())\n",
    "        y_pred = svcs[subj].predict_proba(X_test_transformed)\n",
    "        y_pred = [1 if x[1] > 0.25 else 0 for x in y_pred]\n",
    "        accuracy[subj] = accuracy_score(y_test[subj], y_pred)\n",
    "        recall[subj] = recall_score(y_test[subj], y_pred, zero_division=0)\n",
    "        precision[subj] = precision_score(y_test[subj], y_pred, zero_division=0)\n",
    "        f1[subj] = f1_score(y_test[subj], y_pred, zero_division=0)"
   ]
  },
  {
   "cell_type": "code",
   "execution_count": 10,
   "id": "fatal-myanmar",
   "metadata": {},
   "outputs": [
    {
     "name": "stdout",
     "output_type": "stream",
     "text": [
      "Average accuracy: 0.9431069958847735\n",
      "Average recall: 0.7343147205659823\n",
      "Average precision: 0.649576811275763\n",
      "Average F1-score: 0.6883567708623137\n"
     ]
    }
   ],
   "source": [
    "print(f\"Average accuracy: {np.mean(list(accuracy.values()))}\")\n",
    "print(f\"Average recall: {np.mean(list(recall.values()))}\")\n",
    "print(f\"Average precision: {np.mean(list(precision.values()))}\")\n",
    "print(f\"Average F1-score: {np.mean(list(f1.values()))}\")"
   ]
  },
  {
   "cell_type": "markdown",
   "id": "cognitive-transport",
   "metadata": {},
   "source": [
    "# Subject с фичей field"
   ]
  },
  {
   "cell_type": "code",
   "execution_count": 13,
   "id": "rocky-electric",
   "metadata": {},
   "outputs": [],
   "source": [
    "X_test_copy = pd.DataFrame(X_test.copy())\n",
    "\n",
    "for field in target_1:\n",
    "    y_pred = svcs[field].predict_proba(X_test_transformed)\n",
    "    y_pred = [1 if x[1] > 0.25 else 0 for x in y_pred]\n",
    "    X_test_copy[f\"{field}_pred\"] = y_pred"
   ]
  },
  {
   "cell_type": "code",
   "execution_count": 14,
   "id": "exempt-inclusion",
   "metadata": {},
   "outputs": [
    {
     "data": {
      "text/plain": [
       "68"
      ]
     },
     "execution_count": 14,
     "metadata": {},
     "output_type": "execute_result"
    }
   ],
   "source": [
    "import gc\n",
    "\n",
    "del(svcs)\n",
    "gc.collect()"
   ]
  },
  {
   "cell_type": "code",
   "execution_count": 15,
   "id": "expected-writer",
   "metadata": {},
   "outputs": [
    {
     "data": {
      "text/html": [
       "<div>\n",
       "<style scoped>\n",
       "    .dataframe tbody tr th:only-of-type {\n",
       "        vertical-align: middle;\n",
       "    }\n",
       "\n",
       "    .dataframe tbody tr th {\n",
       "        vertical-align: top;\n",
       "    }\n",
       "\n",
       "    .dataframe thead th {\n",
       "        text-align: right;\n",
       "    }\n",
       "</style>\n",
       "<table border=\"1\" class=\"dataframe\">\n",
       "  <thead>\n",
       "    <tr style=\"text-align: right;\">\n",
       "      <th></th>\n",
       "      <th>cleaned_abstract</th>\n",
       "      <th>field_Art_pred</th>\n",
       "      <th>field_Biology_pred</th>\n",
       "      <th>field_Business_pred</th>\n",
       "      <th>field_Chemistry_pred</th>\n",
       "      <th>field_Geology_pred</th>\n",
       "      <th>field_Humanities_pred</th>\n",
       "      <th>field_Math_pred</th>\n",
       "      <th>field_Medicine_pred</th>\n",
       "      <th>field_Physics_pred</th>\n",
       "      <th>field_Psychology_pred</th>\n",
       "      <th>field_Social_pred</th>\n",
       "      <th>field_Tech_pred</th>\n",
       "    </tr>\n",
       "  </thead>\n",
       "  <tbody>\n",
       "    <tr>\n",
       "      <th>903866</th>\n",
       "      <td>protein kinase c pkc has been implicated in si...</td>\n",
       "      <td>0</td>\n",
       "      <td>1</td>\n",
       "      <td>0</td>\n",
       "      <td>1</td>\n",
       "      <td>0</td>\n",
       "      <td>0</td>\n",
       "      <td>0</td>\n",
       "      <td>1</td>\n",
       "      <td>0</td>\n",
       "      <td>0</td>\n",
       "      <td>0</td>\n",
       "      <td>0</td>\n",
       "    </tr>\n",
       "    <tr>\n",
       "      <th>199097</th>\n",
       "      <td>α aminophosphonic acids are phosphorus analogu...</td>\n",
       "      <td>0</td>\n",
       "      <td>0</td>\n",
       "      <td>0</td>\n",
       "      <td>1</td>\n",
       "      <td>0</td>\n",
       "      <td>0</td>\n",
       "      <td>0</td>\n",
       "      <td>0</td>\n",
       "      <td>0</td>\n",
       "      <td>0</td>\n",
       "      <td>0</td>\n",
       "      <td>0</td>\n",
       "    </tr>\n",
       "    <tr>\n",
       "      <th>1832970</th>\n",
       "      <td>the late monsieur henri cordier s parting gift...</td>\n",
       "      <td>1</td>\n",
       "      <td>0</td>\n",
       "      <td>0</td>\n",
       "      <td>0</td>\n",
       "      <td>0</td>\n",
       "      <td>1</td>\n",
       "      <td>0</td>\n",
       "      <td>0</td>\n",
       "      <td>0</td>\n",
       "      <td>0</td>\n",
       "      <td>0</td>\n",
       "      <td>0</td>\n",
       "    </tr>\n",
       "    <tr>\n",
       "      <th>835633</th>\n",
       "      <td>polycyclic and nitro musks and two fragrances ...</td>\n",
       "      <td>0</td>\n",
       "      <td>0</td>\n",
       "      <td>0</td>\n",
       "      <td>1</td>\n",
       "      <td>0</td>\n",
       "      <td>0</td>\n",
       "      <td>0</td>\n",
       "      <td>0</td>\n",
       "      <td>1</td>\n",
       "      <td>0</td>\n",
       "      <td>0</td>\n",
       "      <td>0</td>\n",
       "    </tr>\n",
       "    <tr>\n",
       "      <th>275979</th>\n",
       "      <td>background neutralizing antibodies nab affect ...</td>\n",
       "      <td>0</td>\n",
       "      <td>0</td>\n",
       "      <td>0</td>\n",
       "      <td>0</td>\n",
       "      <td>0</td>\n",
       "      <td>0</td>\n",
       "      <td>0</td>\n",
       "      <td>1</td>\n",
       "      <td>0</td>\n",
       "      <td>0</td>\n",
       "      <td>0</td>\n",
       "      <td>0</td>\n",
       "    </tr>\n",
       "  </tbody>\n",
       "</table>\n",
       "</div>"
      ],
      "text/plain": [
       "                                          cleaned_abstract  field_Art_pred  \\\n",
       "903866   protein kinase c pkc has been implicated in si...               0   \n",
       "199097   α aminophosphonic acids are phosphorus analogu...               0   \n",
       "1832970  the late monsieur henri cordier s parting gift...               1   \n",
       "835633   polycyclic and nitro musks and two fragrances ...               0   \n",
       "275979   background neutralizing antibodies nab affect ...               0   \n",
       "\n",
       "         field_Biology_pred  field_Business_pred  field_Chemistry_pred  \\\n",
       "903866                    1                    0                     1   \n",
       "199097                    0                    0                     1   \n",
       "1832970                   0                    0                     0   \n",
       "835633                    0                    0                     1   \n",
       "275979                    0                    0                     0   \n",
       "\n",
       "         field_Geology_pred  field_Humanities_pred  field_Math_pred  \\\n",
       "903866                    0                      0                0   \n",
       "199097                    0                      0                0   \n",
       "1832970                   0                      1                0   \n",
       "835633                    0                      0                0   \n",
       "275979                    0                      0                0   \n",
       "\n",
       "         field_Medicine_pred  field_Physics_pred  field_Psychology_pred  \\\n",
       "903866                     1                   0                      0   \n",
       "199097                     0                   0                      0   \n",
       "1832970                    0                   0                      0   \n",
       "835633                     0                   1                      0   \n",
       "275979                     1                   0                      0   \n",
       "\n",
       "         field_Social_pred  field_Tech_pred  \n",
       "903866                   0                0  \n",
       "199097                   0                0  \n",
       "1832970                  0                0  \n",
       "835633                   0                0  \n",
       "275979                   0                0  "
      ]
     },
     "execution_count": 15,
     "metadata": {},
     "output_type": "execute_result"
    }
   ],
   "source": [
    "X_test_copy.sample(5)"
   ]
  },
  {
   "cell_type": "markdown",
   "id": "racial-energy",
   "metadata": {},
   "source": [
    "И начинаем предсказывать сабжекты:"
   ]
  },
  {
   "cell_type": "code",
   "execution_count": 16,
   "id": "organized-montreal",
   "metadata": {},
   "outputs": [],
   "source": [
    "target_2 = [column for column in df.columns if \"subj_\" in column]\n",
    "X_train, X_test, y_train, y_test = train_test_split(df[[\"cleaned_abstract\"] + target_1], df[target_2],\n",
    "                                                    train_size=0.08, test_size=0.02,\n",
    "                                                    random_state=42)"
   ]
  },
  {
   "cell_type": "code",
   "execution_count": 17,
   "id": "partial-marking",
   "metadata": {},
   "outputs": [],
   "source": [
    "y_train_subjs = {\n",
    "    subj: y_train[subj] for subj in target_2\n",
    "}"
   ]
  },
  {
   "cell_type": "code",
   "execution_count": 18,
   "id": "pressing-advertiser",
   "metadata": {},
   "outputs": [
    {
     "name": "stdout",
     "output_type": "stream",
     "text": [
      "CPU times: user 1min 7s, sys: 1.11 s, total: 1min 8s\n",
      "Wall time: 1min 8s\n"
     ]
    }
   ],
   "source": [
    "%%time\n",
    "vectorizer = TfidfVectorizer(ngram_range=(1, 2))\n",
    "X_train_transformed = vectorizer.fit_transform(X_train[\"cleaned_abstract\"])"
   ]
  },
  {
   "cell_type": "code",
   "execution_count": 19,
   "id": "serious-procedure",
   "metadata": {},
   "outputs": [],
   "source": [
    "from scipy import sparse\n",
    "\n",
    "X_train_stacked = sparse.hstack((\n",
    "    X_train_transformed,\n",
    "    sparse.csr_matrix(X_train[target_1])\n",
    "))"
   ]
  },
  {
   "cell_type": "code",
   "execution_count": 23,
   "id": "medieval-notion",
   "metadata": {
    "scrolled": true,
    "tags": []
   },
   "outputs": [
    {
     "name": "stdout",
     "output_type": "stream",
     "text": [
      "Loading pretrained classifiers...\n",
      "Load finished\n",
      "CPU times: user 87.9 ms, sys: 53.3 s, total: 53.4 s\n",
      "Wall time: 3min 46s\n"
     ]
    }
   ],
   "source": [
    "%%time\n",
    "\n",
    "if os.path.isdir(\"subj_svc_en\"):\n",
    "    print(\"Loading pretrained classifiers...\")\n",
    "    subj_svcs = {\n",
    "        subj: pickle.load(open(f\"subj_svc_en/{subj}-mt.pkl\", \"rb\"))\n",
    "        for subj in target_2\n",
    "    }\n",
    "    print(\"Load finished\")\n",
    "\n",
    "else:\n",
    "    print(\"Training new classifiers...\")\n",
    "    semaphore = threading.Semaphore()\n",
    "\n",
    "    def fit_svc(field, svc):\n",
    "        #print(f'Fitting {field} SVM')\n",
    "        svc.fit(X_train_stacked, y_train_subjs[field])\n",
    "        #print(f'Done fitting {field} SVM')\n",
    "        # -mt suffix so it doesn't conflict with the first notebook\n",
    "        filename = f'subj_svc_en/{field}-mt.pkl'\n",
    "        with open(filename, 'wb') as f:\n",
    "            pickle.dump(svc, f)\n",
    "        print(f'Saved {filename}')\n",
    "\n",
    "\n",
    "    tasks = []\n",
    "\n",
    "    subj_svcs = {\n",
    "        subj: CalibratedClassifierCV(\n",
    "            LinearSVC(random_state=123)\n",
    "        ) for subj in target_2\n",
    "    }\n",
    "\n",
    "    for subj, svc in tqdm(subj_svcs.items()):\n",
    "        task = threading.Thread(\n",
    "            target=fit_svc,\n",
    "            args=(subj, svc),\n",
    "            daemon=True,\n",
    "        )\n",
    "        task.start()\n",
    "        tasks.append(task)\n",
    "\n",
    "    for task in tasks:\n",
    "        task.join()"
   ]
  },
  {
   "cell_type": "code",
   "execution_count": 26,
   "id": "indirect-craft",
   "metadata": {},
   "outputs": [],
   "source": [
    "X_test_transformed = vectorizer.transform(X_test_copy[\"cleaned_abstract\"])\n",
    "\n",
    "X_test_stacked = sparse.hstack((\n",
    "    X_test_transformed,\n",
    "    sparse.csr_matrix(X_test_copy[[f\"{field}_pred\" for field in target_1]])\n",
    "))"
   ]
  },
  {
   "cell_type": "code",
   "execution_count": null,
   "id": "sitting-reputation",
   "metadata": {},
   "outputs": [],
   "source": [
    "from tqdm.notebook import tqdm\n",
    "\n",
    "\n",
    "accuracy = {}\n",
    "recall = {}\n",
    "precision = {}\n",
    "f1 = {}\n",
    "\n",
    "accs = []\n",
    "recs = []\n",
    "precs = []\n",
    "f1s = []\n",
    "\n",
    "min_positives = np.arange(start=0.05, stop=0.5, step=0.05)\n",
    "for min_positive in tqdm(min_positives):\n",
    "    for subj in tqdm(target_2):\n",
    "        y_pred = subj_svcs[subj].predict_proba(X_test_stacked)\n",
    "\n",
    "        y_pred = [1 if x[1] > min_positive else 0 for x in y_pred]\n",
    "        accuracy[subj] = accuracy_score(y_test[subj], y_pred)\n",
    "        recall[subj] = recall_score(y_test[subj], y_pred, zero_division=0)\n",
    "        precision[subj] = precision_score(y_test[subj], y_pred, zero_division=0)\n",
    "        f1[subj] = f1_score(y_test[subj], y_pred, zero_division=0)\n",
    "    \n",
    "    accs.append(np.mean(list(accuracy.values())))\n",
    "    recs.append(np.mean(list(recall.values())))\n",
    "    precs.append(np.mean(list(precision.values())))\n",
    "    f1s.append(np.mean(list(f1.values())))"
   ]
  },
  {
   "cell_type": "code",
   "execution_count": null,
   "id": "minimal-victorian",
   "metadata": {},
   "outputs": [],
   "source": [
    "fig, axs = plt.subplots(2, 2, figsize=(10, 10))\n",
    "\n",
    "axs[0, 0].plot(min_positives, accs)\n",
    "axs[0, 0].set_title(\"Accuracy\")\n",
    "\n",
    "axs[0, 1].plot(min_positives, recs)\n",
    "axs[0, 1].set_title(\"Recall\")\n",
    "\n",
    "axs[1, 0].plot(min_positives, precs)\n",
    "axs[1, 0].set_title(\"Precision\")\n",
    "\n",
    "axs[1, 1].plot(min_positives, f1s)\n",
    "axs[1, 1].set_title(\"F1-score\")\n",
    "\n",
    "plt.show()"
   ]
  },
  {
   "cell_type": "code",
   "execution_count": null,
   "id": "foreign-contractor",
   "metadata": {},
   "outputs": [],
   "source": [
    "plt.plot(min_positives, recs, label=\"Recall\")\n",
    "plt.plot(min_positives, precs, label=\"Precision\")\n",
    "plt.plot(min_positives, f1s, label=\"F1-score\")\n",
    "plt.legend()\n",
    "plt.show()"
   ]
  },
  {
   "cell_type": "code",
   "execution_count": 30,
   "id": "distant-tiffany",
   "metadata": {},
   "outputs": [
    {
     "data": {
      "text/plain": [
       "0.45"
      ]
     },
     "execution_count": 30,
     "metadata": {},
     "output_type": "execute_result"
    }
   ],
   "source": [
    "min_positive"
   ]
  },
  {
   "cell_type": "code",
   "execution_count": null,
   "id": "honey-planet",
   "metadata": {},
   "outputs": [],
   "source": [
    "print(f\"Average accuracy: {np.mean(list(accuracy.values()))}\")\n",
    "print(f\"Average recall: {np.mean(list(recall.values()))}\")\n",
    "print(f\"Average precision: {np.mean(list(precision.values()))}\")\n",
    "print(f\"Average F1-score: {np.mean(list(f1.values()))}\")"
   ]
  },
  {
   "cell_type": "code",
   "execution_count": 32,
   "id": "aggregate-closer",
   "metadata": {},
   "outputs": [
    {
     "data": {
      "application/vnd.jupyter.widget-view+json": {
       "model_id": "c17639aff0b2429db312454ef0ba4e8f",
       "version_major": 2,
       "version_minor": 0
      },
      "text/plain": [
       "HBox(children=(FloatProgress(value=0.0, max=200.0), HTML(value='')))"
      ]
     },
     "metadata": {},
     "output_type": "display_data"
    },
    {
     "name": "stdout",
     "output_type": "stream",
     "text": [
      "\n"
     ]
    }
   ],
   "source": [
    "for subj in tqdm(target_2):\n",
    "    y_pred = subj_svcs[subj].predict_proba(X_test_stacked)\n",
    "\n",
    "    y_pred = [1 if x[1] > 0.3 else 0 for x in y_pred]\n",
    "    accuracy[subj] = accuracy_score(y_test[subj], y_pred)\n",
    "    recall[subj] = recall_score(y_test[subj], y_pred, zero_division=0)\n",
    "    precision[subj] = precision_score(y_test[subj], y_pred, zero_division=0)\n",
    "    f1[subj] = f1_score(y_test[subj], y_pred, zero_division=0)\n",
    "    \n",
    "    accs.append(np.mean(list(accuracy.values())))\n",
    "    recs.append(np.mean(list(recall.values())))\n",
    "    precs.append(np.mean(list(precision.values())))\n",
    "    f1s.append(np.mean(list(f1.values())))"
   ]
  },
  {
   "cell_type": "code",
   "execution_count": null,
   "id": "three-pursuit",
   "metadata": {},
   "outputs": [],
   "source": [
    "print(f\"Average accuracy: {np.mean(list(accuracy.values()))}\")\n",
    "print(f\"Average recall: {np.mean(list(recall.values()))}\")\n",
    "print(f\"Average precision: {np.mean(list(precision.values()))}\")\n",
    "print(f\"Average F1-score: {np.mean(list(f1.values()))}\")"
   ]
  },
  {
   "cell_type": "code",
   "execution_count": null,
   "id": "developing-printing",
   "metadata": {},
   "outputs": [],
   "source": []
  }
 ],
 "metadata": {
  "kernelspec": {
   "display_name": "Python 3",
   "language": "python",
   "name": "python3"
  },
  "language_info": {
   "codemirror_mode": {
    "name": "ipython",
    "version": 3
   },
   "file_extension": ".py",
   "mimetype": "text/x-python",
   "name": "python",
   "nbconvert_exporter": "python",
   "pygments_lexer": "ipython3",
   "version": "3.8.6"
  }
 },
 "nbformat": 4,
 "nbformat_minor": 5
}

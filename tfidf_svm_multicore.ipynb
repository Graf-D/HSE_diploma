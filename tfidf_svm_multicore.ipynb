{
 "cells": [
  {
   "cell_type": "markdown",
   "id": "adopted-provision",
   "metadata": {},
   "source": [
    "Tf-idf с биграммами и логистическую регрессию поверх этого, свою для каждого класса. И дальше просто для каждого класса в отдельности померить качество (accuracy, f-меру), и глянуть их средние по всем классам."
   ]
  },
  {
   "cell_type": "code",
   "execution_count": 2,
   "id": "sensitive-state",
   "metadata": {},
   "outputs": [],
   "source": [
    "import pandas as pd\n",
    "import numpy as np\n",
    "import matplotlib.pyplot as plt\n",
    "\n",
    "import pickle\n",
    "from tqdm import tqdm\n",
    "\n",
    "from sklearn.model_selection import train_test_split\n",
    "\n",
    "from sklearn.feature_extraction.text import TfidfVectorizer\n",
    "from sklearn.svm import LinearSVC\n",
    "from sklearn.calibration import CalibratedClassifierCV\n",
    "\n",
    "from sklearn.metrics import classification_report as clf_report\n",
    "from sklearn.metrics import (\n",
    "    accuracy_score,\n",
    "    recall_score,\n",
    "    precision_score,\n",
    "    f1_score\n",
    ")"
   ]
  },
  {
   "cell_type": "markdown",
   "id": "complicated-bachelor",
   "metadata": {},
   "source": [
    "# Сначала field"
   ]
  },
  {
   "cell_type": "markdown",
   "id": "shared-sussex",
   "metadata": {},
   "source": [
    "Возьмем df с удаленными не-английскими текстами:"
   ]
  },
  {
   "cell_type": "code",
   "execution_count": 3,
   "id": "greenhouse-gregory",
   "metadata": {},
   "outputs": [
    {
     "data": {
      "text/html": [
       "<div>\n",
       "<style scoped>\n",
       "    .dataframe tbody tr th:only-of-type {\n",
       "        vertical-align: middle;\n",
       "    }\n",
       "\n",
       "    .dataframe tbody tr th {\n",
       "        vertical-align: top;\n",
       "    }\n",
       "\n",
       "    .dataframe thead th {\n",
       "        text-align: right;\n",
       "    }\n",
       "</style>\n",
       "<table border=\"1\" class=\"dataframe\">\n",
       "  <thead>\n",
       "    <tr style=\"text-align: right;\">\n",
       "      <th></th>\n",
       "      <th>DOI</th>\n",
       "      <th>title</th>\n",
       "      <th>abstract</th>\n",
       "      <th>subject</th>\n",
       "      <th>cleaned_abstract</th>\n",
       "      <th>filtered_subject</th>\n",
       "      <th>all_fields</th>\n",
       "      <th>field_Art</th>\n",
       "      <th>field_Biology</th>\n",
       "      <th>field_Business</th>\n",
       "      <th>...</th>\n",
       "      <th>subj_Biological Psychiatry</th>\n",
       "      <th>subj_Gender Studies</th>\n",
       "      <th>subj_Safety, Risk, Reliability and Quality</th>\n",
       "      <th>subj_Urban Studies</th>\n",
       "      <th>subj_Genetics(clinical)</th>\n",
       "      <th>subj_Agricultural and Biological Sciences (miscellaneous)</th>\n",
       "      <th>subj_Museology</th>\n",
       "      <th>subj_Nephrology</th>\n",
       "      <th>subj_Logic</th>\n",
       "      <th>lang</th>\n",
       "    </tr>\n",
       "  </thead>\n",
       "  <tbody>\n",
       "    <tr>\n",
       "      <th>0</th>\n",
       "      <td>10.1163/1568525043083505</td>\n",
       "      <td>aristotle fr. 44 rose: midas and silenus</td>\n",
       "      <td>&lt;jats:sec&gt;&lt;jats:title&gt;Abstract&lt;/jats:title&gt;&lt;ja...</td>\n",
       "      <td>[Classics, Linguistics and Language, Archaeolo...</td>\n",
       "      <td>abstract scholars have identified two supposed...</td>\n",
       "      <td>[Archaeology, Classics, History, Language and ...</td>\n",
       "      <td>[Humanities, Humanities, Humanities, Humanitie...</td>\n",
       "      <td>0</td>\n",
       "      <td>0</td>\n",
       "      <td>0</td>\n",
       "      <td>...</td>\n",
       "      <td>0</td>\n",
       "      <td>0</td>\n",
       "      <td>0</td>\n",
       "      <td>0</td>\n",
       "      <td>0</td>\n",
       "      <td>0</td>\n",
       "      <td>0</td>\n",
       "      <td>0</td>\n",
       "      <td>0</td>\n",
       "      <td>en</td>\n",
       "    </tr>\n",
       "    <tr>\n",
       "      <th>1</th>\n",
       "      <td>10.1163/1568525043083532</td>\n",
       "      <td>loca loquuntur. lucretius' explanation of the ...</td>\n",
       "      <td>&lt;jats:sec&gt;&lt;jats:title&gt;Abstract&lt;/jats:title&gt;&lt;ja...</td>\n",
       "      <td>[Classics, Linguistics and Language, Archaeolo...</td>\n",
       "      <td>abstract a discussion of the second part of lu...</td>\n",
       "      <td>[Archaeology, Classics, History, Language and ...</td>\n",
       "      <td>[Humanities, Humanities, Humanities, Humanitie...</td>\n",
       "      <td>0</td>\n",
       "      <td>0</td>\n",
       "      <td>0</td>\n",
       "      <td>...</td>\n",
       "      <td>0</td>\n",
       "      <td>0</td>\n",
       "      <td>0</td>\n",
       "      <td>0</td>\n",
       "      <td>0</td>\n",
       "      <td>0</td>\n",
       "      <td>0</td>\n",
       "      <td>0</td>\n",
       "      <td>0</td>\n",
       "      <td>en</td>\n",
       "    </tr>\n",
       "    <tr>\n",
       "      <th>2</th>\n",
       "      <td>10.1163/1568525043083541</td>\n",
       "      <td>poverty and demography: the case of the gracch...</td>\n",
       "      <td>&lt;jats:sec&gt;&lt;jats:title&gt;Abstract&lt;/jats:title&gt;&lt;ja...</td>\n",
       "      <td>[Classics, Linguistics and Language, Archaeolo...</td>\n",
       "      <td>abstract according to many ancient historians ...</td>\n",
       "      <td>[Archaeology, Classics, History, Language and ...</td>\n",
       "      <td>[Humanities, Humanities, Humanities, Humanitie...</td>\n",
       "      <td>0</td>\n",
       "      <td>0</td>\n",
       "      <td>0</td>\n",
       "      <td>...</td>\n",
       "      <td>0</td>\n",
       "      <td>0</td>\n",
       "      <td>0</td>\n",
       "      <td>0</td>\n",
       "      <td>0</td>\n",
       "      <td>0</td>\n",
       "      <td>0</td>\n",
       "      <td>0</td>\n",
       "      <td>0</td>\n",
       "      <td>en</td>\n",
       "    </tr>\n",
       "    <tr>\n",
       "      <th>3</th>\n",
       "      <td>10.1163/1568525043083514</td>\n",
       "      <td>old persian in athens revisited (ar. ach. 100)</td>\n",
       "      <td>&lt;jats:sec&gt;&lt;jats:title&gt;Abstract&lt;/jats:title&gt;&lt;ja...</td>\n",
       "      <td>[Classics, Linguistics and Language, Archaeolo...</td>\n",
       "      <td>abstract the old persian line in aristophanes ...</td>\n",
       "      <td>[Archaeology, Classics, History, Language and ...</td>\n",
       "      <td>[Humanities, Humanities, Humanities, Humanitie...</td>\n",
       "      <td>0</td>\n",
       "      <td>0</td>\n",
       "      <td>0</td>\n",
       "      <td>...</td>\n",
       "      <td>0</td>\n",
       "      <td>0</td>\n",
       "      <td>0</td>\n",
       "      <td>0</td>\n",
       "      <td>0</td>\n",
       "      <td>0</td>\n",
       "      <td>0</td>\n",
       "      <td>0</td>\n",
       "      <td>0</td>\n",
       "      <td>en</td>\n",
       "    </tr>\n",
       "    <tr>\n",
       "      <th>4</th>\n",
       "      <td>10.1163/1568527053083412</td>\n",
       "      <td>religion and violence: what can sociology offer?</td>\n",
       "      <td>&lt;jats:sec&gt;&lt;jats:title&gt;Abstract&lt;/jats:title&gt;&lt;ja...</td>\n",
       "      <td>[Religious studies, History]</td>\n",
       "      <td>abstract this essay presents a sketch of a soc...</td>\n",
       "      <td>[History, Religious studies]</td>\n",
       "      <td>[Humanities, Humanities]</td>\n",
       "      <td>0</td>\n",
       "      <td>0</td>\n",
       "      <td>0</td>\n",
       "      <td>...</td>\n",
       "      <td>0</td>\n",
       "      <td>0</td>\n",
       "      <td>0</td>\n",
       "      <td>0</td>\n",
       "      <td>0</td>\n",
       "      <td>0</td>\n",
       "      <td>0</td>\n",
       "      <td>0</td>\n",
       "      <td>0</td>\n",
       "      <td>en</td>\n",
       "    </tr>\n",
       "  </tbody>\n",
       "</table>\n",
       "<p>5 rows × 220 columns</p>\n",
       "</div>"
      ],
      "text/plain": [
       "                        DOI  \\\n",
       "0  10.1163/1568525043083505   \n",
       "1  10.1163/1568525043083532   \n",
       "2  10.1163/1568525043083541   \n",
       "3  10.1163/1568525043083514   \n",
       "4  10.1163/1568527053083412   \n",
       "\n",
       "                                               title  \\\n",
       "0           aristotle fr. 44 rose: midas and silenus   \n",
       "1  loca loquuntur. lucretius' explanation of the ...   \n",
       "2  poverty and demography: the case of the gracch...   \n",
       "3     old persian in athens revisited (ar. ach. 100)   \n",
       "4   religion and violence: what can sociology offer?   \n",
       "\n",
       "                                            abstract  \\\n",
       "0  <jats:sec><jats:title>Abstract</jats:title><ja...   \n",
       "1  <jats:sec><jats:title>Abstract</jats:title><ja...   \n",
       "2  <jats:sec><jats:title>Abstract</jats:title><ja...   \n",
       "3  <jats:sec><jats:title>Abstract</jats:title><ja...   \n",
       "4  <jats:sec><jats:title>Abstract</jats:title><ja...   \n",
       "\n",
       "                                             subject  \\\n",
       "0  [Classics, Linguistics and Language, Archaeolo...   \n",
       "1  [Classics, Linguistics and Language, Archaeolo...   \n",
       "2  [Classics, Linguistics and Language, Archaeolo...   \n",
       "3  [Classics, Linguistics and Language, Archaeolo...   \n",
       "4                       [Religious studies, History]   \n",
       "\n",
       "                                    cleaned_abstract  \\\n",
       "0  abstract scholars have identified two supposed...   \n",
       "1  abstract a discussion of the second part of lu...   \n",
       "2  abstract according to many ancient historians ...   \n",
       "3  abstract the old persian line in aristophanes ...   \n",
       "4  abstract this essay presents a sketch of a soc...   \n",
       "\n",
       "                                    filtered_subject  \\\n",
       "0  [Archaeology, Classics, History, Language and ...   \n",
       "1  [Archaeology, Classics, History, Language and ...   \n",
       "2  [Archaeology, Classics, History, Language and ...   \n",
       "3  [Archaeology, Classics, History, Language and ...   \n",
       "4                       [History, Religious studies]   \n",
       "\n",
       "                                          all_fields  field_Art  \\\n",
       "0  [Humanities, Humanities, Humanities, Humanitie...          0   \n",
       "1  [Humanities, Humanities, Humanities, Humanitie...          0   \n",
       "2  [Humanities, Humanities, Humanities, Humanitie...          0   \n",
       "3  [Humanities, Humanities, Humanities, Humanitie...          0   \n",
       "4                           [Humanities, Humanities]          0   \n",
       "\n",
       "   field_Biology  field_Business  ...  subj_Biological Psychiatry  \\\n",
       "0              0               0  ...                           0   \n",
       "1              0               0  ...                           0   \n",
       "2              0               0  ...                           0   \n",
       "3              0               0  ...                           0   \n",
       "4              0               0  ...                           0   \n",
       "\n",
       "   subj_Gender Studies  subj_Safety, Risk, Reliability and Quality  \\\n",
       "0                    0                                           0   \n",
       "1                    0                                           0   \n",
       "2                    0                                           0   \n",
       "3                    0                                           0   \n",
       "4                    0                                           0   \n",
       "\n",
       "   subj_Urban Studies  subj_Genetics(clinical)  \\\n",
       "0                   0                        0   \n",
       "1                   0                        0   \n",
       "2                   0                        0   \n",
       "3                   0                        0   \n",
       "4                   0                        0   \n",
       "\n",
       "   subj_Agricultural and Biological Sciences (miscellaneous)  subj_Museology  \\\n",
       "0                                                  0                       0   \n",
       "1                                                  0                       0   \n",
       "2                                                  0                       0   \n",
       "3                                                  0                       0   \n",
       "4                                                  0                       0   \n",
       "\n",
       "   subj_Nephrology  subj_Logic  lang  \n",
       "0                0           0    en  \n",
       "1                0           0    en  \n",
       "2                0           0    en  \n",
       "3                0           0    en  \n",
       "4                0           0    en  \n",
       "\n",
       "[5 rows x 220 columns]"
      ]
     },
     "execution_count": 3,
     "metadata": {},
     "output_type": "execute_result"
    }
   ],
   "source": [
    "df = pd.read_pickle(\"looong_df_subjects_en.pkl\")\n",
    "df.head()"
   ]
  },
  {
   "cell_type": "code",
   "execution_count": 4,
   "id": "directed-chapel",
   "metadata": {},
   "outputs": [],
   "source": [
    "target_1 = [column for column in df.columns if \"field_\" in column]\n",
    "X_train, X_test, y_train, y_test = train_test_split(df[\"cleaned_abstract\"], df[target_1],\n",
    "                                                    train_size=0.08, test_size=0.02,\n",
    "                                                    random_state=42)"
   ]
  },
  {
   "cell_type": "code",
   "execution_count": 5,
   "id": "progressive-living",
   "metadata": {},
   "outputs": [],
   "source": [
    "y_train_fields = {\n",
    "    field: y_train[field] for field in target_1\n",
    "}"
   ]
  },
  {
   "cell_type": "code",
   "execution_count": 6,
   "id": "public-deposit",
   "metadata": {},
   "outputs": [],
   "source": [
    "vectorizer = TfidfVectorizer(ngram_range=(1, 2))\n",
    "X_train_transformed = vectorizer.fit_transform(X_train)"
   ]
  },
  {
   "cell_type": "code",
   "execution_count": 7,
   "id": "proprietary-appraisal",
   "metadata": {},
   "outputs": [
    {
     "name": "stdout",
     "output_type": "stream",
     "text": [
      "Fitting field_Art SVM\n",
      "Fitting field_Biology SVM\n",
      "Fitting field_Business SVM\n",
      "Fitting field_Chemistry SVM\n",
      "Fitting field_Geology SVM\n",
      "Fitting field_Humanities SVM\n",
      "Fitting field_Math SVM\n",
      "Fitting field_Medicine SVMFitting field_Physics SVM\n",
      "\n",
      "Fitting field_Psychology SVM\n",
      "Fitting field_Social SVM\n",
      "Fitting field_Tech SVM\n",
      "Done fitting field_Art SVM\n",
      "Done fitting field_Psychology SVM\n",
      "Saved field_svc_en/field_Art-mt.pkl\n",
      "Saved field_svc_en/field_Psychology-mt.pkl\n",
      "Done fitting field_Math SVM\n",
      "Done fitting field_Humanities SVM\n",
      "Saved field_svc_en/field_Math-mt.pkl\n",
      "Saved field_svc_en/field_Humanities-mt.pkl\n",
      "Done fitting field_Business SVM\n",
      "Saved field_svc_en/field_Business-mt.pkl\n",
      "Done fitting field_Social SVM\n",
      "Saved field_svc_en/field_Social-mt.pkl\n",
      "Done fitting field_Geology SVM\n",
      "Saved field_svc_en/field_Geology-mt.pkl\n",
      "Done fitting field_Tech SVM\n",
      "Saved field_svc_en/field_Tech-mt.pkl\n",
      "Done fitting field_Physics SVM\n",
      "Saved field_svc_en/field_Physics-mt.pkl\n",
      "Done fitting field_Chemistry SVM\n",
      "Saved field_svc_en/field_Chemistry-mt.pkl\n",
      "Done fitting field_Medicine SVM\n",
      "Saved field_svc_en/field_Medicine-mt.pkl\n",
      "Done fitting field_Biology SVM\n",
      "Saved field_svc_en/field_Biology-mt.pkl\n"
     ]
    }
   ],
   "source": [
    "import threading\n",
    "\n",
    "svcs = {\n",
    "    field: CalibratedClassifierCV(\n",
    "        LinearSVC(random_state=123)\n",
    "    ) for field in target_1\n",
    "}\n",
    "\n",
    "def fit_svc(field, svc):\n",
    "    print(f'Fitting {field} SVM')\n",
    "    svc.fit(X_train_transformed, y_train_fields[field])\n",
    "    print(f'Done fitting {field} SVM')\n",
    "    # -mt suffix so it doesn't conflict with the first notebook\n",
    "    filename = f'field_svc_en/{field}-mt.pkl'\n",
    "    with open(filename, 'wb') as f:\n",
    "        pickle.dump(svc, f)\n",
    "    print(f'Saved {filename}')\n",
    "\n",
    "tasks = []\n",
    "\n",
    "for field, svc in svcs.items():\n",
    "    task = threading.Thread(\n",
    "        target=fit_svc,\n",
    "        args=(field, svc),\n",
    "        daemon=True,\n",
    "    )\n",
    "    task.start()\n",
    "    tasks.append(task)\n",
    "\n",
    "for task in tasks:\n",
    "    task.join()"
   ]
  },
  {
   "cell_type": "code",
   "execution_count": 8,
   "id": "nervous-edition",
   "metadata": {},
   "outputs": [],
   "source": [
    "X_test_transformed = vectorizer.transform(X_test)"
   ]
  },
  {
   "cell_type": "code",
   "execution_count": 9,
   "id": "documented-clearance",
   "metadata": {},
   "outputs": [
    {
     "name": "stderr",
     "output_type": "stream",
     "text": [
      "100%|██████████| 9/9 [00:27<00:00,  3.04s/it]\n"
     ]
    }
   ],
   "source": [
    "accuracy = {}\n",
    "recall = {}\n",
    "precision = {}\n",
    "f1 = {}\n",
    "\n",
    "accs = []\n",
    "recs = []\n",
    "precs = []\n",
    "f1s = []\n",
    "\n",
    "min_positives = np.arange(start=0.05, stop=0.5, step=0.05)\n",
    "for min_positive in tqdm(min_positives):\n",
    "    for subj in target_1:\n",
    "        #print(subj.upper())\n",
    "        y_pred = svcs[subj].predict_proba(X_test_transformed)\n",
    "        y_pred = [1 if x[1] > min_positive else 0 for x in y_pred]\n",
    "        accuracy[subj] = accuracy_score(y_test[subj], y_pred)\n",
    "        recall[subj] = recall_score(y_test[subj], y_pred, zero_division=0)\n",
    "        precision[subj] = precision_score(y_test[subj], y_pred, zero_division=0)\n",
    "        f1[subj] = f1_score(y_test[subj], y_pred, zero_division=0)\n",
    "    \n",
    "    accs.append(np.mean(list(accuracy.values())))\n",
    "    recs.append(np.mean(list(recall.values())))\n",
    "    precs.append(np.mean(list(precision.values())))\n",
    "    f1s.append(np.mean(list(f1.values())))"
   ]
  },
  {
   "cell_type": "code",
   "execution_count": 10,
   "id": "secure-healing",
   "metadata": {},
   "outputs": [
    {
     "name": "stdout",
     "output_type": "stream",
     "text": [
      "field_Art\n",
      "              precision    recall  f1-score   support\n",
      "\n",
      "           0       0.99      0.98      0.98     39256\n",
      "           1       0.06      0.13      0.08       434\n",
      "\n",
      "    accuracy                           0.97     39690\n",
      "   macro avg       0.52      0.55      0.53     39690\n",
      "weighted avg       0.98      0.97      0.97     39690\n",
      "\n",
      "\n",
      "field_Biology\n",
      "              precision    recall  f1-score   support\n",
      "\n",
      "           0       0.67      0.97      0.79     27012\n",
      "           1       0.06      0.00      0.01     12678\n",
      "\n",
      "    accuracy                           0.66     39690\n",
      "   macro avg       0.37      0.49      0.40     39690\n",
      "weighted avg       0.48      0.66      0.54     39690\n",
      "\n",
      "\n",
      "field_Business\n",
      "              precision    recall  f1-score   support\n",
      "\n",
      "           0       0.97      0.98      0.97     38528\n",
      "           1       0.03      0.03      0.03      1162\n",
      "\n",
      "    accuracy                           0.95     39690\n",
      "   macro avg       0.50      0.50      0.50     39690\n",
      "weighted avg       0.94      0.95      0.95     39690\n",
      "\n",
      "\n",
      "field_Chemistry\n",
      "              precision    recall  f1-score   support\n",
      "\n",
      "           0       0.85      0.97      0.91     33680\n",
      "           1       0.10      0.02      0.03      6010\n",
      "\n",
      "    accuracy                           0.83     39690\n",
      "   macro avg       0.47      0.50      0.47     39690\n",
      "weighted avg       0.73      0.83      0.77     39690\n",
      "\n",
      "\n",
      "field_Geology\n",
      "              precision    recall  f1-score   support\n",
      "\n",
      "           0       0.96      0.98      0.97     37948\n",
      "           1       0.02      0.01      0.01      1742\n",
      "\n",
      "    accuracy                           0.93     39690\n",
      "   macro avg       0.49      0.49      0.49     39690\n",
      "weighted avg       0.91      0.93      0.92     39690\n",
      "\n",
      "\n",
      "field_Humanities\n",
      "              precision    recall  f1-score   support\n",
      "\n",
      "           0       0.91      0.97      0.94     36334\n",
      "           1       0.03      0.01      0.01      3356\n",
      "\n",
      "    accuracy                           0.89     39690\n",
      "   macro avg       0.47      0.49      0.48     39690\n",
      "weighted avg       0.84      0.89      0.86     39690\n",
      "\n",
      "\n",
      "field_Math\n",
      "              precision    recall  f1-score   support\n",
      "\n",
      "           0       0.96      0.98      0.97     37710\n",
      "           1       0.26      0.12      0.17      1980\n",
      "\n",
      "    accuracy                           0.94     39690\n",
      "   macro avg       0.61      0.55      0.57     39690\n",
      "weighted avg       0.92      0.94      0.93     39690\n",
      "\n",
      "\n",
      "field_Medicine\n",
      "              precision    recall  f1-score   support\n",
      "\n",
      "           0       0.65      0.96      0.77     25938\n",
      "           1       0.02      0.00      0.00     13752\n",
      "\n",
      "    accuracy                           0.63     39690\n",
      "   macro avg       0.33      0.48      0.39     39690\n",
      "weighted avg       0.43      0.63      0.51     39690\n",
      "\n",
      "\n",
      "field_Physics\n",
      "              precision    recall  f1-score   support\n",
      "\n",
      "           0       0.77      0.98      0.86     30316\n",
      "           1       0.49      0.05      0.09      9374\n",
      "\n",
      "    accuracy                           0.76     39690\n",
      "   macro avg       0.63      0.52      0.48     39690\n",
      "weighted avg       0.70      0.76      0.68     39690\n",
      "\n",
      "\n",
      "field_Psychology\n",
      "              precision    recall  f1-score   support\n",
      "\n",
      "           0       0.97      0.98      0.97     38557\n",
      "           1       0.00      0.00      0.00      1133\n",
      "\n",
      "    accuracy                           0.95     39690\n",
      "   macro avg       0.49      0.49      0.49     39690\n",
      "weighted avg       0.94      0.95      0.95     39690\n",
      "\n",
      "\n",
      "field_Social\n",
      "              precision    recall  f1-score   support\n",
      "\n",
      "           0       0.94      0.98      0.96     37462\n",
      "           1       0.02      0.01      0.01      2228\n",
      "\n",
      "    accuracy                           0.92     39690\n",
      "   macro avg       0.48      0.49      0.48     39690\n",
      "weighted avg       0.89      0.92      0.91     39690\n",
      "\n",
      "\n",
      "field_Tech\n",
      "              precision    recall  f1-score   support\n",
      "\n",
      "           0       0.97      0.99      0.98     37981\n",
      "           1       0.66      0.37      0.47      1709\n",
      "\n",
      "    accuracy                           0.96     39690\n",
      "   macro avg       0.82      0.68      0.73     39690\n",
      "weighted avg       0.96      0.96      0.96     39690\n",
      "\n",
      "\n"
     ]
    }
   ],
   "source": [
    "for field in target_1:\n",
    "    #print(subj.upper())\n",
    "    y_pred = svcs[subj].predict(X_test_transformed)\n",
    "    print(field)\n",
    "    print(clf_report(y_test[field], y_pred))\n",
    "    print()"
   ]
  },
  {
   "cell_type": "code",
   "execution_count": 11,
   "id": "purple-professor",
   "metadata": {},
   "outputs": [
    {
     "data": {
      "image/png": "[encoded data removed]",
      "text/plain": [
       "<Figure size 720x720 with 4 Axes>"
      ]
     },
     "metadata": {
      "needs_background": "light"
     },
     "output_type": "display_data"
    }
   ],
   "source": [
    "fig, axs = plt.subplots(2, 2, figsize=(10, 10))\n",
    "\n",
    "axs[0, 0].plot(min_positives, accs)\n",
    "axs[0, 0].set_title(\"Accuracy\")\n",
    "\n",
    "axs[0, 1].plot(min_positives, recs)\n",
    "axs[0, 1].set_title(\"Recall\")\n",
    "\n",
    "axs[1, 0].plot(min_positives, precs)\n",
    "axs[1, 0].set_title(\"Precision\")\n",
    "\n",
    "axs[1, 1].plot(min_positives, f1s)\n",
    "axs[1, 1].set_title(\"F1-score\")\n",
    "\n",
    "plt.show()"
   ]
  },
  {
   "cell_type": "code",
   "execution_count": 12,
   "id": "spectacular-carpet",
   "metadata": {},
   "outputs": [
    {
     "data": {
      "image/png": "[encoded data removed]",
      "text/plain": [
       "<Figure size 432x288 with 1 Axes>"
      ]
     },
     "metadata": {
      "needs_background": "light"
     },
     "output_type": "display_data"
    }
   ],
   "source": [
    "plt.plot(min_positives, recs, label=\"Recall\")\n",
    "plt.plot(min_positives, precs, label=\"Precision\")\n",
    "plt.plot(min_positives, f1s, label=\"F1-score\")\n",
    "plt.legend()\n",
    "plt.show()"
   ]
  },
  {
   "cell_type": "code",
   "execution_count": 13,
   "id": "documented-manufacturer",
   "metadata": {},
   "outputs": [],
   "source": [
    "accuracy = {}\n",
    "recall = {}\n",
    "precision = {}\n",
    "f1 = {}\n",
    "\n",
    "for subj in target_1:\n",
    "        #print(subj.upper())\n",
    "        y_pred = svcs[subj].predict_proba(X_test_transformed)\n",
    "        y_pred = [1 if x[1] > 0.2 else 0 for x in y_pred]\n",
    "        accuracy[subj] = accuracy_score(y_test[subj], y_pred)\n",
    "        recall[subj] = recall_score(y_test[subj], y_pred, zero_division=0)\n",
    "        precision[subj] = precision_score(y_test[subj], y_pred, zero_division=0)\n",
    "        f1[subj] = f1_score(y_test[subj], y_pred, zero_division=0)"
   ]
  },
  {
   "cell_type": "code",
   "execution_count": 14,
   "id": "strategic-evidence",
   "metadata": {},
   "outputs": [
    {
     "name": "stdout",
     "output_type": "stream",
     "text": [
      "Average accuracy: 0.9377509028302677\n",
      "Average recall: 0.7640338962375949\n",
      "Average precision: 0.6169322927930233\n",
      "Average F1-score: 0.681844613591729\n"
     ]
    }
   ],
   "source": [
    "print(f\"Average accuracy: {np.mean(list(accuracy.values()))}\")\n",
    "print(f\"Average recall: {np.mean(list(recall.values()))}\")\n",
    "print(f\"Average precision: {np.mean(list(precision.values()))}\")\n",
    "print(f\"Average F1-score: {np.mean(list(f1.values()))}\")"
   ]
  },
  {
   "cell_type": "markdown",
   "id": "needed-lafayette",
   "metadata": {},
   "source": [
    "# Subject с фичей field"
   ]
  },
  {
   "cell_type": "code",
   "execution_count": 15,
   "id": "anonymous-amsterdam",
   "metadata": {},
   "outputs": [],
   "source": [
    "X_test_copy = pd.DataFrame(X_test.copy())\n",
    "\n",
    "for field in target_1:\n",
    "    y_pred = svcs[field].predict_proba(X_test_transformed)\n",
    "    y_pred = [1 if x[1] > 0.2 else 0 for x in y_pred]\n",
    "    X_test_copy[f\"{field}_pred\"] = y_pred"
   ]
  },
  {
   "cell_type": "code",
   "execution_count": 16,
   "id": "frank-opposition",
   "metadata": {},
   "outputs": [
    {
     "data": {
      "text/html": [
       "<div>\n",
       "<style scoped>\n",
       "    .dataframe tbody tr th:only-of-type {\n",
       "        vertical-align: middle;\n",
       "    }\n",
       "\n",
       "    .dataframe tbody tr th {\n",
       "        vertical-align: top;\n",
       "    }\n",
       "\n",
       "    .dataframe thead th {\n",
       "        text-align: right;\n",
       "    }\n",
       "</style>\n",
       "<table border=\"1\" class=\"dataframe\">\n",
       "  <thead>\n",
       "    <tr style=\"text-align: right;\">\n",
       "      <th></th>\n",
       "      <th>cleaned_abstract</th>\n",
       "      <th>field_Art_pred</th>\n",
       "      <th>field_Biology_pred</th>\n",
       "      <th>field_Business_pred</th>\n",
       "      <th>field_Chemistry_pred</th>\n",
       "      <th>field_Geology_pred</th>\n",
       "      <th>field_Humanities_pred</th>\n",
       "      <th>field_Math_pred</th>\n",
       "      <th>field_Medicine_pred</th>\n",
       "      <th>field_Physics_pred</th>\n",
       "      <th>field_Psychology_pred</th>\n",
       "      <th>field_Social_pred</th>\n",
       "      <th>field_Tech_pred</th>\n",
       "    </tr>\n",
       "  </thead>\n",
       "  <tbody>\n",
       "    <tr>\n",
       "      <th>2169349</th>\n",
       "      <td>recent developments of two color operation mod...</td>\n",
       "      <td>0</td>\n",
       "      <td>1</td>\n",
       "      <td>0</td>\n",
       "      <td>1</td>\n",
       "      <td>0</td>\n",
       "      <td>0</td>\n",
       "      <td>0</td>\n",
       "      <td>0</td>\n",
       "      <td>1</td>\n",
       "      <td>0</td>\n",
       "      <td>0</td>\n",
       "      <td>1</td>\n",
       "    </tr>\n",
       "    <tr>\n",
       "      <th>2127117</th>\n",
       "      <td>abstract a previously described clin chem 18 7...</td>\n",
       "      <td>0</td>\n",
       "      <td>1</td>\n",
       "      <td>0</td>\n",
       "      <td>1</td>\n",
       "      <td>0</td>\n",
       "      <td>0</td>\n",
       "      <td>0</td>\n",
       "      <td>0</td>\n",
       "      <td>0</td>\n",
       "      <td>0</td>\n",
       "      <td>0</td>\n",
       "      <td>0</td>\n",
       "    </tr>\n",
       "    <tr>\n",
       "      <th>1814592</th>\n",
       "      <td>abstract several aspects of the integration of...</td>\n",
       "      <td>0</td>\n",
       "      <td>0</td>\n",
       "      <td>0</td>\n",
       "      <td>0</td>\n",
       "      <td>0</td>\n",
       "      <td>0</td>\n",
       "      <td>0</td>\n",
       "      <td>0</td>\n",
       "      <td>1</td>\n",
       "      <td>0</td>\n",
       "      <td>0</td>\n",
       "      <td>0</td>\n",
       "    </tr>\n",
       "    <tr>\n",
       "      <th>636757</th>\n",
       "      <td>the numerical simulation was carried out to in...</td>\n",
       "      <td>0</td>\n",
       "      <td>0</td>\n",
       "      <td>0</td>\n",
       "      <td>0</td>\n",
       "      <td>0</td>\n",
       "      <td>0</td>\n",
       "      <td>0</td>\n",
       "      <td>0</td>\n",
       "      <td>1</td>\n",
       "      <td>0</td>\n",
       "      <td>0</td>\n",
       "      <td>0</td>\n",
       "    </tr>\n",
       "    <tr>\n",
       "      <th>1857615</th>\n",
       "      <td>we proceed towards an application of the mathe...</td>\n",
       "      <td>0</td>\n",
       "      <td>0</td>\n",
       "      <td>0</td>\n",
       "      <td>0</td>\n",
       "      <td>0</td>\n",
       "      <td>0</td>\n",
       "      <td>1</td>\n",
       "      <td>0</td>\n",
       "      <td>1</td>\n",
       "      <td>1</td>\n",
       "      <td>0</td>\n",
       "      <td>0</td>\n",
       "    </tr>\n",
       "  </tbody>\n",
       "</table>\n",
       "</div>"
      ],
      "text/plain": [
       "                                          cleaned_abstract  field_Art_pred  \\\n",
       "2169349  recent developments of two color operation mod...               0   \n",
       "2127117  abstract a previously described clin chem 18 7...               0   \n",
       "1814592  abstract several aspects of the integration of...               0   \n",
       "636757   the numerical simulation was carried out to in...               0   \n",
       "1857615  we proceed towards an application of the mathe...               0   \n",
       "\n",
       "         field_Biology_pred  field_Business_pred  field_Chemistry_pred  \\\n",
       "2169349                   1                    0                     1   \n",
       "2127117                   1                    0                     1   \n",
       "1814592                   0                    0                     0   \n",
       "636757                    0                    0                     0   \n",
       "1857615                   0                    0                     0   \n",
       "\n",
       "         field_Geology_pred  field_Humanities_pred  field_Math_pred  \\\n",
       "2169349                   0                      0                0   \n",
       "2127117                   0                      0                0   \n",
       "1814592                   0                      0                0   \n",
       "636757                    0                      0                0   \n",
       "1857615                   0                      0                1   \n",
       "\n",
       "         field_Medicine_pred  field_Physics_pred  field_Psychology_pred  \\\n",
       "2169349                    0                   1                      0   \n",
       "2127117                    0                   0                      0   \n",
       "1814592                    0                   1                      0   \n",
       "636757                     0                   1                      0   \n",
       "1857615                    0                   1                      1   \n",
       "\n",
       "         field_Social_pred  field_Tech_pred  \n",
       "2169349                  0                1  \n",
       "2127117                  0                0  \n",
       "1814592                  0                0  \n",
       "636757                   0                0  \n",
       "1857615                  0                0  "
      ]
     },
     "execution_count": 16,
     "metadata": {},
     "output_type": "execute_result"
    }
   ],
   "source": [
    "X_test_copy.sample(5)"
   ]
  },
  {
   "cell_type": "markdown",
   "id": "offshore-hydrogen",
   "metadata": {},
   "source": [
    "И начинаем предсказывать сабжекты:"
   ]
  },
  {
   "cell_type": "code",
   "execution_count": 17,
   "id": "perceived-cycling",
   "metadata": {},
   "outputs": [],
   "source": [
    "target_2 = [column for column in df.columns if \"subj_\" in column]\n",
    "X_train, X_test, y_train, y_test = train_test_split(df[[\"cleaned_abstract\"] + target_1], df[target_2],\n",
    "                                                    train_size=0.08, test_size=0.02,\n",
    "                                                    random_state=42)"
   ]
  },
  {
   "cell_type": "code",
   "execution_count": 18,
   "id": "anticipated-lodge",
   "metadata": {},
   "outputs": [],
   "source": [
    "y_train_subjs = {\n",
    "    subj: y_train[subj] for subj in target_2\n",
    "}"
   ]
  },
  {
   "cell_type": "code",
   "execution_count": 19,
   "id": "optional-appreciation",
   "metadata": {},
   "outputs": [],
   "source": [
    "vectorizer = TfidfVectorizer(ngram_range=(1, 2))\n",
    "X_train_transformed = vectorizer.fit_transform(X_train[\"cleaned_abstract\"])"
   ]
  },
  {
   "cell_type": "code",
   "execution_count": 20,
   "id": "industrial-liquid",
   "metadata": {},
   "outputs": [],
   "source": [
    "from scipy import sparse\n",
    "\n",
    "X_train_stacked = sparse.hstack((\n",
    "    X_train_transformed,\n",
    "    sparse.csr_matrix(X_train[target_1])\n",
    "))"
   ]
  },
  {
   "cell_type": "code",
   "execution_count": null,
   "id": "smart-affect",
   "metadata": {
    "scrolled": true,
    "tags": []
   },
   "outputs": [
    {
     "name": "stderr",
     "output_type": "stream",
     "text": [
      "100%|██████████| 200/200 [12:00<00:00,  3.60s/it]\n"
     ]
    }
   ],
   "source": [
    "import threading\n",
    "from tqdm import tqdm\n",
    "\n",
    "def fit_svc(field, svc):\n",
    "    #print(f'Fitting {field} SVM')\n",
    "    svc.fit(X_train_stacked, y_train_subjs[field])\n",
    "    #print(f'Done fitting {field} SVM')\n",
    "    # -mt suffix so it doesn't conflict with the first notebook\n",
    "    filename = f'subj_svc_en/{field}-mt.pkl'\n",
    "    with open(filename, 'wb') as f:\n",
    "        pickle.dump(svc, f)\n",
    "    print(f'Saved {filename}')\n",
    "\n",
    "\n",
    "tasks = []\n",
    "\n",
    "subj_svcs = {\n",
    "    subj: CalibratedClassifierCV(\n",
    "        LinearSVC(random_state=123)\n",
    "    ) for subj in target_2\n",
    "}\n",
    "\n",
    "for subj, svc in tqdm(subj_svcs.items()):\n",
    "    task = threading.Thread(\n",
    "        target=fit_svc,\n",
    "        args=(subj, svc),\n",
    "        daemon=True,\n",
    "    )\n",
    "    task.start()\n",
    "    tasks.append(task)\n",
    "\n",
    "for task in tasks:\n",
    "    task.join()"
   ]
  },
  {
   "cell_type": "code",
   "execution_count": null,
   "id": "center-conservative",
   "metadata": {},
   "outputs": [],
   "source": [
    "X_test_transformed.shape, X_train_transformed.shape"
   ]
  },
  {
   "cell_type": "code",
   "execution_count": null,
   "id": "proof-sudan",
   "metadata": {},
   "outputs": [],
   "source": [
    "X_test_stacked.shape, X_train_stacked.shape"
   ]
  },
  {
   "cell_type": "code",
   "execution_count": 26,
   "id": "cooperative-arcade",
   "metadata": {},
   "outputs": [],
   "source": [
    "X_test_transformed = vectorizer.transform(X_test[\"cleaned_abstract\"])\n",
    "\n",
    "X_test_stacked = sparse.hstack((\n",
    "    X_test_transformed,\n",
    "    sparse.csr_matrix(X_test[target_1])\n",
    "))"
   ]
  },
  {
   "cell_type": "code",
   "execution_count": 31,
   "id": "funded-relation",
   "metadata": {},
   "outputs": [
    {
     "data": {
      "application/vnd.jupyter.widget-view+json": {
       "model_id": "d965f783c18f4131a0f934b8e76ca1b7",
       "version_major": 2,
       "version_minor": 0
      },
      "text/plain": [
       "  0%|          | 0/9 [00:00<?, ?it/s]"
      ]
     },
     "metadata": {},
     "output_type": "display_data"
    },
    {
     "data": {
      "application/vnd.jupyter.widget-view+json": {
       "model_id": "6a8fce8efb1944e19c4d6209146be4ba",
       "version_major": 2,
       "version_minor": 0
      },
      "text/plain": [
       "  0%|          | 0/200 [00:00<?, ?it/s]"
      ]
     },
     "metadata": {},
     "output_type": "display_data"
    },
    {
     "data": {
      "application/vnd.jupyter.widget-view+json": {
       "model_id": "22032072e43e4b629148e892139b885e",
       "version_major": 2,
       "version_minor": 0
      },
      "text/plain": [
       "  0%|          | 0/200 [00:00<?, ?it/s]"
      ]
     },
     "metadata": {},
     "output_type": "display_data"
    },
    {
     "data": {
      "application/vnd.jupyter.widget-view+json": {
       "model_id": "489137da963c405f8e36dd9f4958e1c5",
       "version_major": 2,
       "version_minor": 0
      },
      "text/plain": [
       "  0%|          | 0/200 [00:00<?, ?it/s]"
      ]
     },
     "metadata": {},
     "output_type": "display_data"
    },
    {
     "data": {
      "application/vnd.jupyter.widget-view+json": {
       "model_id": "c75cb08c8f644017b97038745f69b352",
       "version_major": 2,
       "version_minor": 0
      },
      "text/plain": [
       "  0%|          | 0/200 [00:00<?, ?it/s]"
      ]
     },
     "metadata": {},
     "output_type": "display_data"
    },
    {
     "data": {
      "application/vnd.jupyter.widget-view+json": {
       "model_id": "28b4caf11790418eaf2a5a9266ebbd06",
       "version_major": 2,
       "version_minor": 0
      },
      "text/plain": [
       "  0%|          | 0/200 [00:00<?, ?it/s]"
      ]
     },
     "metadata": {},
     "output_type": "display_data"
    },
    {
     "data": {
      "application/vnd.jupyter.widget-view+json": {
       "model_id": "6129d6b7888341ed86d418c0e4ce9b1e",
       "version_major": 2,
       "version_minor": 0
      },
      "text/plain": [
       "  0%|          | 0/200 [00:00<?, ?it/s]"
      ]
     },
     "metadata": {},
     "output_type": "display_data"
    },
    {
     "data": {
      "application/vnd.jupyter.widget-view+json": {
       "model_id": "ecd042949454456ba31114f4229f112c",
       "version_major": 2,
       "version_minor": 0
      },
      "text/plain": [
       "  0%|          | 0/200 [00:00<?, ?it/s]"
      ]
     },
     "metadata": {},
     "output_type": "display_data"
    },
    {
     "data": {
      "application/vnd.jupyter.widget-view+json": {
       "model_id": "ad2e067f45aa4052ab1fdf7ca7f94a71",
       "version_major": 2,
       "version_minor": 0
      },
      "text/plain": [
       "  0%|          | 0/200 [00:00<?, ?it/s]"
      ]
     },
     "metadata": {},
     "output_type": "display_data"
    },
    {
     "data": {
      "application/vnd.jupyter.widget-view+json": {
       "model_id": "1301142bf6304e11b44c7b5990cc12db",
       "version_major": 2,
       "version_minor": 0
      },
      "text/plain": [
       "  0%|          | 0/200 [00:00<?, ?it/s]"
      ]
     },
     "metadata": {},
     "output_type": "display_data"
    }
   ],
   "source": [
    "from tqdm.notebook import tqdm\n",
    "\n",
    "\n",
    "accuracy = {}\n",
    "recall = {}\n",
    "precision = {}\n",
    "f1 = {}\n",
    "\n",
    "accs = []\n",
    "recs = []\n",
    "precs = []\n",
    "f1s = []\n",
    "\n",
    "min_positives = np.arange(start=0.05, stop=0.5, step=0.05)\n",
    "for min_positive in tqdm(min_positives):\n",
    "    for subj in tqdm(target_2):\n",
    "        y_pred = subj_svcs[subj].predict_proba(X_test_stacked)\n",
    "\n",
    "        y_pred = [1 if x[1] > min_positive else 0 for x in y_pred]\n",
    "        accuracy[subj] = accuracy_score(y_test[subj], y_pred)\n",
    "        recall[subj] = recall_score(y_test[subj], y_pred, zero_division=0)\n",
    "        precision[subj] = precision_score(y_test[subj], y_pred, zero_division=0)\n",
    "        f1[subj] = f1_score(y_test[subj], y_pred, zero_division=0)\n",
    "    \n",
    "    accs.append(np.mean(list(accuracy.values())))\n",
    "    recs.append(np.mean(list(recall.values())))\n",
    "    precs.append(np.mean(list(precision.values())))\n",
    "    f1s.append(np.mean(list(f1.values())))"
   ]
  },
  {
   "cell_type": "code",
   "execution_count": 32,
   "id": "gross-illinois",
   "metadata": {},
   "outputs": [
    {
     "data": {
      "image/png": "[encoded data removed]",
      "text/plain": [
       "<Figure size 720x720 with 4 Axes>"
      ]
     },
     "metadata": {
      "needs_background": "light"
     },
     "output_type": "display_data"
    }
   ],
   "source": [
    "fig, axs = plt.subplots(2, 2, figsize=(10, 10))\n",
    "\n",
    "axs[0, 0].plot(min_positives, accs)\n",
    "axs[0, 0].set_title(\"Accuracy\")\n",
    "\n",
    "axs[0, 1].plot(min_positives, recs)\n",
    "axs[0, 1].set_title(\"Recall\")\n",
    "\n",
    "axs[1, 0].plot(min_positives, precs)\n",
    "axs[1, 0].set_title(\"Precision\")\n",
    "\n",
    "axs[1, 1].plot(min_positives, f1s)\n",
    "axs[1, 1].set_title(\"F1-score\")\n",
    "\n",
    "plt.show()"
   ]
  },
  {
   "cell_type": "code",
   "execution_count": 33,
   "id": "classical-arizona",
   "metadata": {},
   "outputs": [
    {
     "data": {
      "image/png": "[encoded data removed]",
      "text/plain": [
       "<Figure size 432x288 with 1 Axes>"
      ]
     },
     "metadata": {
      "needs_background": "light"
     },
     "output_type": "display_data"
    }
   ],
   "source": [
    "plt.plot(min_positives, recs, label=\"Recall\")\n",
    "plt.plot(min_positives, precs, label=\"Precision\")\n",
    "plt.plot(min_positives, f1s, label=\"F1-score\")\n",
    "plt.legend()\n",
    "plt.show()"
   ]
  },
  {
   "cell_type": "code",
   "execution_count": 34,
   "id": "seventh-chuck",
   "metadata": {},
   "outputs": [
    {
     "data": {
      "text/plain": [
       "0.45"
      ]
     },
     "execution_count": 34,
     "metadata": {},
     "output_type": "execute_result"
    }
   ],
   "source": [
    "min_positive"
   ]
  },
  {
   "cell_type": "code",
   "execution_count": 35,
   "id": "logical-museum",
   "metadata": {},
   "outputs": [
    {
     "name": "stdout",
     "output_type": "stream",
     "text": [
      "Average accuracy: 0.9945287226001511\n",
      "Average recall: 0.6219216210245879\n",
      "Average precision: 0.7469243499789894\n",
      "Average F1-score: 0.6712064898485999\n"
     ]
    }
   ],
   "source": [
    "print(f\"Average accuracy: {np.mean(list(accuracy.values()))}\")\n",
    "print(f\"Average recall: {np.mean(list(recall.values()))}\")\n",
    "print(f\"Average precision: {np.mean(list(precision.values()))}\")\n",
    "print(f\"Average F1-score: {np.mean(list(f1.values()))}\")"
   ]
  },
  {
   "cell_type": "code",
   "execution_count": 38,
   "id": "regulation-disposal",
   "metadata": {},
   "outputs": [
    {
     "data": {
      "application/vnd.jupyter.widget-view+json": {
       "model_id": "91d607ac0b9344da8671cd26a86f2fc2",
       "version_major": 2,
       "version_minor": 0
      },
      "text/plain": [
       "  0%|          | 0/200 [00:00<?, ?it/s]"
      ]
     },
     "metadata": {},
     "output_type": "display_data"
    }
   ],
   "source": [
    "for subj in tqdm(target_2):\n",
    "    y_pred = subj_svcs[subj].predict_proba(X_test_stacked)\n",
    "\n",
    "    y_pred = [1 if x[1] > 0.2 else 0 for x in y_pred]\n",
    "    accuracy[subj] = accuracy_score(y_test[subj], y_pred)\n",
    "    recall[subj] = recall_score(y_test[subj], y_pred, zero_division=0)\n",
    "    precision[subj] = precision_score(y_test[subj], y_pred, zero_division=0)\n",
    "    f1[subj] = f1_score(y_test[subj], y_pred, zero_division=0)\n",
    "    \n",
    "    accs.append(np.mean(list(accuracy.values())))\n",
    "    recs.append(np.mean(list(recall.values())))\n",
    "    precs.append(np.mean(list(precision.values())))\n",
    "    f1s.append(np.mean(list(f1.values())))"
   ]
  },
  {
   "cell_type": "code",
   "execution_count": 39,
   "id": "particular-jacob",
   "metadata": {},
   "outputs": [
    {
     "name": "stdout",
     "output_type": "stream",
     "text": [
      "Average accuracy: 0.9929981103552532\n",
      "Average recall: 0.7475783421311931\n",
      "Average precision: 0.6246624569967958\n",
      "Average F1-score: 0.6771389076524315\n"
     ]
    }
   ],
   "source": [
    "print(f\"Average accuracy: {np.mean(list(accuracy.values()))}\")\n",
    "print(f\"Average recall: {np.mean(list(recall.values()))}\")\n",
    "print(f\"Average precision: {np.mean(list(precision.values()))}\")\n",
    "print(f\"Average F1-score: {np.mean(list(f1.values()))}\")"
   ]
  },
  {
   "cell_type": "code",
   "execution_count": null,
   "id": "hybrid-ghost",
   "metadata": {},
   "outputs": [],
   "source": []
  }
 ],
 "metadata": {
  "kernelspec": {
   "display_name": "Python 3",
   "language": "python",
   "name": "python3"
  },
  "language_info": {
   "codemirror_mode": {
    "name": "ipython",
    "version": 3
   },
   "file_extension": ".py",
   "mimetype": "text/x-python",
   "name": "python",
   "nbconvert_exporter": "python",
   "pygments_lexer": "ipython3",
   "version": "3.8.6"
  }
 },
 "nbformat": 4,
 "nbformat_minor": 5
}
